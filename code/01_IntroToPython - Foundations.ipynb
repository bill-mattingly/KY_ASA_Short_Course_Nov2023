{
 "cells": [
  {
   "cell_type": "markdown",
   "metadata": {},
   "source": [
    "# Housekeeping Items: \n",
    "\n",
    "Take note of the building code (to be shared in the room). You will need it to reenter the building if you leave during breaks.\n",
    "\n",
    "**Building code: 0940**\n",
    "\n"
   ]
  },
  {
   "cell_type": "markdown",
   "metadata": {},
   "source": [
    "# As a user of R, why should I learn python?\n",
    "**Collaboration:** Python has become a popular language for data sience, so it is more likely that your coworkers and collaborators will be using Python. If you can code in Python, you will be able to collaborate more effectively with them.\n",
    "\n",
    "\n",
    "Other reasons:\n",
    " - Easy(easier) to learn and use, with a simple and readable syntax.\n",
    " - General-purpose language, can be used for a wide variety of tasks, including web development, data science, machine learning, and artificial intelligence.\n",
    " - In high demand, with many job opportunities available for Python developers.\n",
    " - Free and open source, anyone can use and distribute Python without paying any fees.\n",
    " - Has a large and active community of developers, with many libraries and tools available."
   ]
  },
  {
   "cell_type": "markdown",
   "metadata": {},
   "source": [
    "# Mathematical Operators in Python"
   ]
  },
  {
   "cell_type": "markdown",
   "metadata": {},
   "source": [
    "### Addition Operator in Python:"
   ]
  },
  {
   "cell_type": "code",
   "execution_count": 1,
   "metadata": {},
   "outputs": [
    {
     "data": {
      "text/plain": [
       "8"
      ]
     },
     "execution_count": 1,
     "metadata": {},
     "output_type": "execute_result"
    }
   ],
   "source": [
    "1 + 7 "
   ]
  },
  {
   "cell_type": "markdown",
   "metadata": {},
   "source": [
    "### Subtraction Operator in Python:"
   ]
  },
  {
   "cell_type": "code",
   "execution_count": 2,
   "metadata": {},
   "outputs": [
    {
     "data": {
      "text/plain": [
       "-7"
      ]
     },
     "execution_count": 2,
     "metadata": {},
     "output_type": "execute_result"
    }
   ],
   "source": [
    "1 - 8"
   ]
  },
  {
   "cell_type": "markdown",
   "metadata": {},
   "source": [
    "### Multiplication Operator in Python:"
   ]
  },
  {
   "cell_type": "code",
   "execution_count": 3,
   "metadata": {},
   "outputs": [
    {
     "data": {
      "text/plain": [
       "600"
      ]
     },
     "execution_count": 3,
     "metadata": {},
     "output_type": "execute_result"
    }
   ],
   "source": [
    "200 * 3"
   ]
  },
  {
   "cell_type": "markdown",
   "metadata": {},
   "source": [
    "### Division Operator in Python:"
   ]
  },
  {
   "cell_type": "code",
   "execution_count": 4,
   "metadata": {
    "scrolled": true
   },
   "outputs": [
    {
     "data": {
      "text/plain": [
       "5.625"
      ]
     },
     "execution_count": 4,
     "metadata": {},
     "output_type": "execute_result"
    }
   ],
   "source": [
    "45 / 8"
   ]
  },
  {
   "cell_type": "markdown",
   "metadata": {},
   "source": [
    "### Exponentiation (raising to a power) Operator in Python:\n",
    "\n",
    "Note: the operator `^` is used in R for this purpose"
   ]
  },
  {
   "cell_type": "code",
   "execution_count": 5,
   "metadata": {
    "scrolled": true
   },
   "outputs": [
    {
     "data": {
      "text/plain": [
       "9"
      ]
     },
     "execution_count": 5,
     "metadata": {},
     "output_type": "execute_result"
    }
   ],
   "source": [
    "3**2"
   ]
  },
  {
   "cell_type": "code",
   "execution_count": 6,
   "metadata": {},
   "outputs": [
    {
     "data": {
      "text/plain": [
       "9"
      ]
     },
     "execution_count": 6,
     "metadata": {},
     "output_type": "execute_result"
    }
   ],
   "source": [
    "3 ** 2 # space does not matter here"
   ]
  },
  {
   "cell_type": "markdown",
   "metadata": {},
   "source": [
    "### Floor Division Operator in Python:"
   ]
  },
  {
   "cell_type": "markdown",
   "metadata": {},
   "source": [
    "Note: The floor division operator in R is `%/%`."
   ]
  },
  {
   "cell_type": "code",
   "execution_count": 7,
   "metadata": {},
   "outputs": [
    {
     "data": {
      "text/plain": [
       "3.5"
      ]
     },
     "execution_count": 7,
     "metadata": {},
     "output_type": "execute_result"
    }
   ],
   "source": [
    "7 / 2"
   ]
  },
  {
   "cell_type": "code",
   "execution_count": 8,
   "metadata": {},
   "outputs": [
    {
     "data": {
      "text/plain": [
       "3"
      ]
     },
     "execution_count": 8,
     "metadata": {},
     "output_type": "execute_result"
    }
   ],
   "source": [
    "7 // 2"
   ]
  },
  {
   "cell_type": "markdown",
   "metadata": {},
   "source": [
    "Using floor function in the numpy library/package. Note in R, the function `floor()` is available to use out of the box (i.e., it is part of base R). "
   ]
  },
  {
   "cell_type": "code",
   "execution_count": 9,
   "metadata": {},
   "outputs": [],
   "source": [
    "import numpy as np"
   ]
  },
  {
   "cell_type": "code",
   "execution_count": 10,
   "metadata": {},
   "outputs": [
    {
     "data": {
      "text/plain": [
       "3.0"
      ]
     },
     "execution_count": 10,
     "metadata": {},
     "output_type": "execute_result"
    }
   ],
   "source": [
    "np.floor(7/2)"
   ]
  },
  {
   "cell_type": "code",
   "execution_count": 11,
   "metadata": {},
   "outputs": [
    {
     "name": "stdout",
     "output_type": "stream",
     "text": [
      "Help on built-in function divmod in module builtins:\n",
      "\n",
      "divmod(x, y, /)\n",
      "    Return the tuple (x//y, x%y).  Invariant: div*y + mod == x.\n",
      "\n"
     ]
    }
   ],
   "source": [
    "help(divmod)"
   ]
  },
  {
   "cell_type": "code",
   "execution_count": 12,
   "metadata": {},
   "outputs": [
    {
     "data": {
      "text/plain": [
       "(3, 1)"
      ]
     },
     "execution_count": 12,
     "metadata": {},
     "output_type": "execute_result"
    }
   ],
   "source": [
    "divmod(7, 2) #output is a tupule"
   ]
  },
  {
   "cell_type": "code",
   "execution_count": null,
   "metadata": {},
   "outputs": [],
   "source": []
  },
  {
   "cell_type": "markdown",
   "metadata": {},
   "source": [
    "### Modulo Operator in Python:"
   ]
  },
  {
   "cell_type": "markdown",
   "metadata": {},
   "source": [
    "Note: this is achieved via the operator `%%` in R."
   ]
  },
  {
   "cell_type": "code",
   "execution_count": 13,
   "metadata": {},
   "outputs": [
    {
     "data": {
      "text/plain": [
       "3.5"
      ]
     },
     "execution_count": 13,
     "metadata": {},
     "output_type": "execute_result"
    }
   ],
   "source": [
    "7 / 2"
   ]
  },
  {
   "cell_type": "code",
   "execution_count": 14,
   "metadata": {},
   "outputs": [],
   "source": [
    "#7/2 is 3 remainder 1"
   ]
  },
  {
   "cell_type": "code",
   "execution_count": 15,
   "metadata": {},
   "outputs": [
    {
     "data": {
      "text/plain": [
       "1"
      ]
     },
     "execution_count": 15,
     "metadata": {},
     "output_type": "execute_result"
    }
   ],
   "source": [
    "7 % 2"
   ]
  },
  {
   "cell_type": "markdown",
   "metadata": {},
   "source": [
    "# Importing/loading packages "
   ]
  },
  {
   "cell_type": "code",
   "execution_count": 16,
   "metadata": {},
   "outputs": [],
   "source": [
    "import numpy as np\n"
   ]
  },
  {
   "cell_type": "markdown",
   "metadata": {},
   "source": [
    "The `import numpy as np` statement imports the entire NumPy module. This means that you can access any of the functions and variables in the NumPy module by simply using their names. For example, to access the NumPy sin() function, you would use the following code:"
   ]
  },
  {
   "cell_type": "code",
   "execution_count": 17,
   "metadata": {},
   "outputs": [
    {
     "data": {
      "text/plain": [
       "1.0"
      ]
     },
     "execution_count": 17,
     "metadata": {},
     "output_type": "execute_result"
    }
   ],
   "source": [
    "np.sin(np.pi / 2)"
   ]
  },
  {
   "cell_type": "code",
   "execution_count": 18,
   "metadata": {},
   "outputs": [],
   "source": [
    "import math\n",
    "from matplotlib import pyplot as plt\n",
    "import matplotlib.pyplot as plt\n",
    "import scipy.stats as stats"
   ]
  },
  {
   "cell_type": "markdown",
   "metadata": {},
   "source": [
    "The `import math` statement imports the entire math module. This means that you can access any of the functions and variables in the math module by simply using their names. For example, to access the math e constant, you would use the following code:"
   ]
  },
  {
   "cell_type": "code",
   "execution_count": 19,
   "metadata": {},
   "outputs": [
    {
     "data": {
      "text/plain": [
       "2.718281828459045"
      ]
     },
     "execution_count": 19,
     "metadata": {},
     "output_type": "execute_result"
    }
   ],
   "source": [
    "math.e"
   ]
  },
  {
   "cell_type": "code",
   "execution_count": 20,
   "metadata": {},
   "outputs": [
    {
     "data": {
      "text/plain": [
       "3"
      ]
     },
     "execution_count": 20,
     "metadata": {},
     "output_type": "execute_result"
    }
   ],
   "source": [
    "math.ceil(math.e)"
   ]
  },
  {
   "cell_type": "markdown",
   "metadata": {},
   "source": [
    "The `from matplotlib import pyplot as plt` statement imports only the pyplot submodule of the Matplotlib module. This means that you can access any of the functions and variables in the pyplot submodule by simply using their names. For example, to plot a line graph, you would use the following code:"
   ]
  },
  {
   "cell_type": "code",
   "execution_count": 21,
   "metadata": {},
   "outputs": [
    {
     "data": {
      "text/plain": [
       "<module 'matplotlib.pyplot' from 'C:\\\\Users\\\\bpkin\\\\anaconda3\\\\Lib\\\\site-packages\\\\matplotlib\\\\pyplot.py'>"
      ]
     },
     "execution_count": 21,
     "metadata": {},
     "output_type": "execute_result"
    },
    {
     "data": {
      "image/png": "[encoded data removed]",
      "text/plain": [
       "<Figure size 640x480 with 1 Axes>"
      ]
     },
     "metadata": {},
     "output_type": "display_data"
    }
   ],
   "source": [
    "plt.plot([1, 2, 3], [4, 5, 6])\n",
    "plt"
   ]
  },
  {
   "cell_type": "markdown",
   "metadata": {},
   "source": [
    "The `import matplotlib.pyplot as plt` is the same as the previous import statement, but it is less common."
   ]
  },
  {
   "cell_type": "markdown",
   "metadata": {},
   "source": [
    "# Installing packages"
   ]
  },
  {
   "cell_type": "markdown",
   "metadata": {},
   "source": [
    "**pip user guide:** https://pip.pypa.io/en/stable/user_guide/"
   ]
  },
  {
   "cell_type": "markdown",
   "metadata": {},
   "source": [
    "**What is pip?**\n",
    "\n",
    "`Pip` is the default package manager for Python. It allows you to install, uninstall, and manage Python packages from the Python Package Index (PyPI).\n",
    "\n",
    "_How to install pip_\n",
    "\n",
    "Pip comes pre installed with the anaconda distribution of python. If `pip` is not already installed on your system, you can install it using the following command. This is meant to be run on a command prompt (e.g., Anaconda prompt) or shell/console.\n",
    "\n",
    "    `python -m pip install --upgrade pip`\n",
    "\n",
    "_How to use pip_\n",
    "\n",
    "Once pip is installed, you can use it to install, uninstall, and manage Python packages.\n",
    "\n",
    "To install a package, use the following command:\n",
    "\n",
    "    `pip install --user package_name`\n",
    "\n",
    "This will install the package. The --user flag ensuers that package is only installed for your user.\n",
    "\n",
    "To uninstall a package, use the following command:\n",
    "\n",
    "    `pip uninstall package_name`\n",
    "\n",
    "\n",
    "To list all of the packages that are installed on your system, use the following command:\n",
    "\n",
    "    `pip list`\n",
    "To search for a package on PyPI, use the following command:\n",
    "\n",
    "    `pip search package_name`"
   ]
  },
  {
   "cell_type": "markdown",
   "metadata": {},
   "source": [
    "More reading on installing packages: \n",
    "- Installing packages: \n",
    "    - https://packaging.python.org/en/latest/tutorials/installing-packages/#installing-packages\n",
    "- Installing global packages using `pipx`\n",
    "    - https://packaging.python.org/en/latest/guides/installing-stand-alone-command-line-tools/\n",
    "- Managing dependencies: \n",
    "    - https://packaging.python.org/en/latest/tutorials/managing-dependencies/"
   ]
  },
  {
   "cell_type": "markdown",
   "metadata": {},
   "source": [
    "# Python variable assignments"
   ]
  },
  {
   "cell_type": "markdown",
   "metadata": {},
   "source": [
    "Variable assignment  is the process of giving a name to a value so that you can refer to it later."
   ]
  },
  {
   "cell_type": "markdown",
   "metadata": {},
   "source": [
    "*Assignment operator*:\n",
    "- Python: `=`\n",
    "    - e.g, `x = 10`\n",
    "- R: `<-` or `=`: \n",
    "    - e.g., `x <- 10`\n",
    "\n",
    "In R, the assignment operator  `<-` is typically used over `=` operator, with `=` used to assign values to function arguments… e.g., `y <- log(x = 1)`."
   ]
  },
  {
   "cell_type": "code",
   "execution_count": 22,
   "metadata": {},
   "outputs": [],
   "source": [
    "student_age = 25"
   ]
  },
  {
   "cell_type": "code",
   "execution_count": 23,
   "metadata": {},
   "outputs": [
    {
     "name": "stdout",
     "output_type": "stream",
     "text": [
      "25\n"
     ]
    }
   ],
   "source": [
    "print(student_age)"
   ]
  },
  {
   "cell_type": "code",
   "execution_count": 24,
   "metadata": {},
   "outputs": [
    {
     "name": "stdout",
     "output_type": "stream",
     "text": [
      "Friday\n"
     ]
    }
   ],
   "source": [
    "lecture_day = 'Friday'\n",
    "print(lecture_day)"
   ]
  },
  {
   "cell_type": "code",
   "execution_count": 25,
   "metadata": {},
   "outputs": [
    {
     "name": "stdout",
     "output_type": "stream",
     "text": [
      " The profit for 2023 is 5134.6875\n"
     ]
    }
   ],
   "source": [
    "sales_amt_2023 = 34_231.25\n",
    "profit_margin = 0.15\n",
    "\n",
    "print(f\" The profit for 2023 is {sales_amt_2023 * 0.15}\")"
   ]
  },
  {
   "cell_type": "markdown",
   "metadata": {},
   "source": [
    "Note the use of the **f-string** in the print statement. Enclose a string literal in f-quotes. Inside the string literal, you can write a Python expression between curly braces `{}`. The Python expression will be evaluated and the result will be inserted into the string literal."
   ]
  },
  {
   "cell_type": "code",
   "execution_count": 26,
   "metadata": {},
   "outputs": [
    {
     "name": "stdout",
     "output_type": "stream",
     "text": [
      "The profit margin is  15.00%.\n",
      " Sales amount and profit for 2023 are  34,231.25 \n",
      "      and  5134.69 respectively\n"
     ]
    }
   ],
   "source": [
    "profit_amt_2023 = sales_amt_2023 * 0.15\n",
    "\n",
    "#f-string currency format profit_amt_2023\n",
    "print(f\"The profit margin is {profit_margin: .2%}.\")\n",
    "\n",
    "print(f\"\"\" Sales amount and profit for 2023 are {sales_amt_2023: ,.2f} \n",
    "      and {profit_amt_2023: .2f} respectively\"\"\")"
   ]
  },
  {
   "cell_type": "markdown",
   "metadata": {},
   "source": [
    "## Python Variable Naming Convention\n",
    "\n",
    "Valid Python Variable Names: \n",
    "- Can contain lowercase and uppercase letters\n",
    "- Can contain numbers 0-9, but cannot start with a number\n",
    "- Can contain underscores\n"
   ]
  },
  {
   "cell_type": "markdown",
   "metadata": {},
   "source": [
    "Invalid variable names"
   ]
  },
  {
   "cell_type": "code",
   "execution_count": 27,
   "metadata": {},
   "outputs": [
    {
     "ename": "NameError",
     "evalue": "name 'lecture' is not defined",
     "output_type": "error",
     "traceback": [
      "\u001b[1;31m---------------------------------------------------------------------------\u001b[0m",
      "\u001b[1;31mNameError\u001b[0m                                 Traceback (most recent call last)",
      "Cell \u001b[1;32mIn[27], line 1\u001b[0m\n\u001b[1;32m----> 1\u001b[0m lecture\u001b[38;5;241m.\u001b[39mday \u001b[38;5;241m=\u001b[39m \u001b[38;5;124m'\u001b[39m\u001b[38;5;124mFriday\u001b[39m\u001b[38;5;124m'\u001b[39m\n",
      "\u001b[1;31mNameError\u001b[0m: name 'lecture' is not defined"
     ]
    }
   ],
   "source": [
    "lecture.day = 'Friday' #R allows such syntax - in fact very commonly used."
   ]
  },
  {
   "cell_type": "code",
   "execution_count": 28,
   "metadata": {},
   "outputs": [
    {
     "ename": "SyntaxError",
     "evalue": "invalid syntax (2669676585.py, line 1)",
     "output_type": "error",
     "traceback": [
      "\u001b[1;36m  Cell \u001b[1;32mIn[28], line 1\u001b[1;36m\u001b[0m\n\u001b[1;33m    student age = 25 # R does not allow this\u001b[0m\n\u001b[1;37m            ^\u001b[0m\n\u001b[1;31mSyntaxError\u001b[0m\u001b[1;31m:\u001b[0m invalid syntax\n"
     ]
    }
   ],
   "source": [
    "student age = 25 # R does not allow this"
   ]
  },
  {
   "cell_type": "code",
   "execution_count": 29,
   "metadata": {},
   "outputs": [
    {
     "ename": "SyntaxError",
     "evalue": "invalid decimal literal (1815467986.py, line 1)",
     "output_type": "error",
     "traceback": [
      "\u001b[1;36m  Cell \u001b[1;32mIn[29], line 1\u001b[1;36m\u001b[0m\n\u001b[1;33m    2023_sales_amt= 34231 # Not allowed in R as well\u001b[0m\n\u001b[1;37m        ^\u001b[0m\n\u001b[1;31mSyntaxError\u001b[0m\u001b[1;31m:\u001b[0m invalid decimal literal\n"
     ]
    }
   ],
   "source": [
    "2023_sales_amt= 34231 # Not allowed in R as well"
   ]
  },
  {
   "cell_type": "markdown",
   "metadata": {},
   "source": [
    "From Google’s Python style guide: https://google.github.io/styleguide/pyguide.html\n",
    "\n",
    "\"Function names, variable names, and filenames should be descriptive; avoid abbreviation. In particular,  do not use abbreviations that are ambiguous or unfamiliar to readers outside your project, and do not abbreviate by deleting letters within a word\"\n",
    "\n",
    "`module_name, package_name, ClassName, method_name, ExceptionName, function_name, GLOBAL_CONSTANT_NAME, global_var_name, instance_var_name, function_parameter_name, local_var_name, query_proper_noun_for_thing, send_acronym_via_https`\n",
    "\n",
    "\n",
    "Names to avoid: \n",
    "- Single character names, except for specifically allowed cases:\n",
    "    - counters or iterators (e.g., i, j, k, v, et al.)\n",
    "    - e as an exception identifier in try/except statements.\n",
    "    - f as a file handle in with statements\n",
    "\n",
    "- Dashes (-) in any package/module name\n",
    "\n",
    "- Double_leading_and_trailing_underscore names (reserved by Python: e.g., `__self__`)\n",
    "\n",
    "- Offensive terms\n",
    "\n",
    "\n",
    "\n"
   ]
  },
  {
   "cell_type": "markdown",
   "metadata": {},
   "source": [
    "# Python Built-in Data Types"
   ]
  },
  {
   "cell_type": "markdown",
   "metadata": {},
   "source": [
    "## String - `str`\n",
    "\n",
    "Analogous to `character` data types in R."
   ]
  },
  {
   "cell_type": "code",
   "execution_count": 30,
   "metadata": {},
   "outputs": [
    {
     "data": {
      "text/plain": [
       "str"
      ]
     },
     "execution_count": 30,
     "metadata": {},
     "output_type": "execute_result"
    }
   ],
   "source": [
    "state_name = 'Indiana'\n",
    "type(state_name)\n"
   ]
  },
  {
   "cell_type": "code",
   "execution_count": 31,
   "metadata": {},
   "outputs": [
    {
     "name": "stdout",
     "output_type": "stream",
     "text": [
      "Help on class type in module builtins:\n",
      "\n",
      "class type(object)\n",
      " |  type(object) -> the object's type\n",
      " |  type(name, bases, dict, **kwds) -> a new type\n",
      " |  \n",
      " |  Methods defined here:\n",
      " |  \n",
      " |  __call__(self, /, *args, **kwargs)\n",
      " |      Call self as a function.\n",
      " |  \n",
      " |  __delattr__(self, name, /)\n",
      " |      Implement delattr(self, name).\n",
      " |  \n",
      " |  __dir__(self, /)\n",
      " |      Specialized __dir__ implementation for types.\n",
      " |  \n",
      " |  __getattribute__(self, name, /)\n",
      " |      Return getattr(self, name).\n",
      " |  \n",
      " |  __init__(self, /, *args, **kwargs)\n",
      " |      Initialize self.  See help(type(self)) for accurate signature.\n",
      " |  \n",
      " |  __instancecheck__(self, instance, /)\n",
      " |      Check if an object is an instance.\n",
      " |  \n",
      " |  __or__(self, value, /)\n",
      " |      Return self|value.\n",
      " |  \n",
      " |  __repr__(self, /)\n",
      " |      Return repr(self).\n",
      " |  \n",
      " |  __ror__(self, value, /)\n",
      " |      Return value|self.\n",
      " |  \n",
      " |  __setattr__(self, name, value, /)\n",
      " |      Implement setattr(self, name, value).\n",
      " |  \n",
      " |  __sizeof__(self, /)\n",
      " |      Return memory consumption of the type object.\n",
      " |  \n",
      " |  __subclasscheck__(self, subclass, /)\n",
      " |      Check if a class is a subclass.\n",
      " |  \n",
      " |  __subclasses__(self, /)\n",
      " |      Return a list of immediate subclasses.\n",
      " |  \n",
      " |  mro(self, /)\n",
      " |      Return a type's method resolution order.\n",
      " |  \n",
      " |  ----------------------------------------------------------------------\n",
      " |  Class methods defined here:\n",
      " |  \n",
      " |  __prepare__(...)\n",
      " |      __prepare__() -> dict\n",
      " |      used to create the namespace for the class statement\n",
      " |  \n",
      " |  ----------------------------------------------------------------------\n",
      " |  Static methods defined here:\n",
      " |  \n",
      " |  __new__(*args, **kwargs)\n",
      " |      Create and return a new object.  See help(type) for accurate signature.\n",
      " |  \n",
      " |  ----------------------------------------------------------------------\n",
      " |  Data descriptors defined here:\n",
      " |  \n",
      " |  __abstractmethods__\n",
      " |  \n",
      " |  __annotations__\n",
      " |  \n",
      " |  __dict__\n",
      " |  \n",
      " |  __text_signature__\n",
      " |  \n",
      " |  ----------------------------------------------------------------------\n",
      " |  Data and other attributes defined here:\n",
      " |  \n",
      " |  __base__ = <class 'object'>\n",
      " |      The base class of the class hierarchy.\n",
      " |      \n",
      " |      When called, it accepts no arguments and returns a new featureless\n",
      " |      instance that has no instance attributes and cannot be given any.\n",
      " |  \n",
      " |  \n",
      " |  __bases__ = (<class 'object'>,)\n",
      " |  \n",
      " |  __basicsize__ = 904\n",
      " |  \n",
      " |  __dictoffset__ = 264\n",
      " |  \n",
      " |  __flags__ = 2148031744\n",
      " |  \n",
      " |  __itemsize__ = 40\n",
      " |  \n",
      " |  __mro__ = (<class 'type'>, <class 'object'>)\n",
      " |  \n",
      " |  __weakrefoffset__ = 368\n",
      "\n"
     ]
    }
   ],
   "source": [
    "help(type)"
   ]
  },
  {
   "cell_type": "markdown",
   "metadata": {},
   "source": [
    "Note: In R, we use `class()` and `typeof()`."
   ]
  },
  {
   "cell_type": "markdown",
   "metadata": {},
   "source": [
    "Strings in double quotes. R has a similar behavior"
   ]
  },
  {
   "cell_type": "code",
   "execution_count": 32,
   "metadata": {},
   "outputs": [
    {
     "name": "stdout",
     "output_type": "stream",
     "text": [
      "Louisville\n"
     ]
    }
   ],
   "source": [
    "city_name = 'Louisville'\n",
    "print(city_name)"
   ]
  },
  {
   "cell_type": "markdown",
   "metadata": {},
   "source": [
    "A single quote within double quotes: (works in R as well)"
   ]
  },
  {
   "cell_type": "code",
   "execution_count": 33,
   "metadata": {},
   "outputs": [
    {
     "name": "stdout",
     "output_type": "stream",
     "text": [
      "Patient's temperature is 101 degrees.\n"
     ]
    }
   ],
   "source": [
    "nurse_note = \"Patient's temperature is 101 degrees.\"\n",
    "print(nurse_note)"
   ]
  },
  {
   "cell_type": "markdown",
   "metadata": {},
   "source": [
    "Double quotes within single quotes (works in R as well)"
   ]
  },
  {
   "cell_type": "code",
   "execution_count": 34,
   "metadata": {},
   "outputs": [
    {
     "name": "stdout",
     "output_type": "stream",
     "text": [
      "Patient mentions \"excessive pain\".\n"
     ]
    }
   ],
   "source": [
    "nurse_note1 = 'Patient mentions \"excessive pain\".'\n",
    "print(nurse_note1)"
   ]
  },
  {
   "cell_type": "markdown",
   "metadata": {},
   "source": [
    "Single quote within single quotes errors out. Same behavior in R"
   ]
  },
  {
   "cell_type": "code",
   "execution_count": 35,
   "metadata": {},
   "outputs": [
    {
     "ename": "SyntaxError",
     "evalue": "unterminated string literal (detected at line 1) (390509741.py, line 1)",
     "output_type": "error",
     "traceback": [
      "\u001b[1;36m  Cell \u001b[1;32mIn[35], line 1\u001b[1;36m\u001b[0m\n\u001b[1;33m    nurse_note2 = 'Patient's temperature is 101 degrees.'\u001b[0m\n\u001b[1;37m                                                        ^\u001b[0m\n\u001b[1;31mSyntaxError\u001b[0m\u001b[1;31m:\u001b[0m unterminated string literal (detected at line 1)\n"
     ]
    }
   ],
   "source": [
    "nurse_note2 = 'Patient's temperature is 101 degrees.'"
   ]
  },
  {
   "cell_type": "markdown",
   "metadata": {},
   "source": [
    "An alternative is to use double quotes to enclose the single quote (as above) or to use `\\` to escape. (works in R as well)"
   ]
  },
  {
   "cell_type": "code",
   "execution_count": 36,
   "metadata": {},
   "outputs": [],
   "source": [
    "nurse_note2 = 'Patient\\'s temperature is 101 degrees.'"
   ]
  },
  {
   "cell_type": "code",
   "execution_count": 37,
   "metadata": {},
   "outputs": [
    {
     "data": {
      "text/plain": [
       "True"
      ]
     },
     "execution_count": 37,
     "metadata": {},
     "output_type": "execute_result"
    }
   ],
   "source": [
    "isinstance(nurse_note2, str)"
   ]
  },
  {
   "cell_type": "markdown",
   "metadata": {},
   "source": [
    "```R\n",
    "> is(1L, 'integer')\n",
    "[1] TRUE\n",
    "5\n",
    "```"
   ]
  },
  {
   "cell_type": "markdown",
   "metadata": {},
   "source": [
    "Multiline string\n",
    "\n",
    "I am not aware of such a functionality in R"
   ]
  },
  {
   "cell_type": "code",
   "execution_count": 38,
   "metadata": {},
   "outputs": [
    {
     "data": {
      "text/plain": [
       "str"
      ]
     },
     "execution_count": 38,
     "metadata": {},
     "output_type": "execute_result"
    }
   ],
   "source": [
    "blog_excerpt = \"\"\"A: \"Generative AI will change everything.\"\n",
    "B: \"I don't agree -- it will change nothing.\"   \n",
    "\n",
    "\"\"\"\n",
    "type(blog_excerpt)"
   ]
  },
  {
   "cell_type": "code",
   "execution_count": 39,
   "metadata": {},
   "outputs": [
    {
     "name": "stdout",
     "output_type": "stream",
     "text": [
      "\n",
      "A: 'Generative AI will change everything.'\n",
      "B: \"I don't agree -- it will change nothing.\"  \n",
      "\n"
     ]
    }
   ],
   "source": [
    "another_blog_excerpt = \"\"\"\n",
    "A: 'Generative AI will change everything.'\n",
    "B: \"I don't agree -- it will change nothing.\"  \n",
    "\"\"\"\n",
    "\n",
    "#note the mix of single and double quotes in the above example\n",
    "print(another_blog_excerpt)\n"
   ]
  },
  {
   "cell_type": "markdown",
   "metadata": {},
   "source": [
    "## Numeric data types"
   ]
  },
  {
   "cell_type": "markdown",
   "metadata": {},
   "source": [
    "### Integers - `int`"
   ]
  },
  {
   "cell_type": "code",
   "execution_count": 40,
   "metadata": {},
   "outputs": [
    {
     "data": {
      "text/plain": [
       "int"
      ]
     },
     "execution_count": 40,
     "metadata": {},
     "output_type": "execute_result"
    }
   ],
   "source": [
    "student_age = 25\n",
    "type(student_age)"
   ]
  },
  {
   "cell_type": "markdown",
   "metadata": {},
   "source": [
    "Note when you execute the above code in on the REPL, this is the output that you see: \n",
    "\n",
    "```\n",
    ">>> student_age = 25\n",
    ">>> type(student_age)\n",
    "<class 'int'>\n",
    "```"
   ]
  },
  {
   "cell_type": "markdown",
   "metadata": {},
   "source": [
    "Note: R defaults to double even when you type an integer. The notation to force R to use integer data type is: \n",
    "\n",
    "```R:\n",
    "> student_age <- 25\n",
    "> class(student_age)\n",
    "[1] \"numeric\"\n",
    "> typeof(student_age)\n",
    "[1] \"double\"\n",
    "> student_age <- 25L\n",
    "> typeof(student_age)\n",
    "[1] \"integer\"\n",
    "> class(student_age)\n",
    "[1] \"integer\"\n",
    "```"
   ]
  },
  {
   "cell_type": "markdown",
   "metadata": {},
   "source": [
    "### Floats - `float`"
   ]
  },
  {
   "cell_type": "code",
   "execution_count": 41,
   "metadata": {},
   "outputs": [
    {
     "data": {
      "text/plain": [
       "float"
      ]
     },
     "execution_count": 41,
     "metadata": {},
     "output_type": "execute_result"
    }
   ],
   "source": [
    "student_weight = 167.64\n",
    "type(student_weight)"
   ]
  },
  {
   "cell_type": "markdown",
   "metadata": {},
   "source": [
    "R counter part to `float` is `double` \n",
    "\n",
    "```R\n",
    "> patient_weight = 123.89\n",
    "> class(patient_weight)\n",
    "[1] \"numeric\"\n",
    "> typeof(patient_weight)\n",
    "[1] \"double\"\n",
    "> \n",
    "```"
   ]
  },
  {
   "cell_type": "markdown",
   "metadata": {},
   "source": [
    "### Complex numbers - `complex`"
   ]
  },
  {
   "cell_type": "code",
   "execution_count": 42,
   "metadata": {},
   "outputs": [
    {
     "data": {
      "text/plain": [
       "complex"
      ]
     },
     "execution_count": 42,
     "metadata": {},
     "output_type": "execute_result"
    }
   ],
   "source": [
    "example_complex_number = 2 + 3j\n",
    "type(example_complex_number)"
   ]
  },
  {
   "cell_type": "markdown",
   "metadata": {},
   "source": [
    "Note: R uses `i` in place of the python `j` in the above code block.\n",
    "```R\n",
    "> complex_nbr_example <- 4 - 2i\n",
    "> typeof(complex_nbr_example)\n",
    "[1] \"complex\"\n",
    "> class(complex_nbr_example)\n",
    "[1] \"complex\"\n",
    "```"
   ]
  },
  {
   "cell_type": "markdown",
   "metadata": {},
   "source": [
    "## Boolean - `bool`"
   ]
  },
  {
   "cell_type": "markdown",
   "metadata": {},
   "source": [
    "Python boolean values are `True` and `False` (c.f., `TRUE` and `FALSE` in R)"
   ]
  },
  {
   "cell_type": "code",
   "execution_count": 43,
   "metadata": {},
   "outputs": [
    {
     "data": {
      "text/plain": [
       "bool"
      ]
     },
     "execution_count": 43,
     "metadata": {},
     "output_type": "execute_result"
    }
   ],
   "source": [
    "today_is_friday = True\n",
    "today_is_saturday = False\n",
    "type(today_is_friday)"
   ]
  },
  {
   "cell_type": "markdown",
   "metadata": {},
   "source": [
    "Logical operations on boolean values"
   ]
  },
  {
   "cell_type": "code",
   "execution_count": 44,
   "metadata": {},
   "outputs": [
    {
     "data": {
      "text/plain": [
       "False"
      ]
     },
     "execution_count": 44,
     "metadata": {},
     "output_type": "execute_result"
    }
   ],
   "source": [
    "True & False"
   ]
  },
  {
   "cell_type": "code",
   "execution_count": 45,
   "metadata": {},
   "outputs": [
    {
     "data": {
      "text/plain": [
       "False"
      ]
     },
     "execution_count": 45,
     "metadata": {},
     "output_type": "execute_result"
    }
   ],
   "source": [
    "True and False"
   ]
  },
  {
   "cell_type": "code",
   "execution_count": 46,
   "metadata": {},
   "outputs": [
    {
     "data": {
      "text/plain": [
       "True"
      ]
     },
     "execution_count": 46,
     "metadata": {},
     "output_type": "execute_result"
    }
   ],
   "source": [
    "True or False"
   ]
  },
  {
   "cell_type": "code",
   "execution_count": 47,
   "metadata": {},
   "outputs": [
    {
     "data": {
      "text/plain": [
       "True"
      ]
     },
     "execution_count": 47,
     "metadata": {},
     "output_type": "execute_result"
    }
   ],
   "source": [
    "True | False"
   ]
  },
  {
   "cell_type": "code",
   "execution_count": 48,
   "metadata": {},
   "outputs": [
    {
     "data": {
      "text/plain": [
       "1"
      ]
     },
     "execution_count": 48,
     "metadata": {},
     "output_type": "execute_result"
    }
   ],
   "source": [
    "True + False"
   ]
  },
  {
   "cell_type": "code",
   "execution_count": 49,
   "metadata": {},
   "outputs": [
    {
     "data": {
      "text/plain": [
       "0"
      ]
     },
     "execution_count": 49,
     "metadata": {},
     "output_type": "execute_result"
    }
   ],
   "source": [
    "False + False"
   ]
  },
  {
   "cell_type": "markdown",
   "metadata": {},
   "source": [
    "Similar functionalities exist in R:\n",
    "\n",
    "```R\n",
    "> TRUE & FALSE\n",
    "[1] FALSE\n",
    "> TRUE | FALSE\n",
    "[1] TRUE\n",
    "> TRUE + FALSE\n",
    "[1] 1\n",
    "```"
   ]
  },
  {
   "cell_type": "markdown",
   "metadata": {},
   "source": [
    "# Lists"
   ]
  },
  {
   "cell_type": "markdown",
   "metadata": {},
   "source": [
    " - A Python list is an ordered, mutable collection of objects.\n",
    " - Lists can be created using square brackets (`[]`).\n",
    " - Lists can contain objects of any type, including strings, numbers, and other lists.\n",
    " - Among the most widely used python data structures.\n"
   ]
  },
  {
   "cell_type": "markdown",
   "metadata": {},
   "source": [
    "### Creating lists"
   ]
  },
  {
   "cell_type": "code",
   "execution_count": 50,
   "metadata": {},
   "outputs": [],
   "source": [
    "list1 = [0, 2, 4, 6, 8]\n",
    "list_of_lists = [list1, ['a', 'b', 'c']]\n",
    "list_of_states = ['Indiana', 'Kentucky', 'Ohio', 'Tennessee']\n",
    "list_of_scores = [99, 85, None, 70, 91]\n",
    "mixed_data_type_list = [99, 85, None, 70, 91, 'Indiana', 'Kentucky',\\\n",
    "                        'Ohio', 'Tennessee', True,[1, 2, 3]]\n",
    "empty_list = []\n",
    "bool_list = [True, False, True, True, False]\n",
    "another_list_of_ints = list((1,2,3))\n"
   ]
  },
  {
   "cell_type": "code",
   "execution_count": 51,
   "metadata": {},
   "outputs": [
    {
     "name": "stdout",
     "output_type": "stream",
     "text": [
      "Type of list1 is: <class 'list'>; \n",
      " Type of list_of_lists is: <class 'list'> \n",
      "\n"
     ]
    }
   ],
   "source": [
    "print(f\"Type of list1 is: {type(list1)}; \\n Type of list_of_lists is: {type(list_of_lists)} \\n\")"
   ]
  },
  {
   "cell_type": "code",
   "execution_count": 52,
   "metadata": {},
   "outputs": [
    {
     "data": {
      "text/plain": [
       "list"
      ]
     },
     "execution_count": 52,
     "metadata": {},
     "output_type": "execute_result"
    }
   ],
   "source": [
    "type(bool_list)"
   ]
  },
  {
   "cell_type": "markdown",
   "metadata": {},
   "source": [
    "Lists in R are created using the `list()` function:\n",
    "\n",
    "```\n",
    "R\n",
    "> mixed_data_type_list <- list(99, 85, NA, 70, 91, 'Indiana', 'Kentucky', 'Ohio', 'Tennessee', TRUE, list(1, 2, 3))\n",
    "> class(mixed_data_type_list)\n",
    "[1] \"list\"\n",
    "```"
   ]
  },
  {
   "cell_type": "markdown",
   "metadata": {},
   "source": [
    "We cannot broadcast mathematical operations to all the elements of a list in the following manner (even when all the elements of the list are of some numerical data type) -- similar to R's lists. "
   ]
  },
  {
   "cell_type": "code",
   "execution_count": 53,
   "metadata": {},
   "outputs": [],
   "source": [
    "numeric_list = [1, 2, 3, 4, 5]"
   ]
  },
  {
   "cell_type": "code",
   "execution_count": 54,
   "metadata": {},
   "outputs": [
    {
     "ename": "TypeError",
     "evalue": "can only concatenate list (not \"int\") to list",
     "output_type": "error",
     "traceback": [
      "\u001b[1;31m---------------------------------------------------------------------------\u001b[0m",
      "\u001b[1;31mTypeError\u001b[0m                                 Traceback (most recent call last)",
      "Cell \u001b[1;32mIn[54], line 1\u001b[0m\n\u001b[1;32m----> 1\u001b[0m numeric_list \u001b[38;5;241m+\u001b[39m \u001b[38;5;241m10\u001b[39m\n",
      "\u001b[1;31mTypeError\u001b[0m: can only concatenate list (not \"int\") to list"
     ]
    }
   ],
   "source": [
    "numeric_list + 10"
   ]
  },
  {
   "cell_type": "markdown",
   "metadata": {},
   "source": [
    "```R\n",
    "> list(1, 2, 3, 4, 5)\n",
    "[[1]]\n",
    "[1] 1\n",
    "\n",
    "[[2]]\n",
    "[1] 2\n",
    "\n",
    "[[3]]\n",
    "[1] 3\n",
    "\n",
    "[[4]]\n",
    "[1] 4\n",
    "\n",
    "[[5]]\n",
    "[1] 5\n",
    "\n",
    "> list(1, 2, 3, 4, 5)*2\n",
    "Error in list(1, 2, 3, 4, 5) * 2 : \n",
    "  non-numeric argument to binary operator\n",
    "```"
   ]
  },
  {
   "cell_type": "markdown",
   "metadata": {},
   "source": [
    "Caution for R users: the multiplication operator on python lists...\n",
    "\n",
    "When you multiply a list by an integer constant in Python, the list is concatenated with itself by the multiplicative factor. This means that if you multiply a list by 2, you will get a new list that contains the original list twice."
   ]
  },
  {
   "cell_type": "code",
   "execution_count": 55,
   "metadata": {},
   "outputs": [
    {
     "data": {
      "text/plain": [
       "[1, 2, 3, 4, 5, 1, 2, 3, 4, 5, 1, 2, 3, 4, 5]"
      ]
     },
     "execution_count": 55,
     "metadata": {},
     "output_type": "execute_result"
    }
   ],
   "source": [
    "list_of_ints = [1, 2, 3, 4, 5]\n",
    "list_of_ints * 3"
   ]
  },
  {
   "cell_type": "code",
   "execution_count": 56,
   "metadata": {},
   "outputs": [
    {
     "ename": "TypeError",
     "evalue": "can't multiply sequence by non-int of type 'float'",
     "output_type": "error",
     "traceback": [
      "\u001b[1;31m---------------------------------------------------------------------------\u001b[0m",
      "\u001b[1;31mTypeError\u001b[0m                                 Traceback (most recent call last)",
      "Cell \u001b[1;32mIn[56], line 2\u001b[0m\n\u001b[0;32m      1\u001b[0m list_of_ints \u001b[38;5;241m=\u001b[39m [\u001b[38;5;241m1\u001b[39m, \u001b[38;5;241m2\u001b[39m, \u001b[38;5;241m3\u001b[39m, \u001b[38;5;241m4\u001b[39m, \u001b[38;5;241m5\u001b[39m]\n\u001b[1;32m----> 2\u001b[0m list_of_ints \u001b[38;5;241m*\u001b[39m \u001b[38;5;241m3.2\u001b[39m\n",
      "\u001b[1;31mTypeError\u001b[0m: can't multiply sequence by non-int of type 'float'"
     ]
    }
   ],
   "source": [
    "list_of_ints = [1, 2, 3, 4, 5]\n",
    "list_of_ints * 3.2"
   ]
  },
  {
   "cell_type": "markdown",
   "metadata": {},
   "source": [
    "Multiplying list by a non-positive integer returns an empty list"
   ]
  },
  {
   "cell_type": "code",
   "execution_count": 57,
   "metadata": {},
   "outputs": [
    {
     "data": {
      "text/plain": [
       "[]"
      ]
     },
     "execution_count": 57,
     "metadata": {},
     "output_type": "execute_result"
    }
   ],
   "source": [
    "list_of_ints = [1, 2, 3, 4, 5]\n",
    "list_of_ints * -1"
   ]
  },
  {
   "cell_type": "markdown",
   "metadata": {},
   "source": [
    "This is not just limited to lists by the way"
   ]
  },
  {
   "cell_type": "code",
   "execution_count": 58,
   "metadata": {},
   "outputs": [
    {
     "data": {
      "text/plain": [
       "'KentuckyKentuckyKentucky'"
      ]
     },
     "execution_count": 58,
     "metadata": {},
     "output_type": "execute_result"
    }
   ],
   "source": [
    "state_of_residence = 'Kentucky'\n",
    "state_of_residence * 3"
   ]
  },
  {
   "cell_type": "code",
   "execution_count": 59,
   "metadata": {},
   "outputs": [
    {
     "data": {
      "text/plain": [
       "''"
      ]
     },
     "execution_count": 59,
     "metadata": {},
     "output_type": "execute_result"
    }
   ],
   "source": [
    "state_of_residence*0"
   ]
  },
  {
   "cell_type": "markdown",
   "metadata": {},
   "source": [
    "### Accessing elements in list"
   ]
  },
  {
   "cell_type": "code",
   "execution_count": 60,
   "metadata": {},
   "outputs": [
    {
     "data": {
      "text/plain": [
       "'Indiana'"
      ]
     },
     "execution_count": 60,
     "metadata": {},
     "output_type": "execute_result"
    }
   ],
   "source": [
    "list_of_states = ['Indiana', 'Kentucky', 'Ohio', 'Tennessee']\n",
    "list_of_states[0] #Access the first element"
   ]
  },
  {
   "cell_type": "markdown",
   "metadata": {},
   "source": [
    "Note to R users: \n",
    "    Python is 0 indexed language vs. R's indexing starting from 1."
   ]
  },
  {
   "cell_type": "code",
   "execution_count": 61,
   "metadata": {},
   "outputs": [
    {
     "name": "stdout",
     "output_type": "stream",
     "text": [
      "Kentucky\n"
     ]
    }
   ],
   "source": [
    "list_of_states = ['Indiana', 'Kentucky', 'Ohio', 'Tennessee']\n",
    "print(list_of_states[1]) #Second element is indexed by 1\n",
    "\n"
   ]
  },
  {
   "cell_type": "markdown",
   "metadata": {},
   "source": [
    "Length of the list - i.e, the number of elements in the list"
   ]
  },
  {
   "cell_type": "code",
   "execution_count": 62,
   "metadata": {},
   "outputs": [
    {
     "data": {
      "text/plain": [
       "4"
      ]
     },
     "execution_count": 62,
     "metadata": {},
     "output_type": "execute_result"
    }
   ],
   "source": [
    "list_of_states = ['Indiana', 'Kentucky', 'Ohio', 'Tennessee']\n",
    "\n",
    "len(list_of_states)"
   ]
  },
  {
   "cell_type": "code",
   "execution_count": 63,
   "metadata": {},
   "outputs": [
    {
     "data": {
      "text/plain": [
       "'Tennessee'"
      ]
     },
     "execution_count": 63,
     "metadata": {},
     "output_type": "execute_result"
    }
   ],
   "source": [
    "list_of_states[len(list_of_states) - 1] \n",
    "#Last element is indexed by len(list_of_states) - 1. In this example it is indexed by 3"
   ]
  },
  {
   "cell_type": "markdown",
   "metadata": {},
   "source": [
    "Last element is indexed by len(list_of_states) - 1. In this example it is indexed by 3"
   ]
  },
  {
   "cell_type": "code",
   "execution_count": 64,
   "metadata": {},
   "outputs": [
    {
     "name": "stdout",
     "output_type": "stream",
     "text": [
      "The last element of list_of_states is: Tennessee. It is indexed by 3.\n"
     ]
    }
   ],
   "source": [
    "list_of_states = ['Indiana', 'Kentucky', 'Ohio', 'Tennessee']\n",
    "list_of_states[3] #Last element is indexed by 3\n",
    "print(f\"The last element of list_of_states is: {list_of_states[len(list_of_states) - 1]}. It is indexed by {len(list_of_states) - 1}.\")"
   ]
  },
  {
   "cell_type": "markdown",
   "metadata": {},
   "source": [
    "What happens if we use an index value of 4? We will get index out of range error since this vector does not have a 5th element."
   ]
  },
  {
   "cell_type": "code",
   "execution_count": 65,
   "metadata": {},
   "outputs": [
    {
     "ename": "IndexError",
     "evalue": "list index out of range",
     "output_type": "error",
     "traceback": [
      "\u001b[1;31m---------------------------------------------------------------------------\u001b[0m",
      "\u001b[1;31mIndexError\u001b[0m                                Traceback (most recent call last)",
      "Cell \u001b[1;32mIn[65], line 2\u001b[0m\n\u001b[0;32m      1\u001b[0m list_of_states \u001b[38;5;241m=\u001b[39m [\u001b[38;5;124m'\u001b[39m\u001b[38;5;124mIndiana\u001b[39m\u001b[38;5;124m'\u001b[39m, \u001b[38;5;124m'\u001b[39m\u001b[38;5;124mKentucky\u001b[39m\u001b[38;5;124m'\u001b[39m, \u001b[38;5;124m'\u001b[39m\u001b[38;5;124mOhio\u001b[39m\u001b[38;5;124m'\u001b[39m, \u001b[38;5;124m'\u001b[39m\u001b[38;5;124mTennessee\u001b[39m\u001b[38;5;124m'\u001b[39m]\n\u001b[1;32m----> 2\u001b[0m list_of_states[\u001b[38;5;241m4\u001b[39m]\n",
      "\u001b[1;31mIndexError\u001b[0m: list index out of range"
     ]
    }
   ],
   "source": [
    "list_of_states = ['Indiana', 'Kentucky', 'Ohio', 'Tennessee']\n",
    "list_of_states[4] "
   ]
  },
  {
   "cell_type": "markdown",
   "metadata": {},
   "source": [
    "Accessing elements of R list:\n",
    "\n",
    "```R\n",
    "> list_of_states <- list('Indiana', 'Kentucky', 'Ohio', 'Tennessee')\n",
    "> list_of_states[1] # First element\n",
    "[[1]]\n",
    "[1] \"Indiana\"\n",
    "\n",
    "> list_of_states[2] # Second element\n",
    "[[1]]\n",
    "[1] \"Kentucky\"\n",
    "\n",
    "> length(list_of_states) # Length of list - number of elements\n",
    "[1] 4\n",
    "> list_of_states[length(list_of_states)] # Last element\n",
    "[[1]]\n",
    "[1] \"Tennessee\"\n",
    "\n",
    "> list_of_states[4] # Last element for this example\n",
    "[[1]]\n",
    "[1] \"Tennessee\"\n",
    "```"
   ]
  },
  {
   "cell_type": "markdown",
   "metadata": {},
   "source": [
    "Negative indexing has different behavior between R and Python"
   ]
  },
  {
   "cell_type": "markdown",
   "metadata": {},
   "source": [
    "\n",
    "Negative indexing in Python is a way to access elements of a sequence (such as a list, a string, or a tuple) from the end, using negative numbers as indexes.\n",
    "\n",
    "The index of the last element in a sequence is -1, the index of the second last element is -2, and so on."
   ]
  },
  {
   "cell_type": "code",
   "execution_count": 66,
   "metadata": {},
   "outputs": [
    {
     "data": {
      "text/plain": [
       "'Tennessee'"
      ]
     },
     "execution_count": 66,
     "metadata": {},
     "output_type": "execute_result"
    }
   ],
   "source": [
    "list_of_states = ['Indiana', 'Kentucky', 'Ohio', 'Tennessee']\n",
    "list_of_states[-1] #Last element is indexed by -1"
   ]
  },
  {
   "cell_type": "code",
   "execution_count": 67,
   "metadata": {},
   "outputs": [
    {
     "data": {
      "text/plain": [
       "'Ohio'"
      ]
     },
     "execution_count": 67,
     "metadata": {},
     "output_type": "execute_result"
    }
   ],
   "source": [
    "list_of_states[-2] #Second to last element is indexed by -2"
   ]
  },
  {
   "cell_type": "markdown",
   "metadata": {},
   "source": [
    "Negative indexing in R has the effect of removing elements\n",
    "\n",
    "```R\n",
    "> list_of_states <- list('Indiana', 'Kentucky', 'Ohio', 'Tennessee')\n",
    "> list_of_states[-1] # removes the first element\n",
    "[[1]]\n",
    "[1] \"Kentucky\"\n",
    "\n",
    "[[2]]\n",
    "[1] \"Ohio\"\n",
    "\n",
    "[[3]]\n",
    "[1] \"Tennessee\"\n",
    "```"
   ]
  },
  {
   "cell_type": "markdown",
   "metadata": {},
   "source": [
    "Combining the elements of two lists to create another list"
   ]
  },
  {
   "cell_type": "code",
   "execution_count": 68,
   "metadata": {},
   "outputs": [],
   "source": [
    "weekdays = ['Monday', 'Tuesday', 'Wednesday', 'Thursday', 'Friday']\n",
    "weekenddays = ['Saturday', 'Sunday']\n"
   ]
  },
  {
   "cell_type": "markdown",
   "metadata": {},
   "source": [
    "`+` operator concatenates elements of multiple lists into one"
   ]
  },
  {
   "cell_type": "code",
   "execution_count": 69,
   "metadata": {},
   "outputs": [
    {
     "name": "stdout",
     "output_type": "stream",
     "text": [
      "['Monday', 'Tuesday', 'Wednesday', 'Thursday', 'Friday', 'Saturday', 'Sunday']\n"
     ]
    }
   ],
   "source": [
    "daysofweek = weekdays + weekenddays\n",
    "print(daysofweek)"
   ]
  },
  {
   "cell_type": "markdown",
   "metadata": {},
   "source": [
    "You can also unpack elements of a list using starred expression. "
   ]
  },
  {
   "cell_type": "code",
   "execution_count": 70,
   "metadata": {},
   "outputs": [
    {
     "name": "stdout",
     "output_type": "stream",
     "text": [
      "['Monday', 'Tuesday', 'Wednesday', 'Thursday', 'Friday', 'Saturday', 'Sunday']\n"
     ]
    }
   ],
   "source": [
    "days_of_week = [*weekdays, *weekenddays]\n",
    "print(days_of_week)"
   ]
  },
  {
   "cell_type": "markdown",
   "metadata": {},
   "source": [
    "Combine two or more lists using the `extend` **method**"
   ]
  },
  {
   "cell_type": "code",
   "execution_count": 71,
   "metadata": {},
   "outputs": [],
   "source": [
    "weekdays.extend(weekenddays)"
   ]
  },
  {
   "cell_type": "code",
   "execution_count": 72,
   "metadata": {},
   "outputs": [
    {
     "data": {
      "text/plain": [
       "['Monday', 'Tuesday', 'Wednesday', 'Thursday', 'Friday', 'Saturday', 'Sunday']"
      ]
     },
     "execution_count": 72,
     "metadata": {},
     "output_type": "execute_result"
    }
   ],
   "source": [
    "weekdays"
   ]
  },
  {
   "cell_type": "markdown",
   "metadata": {},
   "source": [
    "Note that `extend` modified the first list (`weekdays` in this example) by appending all the elements of the second list to it."
   ]
  },
  {
   "cell_type": "markdown",
   "metadata": {},
   "source": [
    "Let's now remove the last item using `pop` method"
   ]
  },
  {
   "cell_type": "code",
   "execution_count": 73,
   "metadata": {},
   "outputs": [
    {
     "data": {
      "text/plain": [
       "'Sunday'"
      ]
     },
     "execution_count": 73,
     "metadata": {},
     "output_type": "execute_result"
    }
   ],
   "source": [
    "weekdays.pop()"
   ]
  },
  {
   "cell_type": "code",
   "execution_count": 74,
   "metadata": {},
   "outputs": [
    {
     "name": "stdout",
     "output_type": "stream",
     "text": [
      "['Monday', 'Tuesday', 'Wednesday', 'Thursday', 'Friday', 'Saturday']\n"
     ]
    }
   ],
   "source": [
    "print(weekdays)"
   ]
  },
  {
   "cell_type": "code",
   "execution_count": 75,
   "metadata": {},
   "outputs": [
    {
     "name": "stdout",
     "output_type": "stream",
     "text": [
      "Help on built-in function pop:\n",
      "\n",
      "pop(index=-1, /) method of builtins.list instance\n",
      "    Remove and return item at index (default last).\n",
      "    \n",
      "    Raises IndexError if list is empty or index is out of range.\n",
      "\n"
     ]
    }
   ],
   "source": [
    "help(weekdays.pop)"
   ]
  },
  {
   "cell_type": "code",
   "execution_count": 76,
   "metadata": {},
   "outputs": [
    {
     "data": {
      "text/plain": [
       "['Monday', 'Tuesday', 'Wednesday', 'Thursday', 'Friday', 'Saturday']"
      ]
     },
     "execution_count": 76,
     "metadata": {},
     "output_type": "execute_result"
    }
   ],
   "source": [
    "weekdays"
   ]
  },
  {
   "cell_type": "markdown",
   "metadata": {},
   "source": [
    "Let's also remove the element 'Saturday' so that `weekdays` list only includes days from Monday to Friday.  "
   ]
  },
  {
   "cell_type": "code",
   "execution_count": 77,
   "metadata": {},
   "outputs": [],
   "source": [
    "del(weekdays[-1])"
   ]
  },
  {
   "cell_type": "code",
   "execution_count": 78,
   "metadata": {},
   "outputs": [
    {
     "name": "stdout",
     "output_type": "stream",
     "text": [
      "['Monday', 'Tuesday', 'Wednesday', 'Thursday', 'Friday']\n"
     ]
    }
   ],
   "source": [
    "print(weekdays)"
   ]
  },
  {
   "cell_type": "code",
   "execution_count": 79,
   "metadata": {},
   "outputs": [
    {
     "name": "stdout",
     "output_type": "stream",
     "text": [
      "The \"del\" statement\n",
      "*******************\n",
      "\n",
      "   del_stmt ::= \"del\" target_list\n",
      "\n",
      "Deletion is recursively defined very similar to the way assignment is\n",
      "defined. Rather than spelling it out in full details, here are some\n",
      "hints.\n",
      "\n",
      "Deletion of a target list recursively deletes each target, from left\n",
      "to right.\n",
      "\n",
      "Deletion of a name removes the binding of that name from the local or\n",
      "global namespace, depending on whether the name occurs in a \"global\"\n",
      "statement in the same code block.  If the name is unbound, a\n",
      "\"NameError\" exception will be raised.\n",
      "\n",
      "Deletion of attribute references, subscriptions and slicings is passed\n",
      "to the primary object involved; deletion of a slicing is in general\n",
      "equivalent to assignment of an empty slice of the right type (but even\n",
      "this is determined by the sliced object).\n",
      "\n",
      "Changed in version 3.2: Previously it was illegal to delete a name\n",
      "from the local namespace if it occurs as a free variable in a nested\n",
      "block.\n",
      "\n",
      "Related help topics: BASICMETHODS\n",
      "\n"
     ]
    }
   ],
   "source": [
    "help(\"del\")"
   ]
  },
  {
   "cell_type": "markdown",
   "metadata": {},
   "source": [
    "We used the `del` function this time. \n",
    "\n",
    "Note the way the _function_ `del` was called vs. the _method_ `.pop` was applied on the list `weekdays`."
   ]
  },
  {
   "cell_type": "markdown",
   "metadata": {},
   "source": [
    "**Methods vs. Functions**\n",
    "  - Methods are associated with class of objects. The method `pop` is associated with the class of objects (list in this example). We cannot call the method pop as a standalone function. `pop(weekdays)` will result in an error - see below. \n",
    "  - Functions need not be associated with a class of objects. \n",
    "  - Calling a method requires use of the `.` notation: `[object_name][.][method_name()]`\n",
    "\n",
    "There is more to the differences between methods and functions, but we will stop here since this is an introductory course and we will not delve into object oriented programming."
   ]
  },
  {
   "cell_type": "code",
   "execution_count": 80,
   "metadata": {},
   "outputs": [
    {
     "ename": "NameError",
     "evalue": "name 'pop' is not defined",
     "output_type": "error",
     "traceback": [
      "\u001b[1;31m---------------------------------------------------------------------------\u001b[0m",
      "\u001b[1;31mNameError\u001b[0m                                 Traceback (most recent call last)",
      "Cell \u001b[1;32mIn[80], line 1\u001b[0m\n\u001b[1;32m----> 1\u001b[0m pop(weekdays)\n",
      "\u001b[1;31mNameError\u001b[0m: name 'pop' is not defined"
     ]
    }
   ],
   "source": [
    "pop(weekdays)"
   ]
  },
  {
   "cell_type": "markdown",
   "metadata": {},
   "source": [
    "Sorting python lists"
   ]
  },
  {
   "cell_type": "code",
   "execution_count": 81,
   "metadata": {},
   "outputs": [
    {
     "name": "stdout",
     "output_type": "stream",
     "text": [
      "[99, 85, 79, 91, 88, 93, 98, 95, 79, 93]\n"
     ]
    }
   ],
   "source": [
    "list_of_student_grades = [99, 85, 79, 91, 88, 93, 98, 95, 79, 93]\n",
    "print(list_of_student_grades)"
   ]
  },
  {
   "cell_type": "markdown",
   "metadata": {},
   "source": [
    "Apply sort() method"
   ]
  },
  {
   "cell_type": "code",
   "execution_count": 82,
   "metadata": {},
   "outputs": [],
   "source": [
    "list_of_student_grades.sort()"
   ]
  },
  {
   "cell_type": "code",
   "execution_count": 83,
   "metadata": {},
   "outputs": [
    {
     "name": "stdout",
     "output_type": "stream",
     "text": [
      "[79, 79, 85, 88, 91, 93, 93, 95, 98, 99]\n"
     ]
    }
   ],
   "source": [
    "print(list_of_student_grades)"
   ]
  },
  {
   "cell_type": "markdown",
   "metadata": {},
   "source": [
    "When the original unsorted list has to be preserved, a copy of the list can be made to which the `sort()` method is applied"
   ]
  },
  {
   "cell_type": "code",
   "execution_count": 84,
   "metadata": {},
   "outputs": [],
   "source": [
    "list_of_student_grades = [99, 85, 79, 91, 88, 93, 98, 95, 79, 93]\n",
    "list_of_student_grades_copy = list_of_student_grades.copy()\n",
    "list_of_student_grades_copy.sort(reverse = True)"
   ]
  },
  {
   "cell_type": "code",
   "execution_count": 85,
   "metadata": {},
   "outputs": [
    {
     "name": "stdout",
     "output_type": "stream",
     "text": [
      "[99, 98, 95, 93, 93, 91, 88, 85, 79, 79]\n"
     ]
    }
   ],
   "source": [
    "print(list_of_student_grades_copy)"
   ]
  },
  {
   "cell_type": "code",
   "execution_count": 86,
   "metadata": {},
   "outputs": [
    {
     "name": "stdout",
     "output_type": "stream",
     "text": [
      "[99, 85, 79, 91, 88, 93, 98, 95, 79, 93]\n"
     ]
    }
   ],
   "source": [
    "print(list_of_student_grades)"
   ]
  },
  {
   "cell_type": "markdown",
   "metadata": {},
   "source": [
    "An alternative approach is to use the _function_ `sorted`"
   ]
  },
  {
   "cell_type": "code",
   "execution_count": 87,
   "metadata": {},
   "outputs": [
    {
     "name": "stdout",
     "output_type": "stream",
     "text": [
      "Help on built-in function sorted in module builtins:\n",
      "\n",
      "sorted(iterable, /, *, key=None, reverse=False)\n",
      "    Return a new list containing all items from the iterable in ascending order.\n",
      "    \n",
      "    A custom key function can be supplied to customize the sort order, and the\n",
      "    reverse flag can be set to request the result in descending order.\n",
      "\n"
     ]
    }
   ],
   "source": [
    "help(sorted)"
   ]
  },
  {
   "cell_type": "code",
   "execution_count": 88,
   "metadata": {},
   "outputs": [
    {
     "name": "stdout",
     "output_type": "stream",
     "text": [
      "[79, 79, 85, 88, 91, 93, 93, 95, 98, 99]\n"
     ]
    }
   ],
   "source": [
    "list_of_student_grades = [99, 85, 79, 91, 88, 93, 98, 95, 79, 93]\n",
    "sorted_list_of_student_grades = sorted(list_of_student_grades)\n",
    "print(sorted_list_of_student_grades)"
   ]
  },
  {
   "cell_type": "markdown",
   "metadata": {},
   "source": [
    "Note application of the method `.sort()` modified the original list. This is different from how R behaves: \n",
    "\n",
    "```R\n",
    "> list_of_student_grades <- list(99, 85, 79, 91, 88, 93, 98, 95, 79, 93)\n",
    "> sort(list_of_student_grades)\n",
    "Error in sort.int(x, na.last = na.last, decreasing = decreasing, ...) : \n",
    "  'x' must be atomic\n",
    "> list_of_student_grades <- c(99, 85, 79, 91, 88, 93, 98, 95, 79, 93)\n",
    "> sort(list_of_student_grades)\n",
    " [1] 79 79 85 88 91 93 93 95 98 99\n",
    "> print(list_of_student_grades)\n",
    " [1] 99 85 79 91 88 93 98 95 79 93\n",
    "> \n",
    "```"
   ]
  },
  {
   "cell_type": "markdown",
   "metadata": {},
   "source": [
    "Not all python lists are sortable:"
   ]
  },
  {
   "cell_type": "code",
   "execution_count": 89,
   "metadata": {},
   "outputs": [
    {
     "ename": "TypeError",
     "evalue": "'<' not supported between instances of 'NoneType' and 'int'",
     "output_type": "error",
     "traceback": [
      "\u001b[1;31m---------------------------------------------------------------------------\u001b[0m",
      "\u001b[1;31mTypeError\u001b[0m                                 Traceback (most recent call last)",
      "Cell \u001b[1;32mIn[89], line 2\u001b[0m\n\u001b[0;32m      1\u001b[0m mixed_data_type_list \u001b[38;5;241m=\u001b[39m [\u001b[38;5;241m99\u001b[39m, \u001b[38;5;241m85\u001b[39m, \u001b[38;5;28;01mNone\u001b[39;00m, \u001b[38;5;241m70\u001b[39m, \u001b[38;5;241m91\u001b[39m, \u001b[38;5;124m'\u001b[39m\u001b[38;5;124mIndiana\u001b[39m\u001b[38;5;124m'\u001b[39m, \u001b[38;5;124m'\u001b[39m\u001b[38;5;124mKentucky\u001b[39m\u001b[38;5;124m'\u001b[39m, \u001b[38;5;124m'\u001b[39m\u001b[38;5;124mOhio\u001b[39m\u001b[38;5;124m'\u001b[39m, \u001b[38;5;124m'\u001b[39m\u001b[38;5;124mTennessee\u001b[39m\u001b[38;5;124m'\u001b[39m, \u001b[38;5;28;01mTrue\u001b[39;00m,[\u001b[38;5;241m1\u001b[39m, \u001b[38;5;241m2\u001b[39m, \u001b[38;5;241m3\u001b[39m]]\n\u001b[1;32m----> 2\u001b[0m \u001b[38;5;28msorted\u001b[39m(mixed_data_type_list)\n",
      "\u001b[1;31mTypeError\u001b[0m: '<' not supported between instances of 'NoneType' and 'int'"
     ]
    }
   ],
   "source": [
    "mixed_data_type_list = [99, 85, None, 70, 91, 'Indiana', 'Kentucky', 'Ohio', 'Tennessee', True,[1, 2, 3]]\n",
    "sorted(mixed_data_type_list)"
   ]
  },
  {
   "cell_type": "code",
   "execution_count": 90,
   "metadata": {},
   "outputs": [
    {
     "ename": "TypeError",
     "evalue": "'<' not supported between instances of 'NoneType' and 'int'",
     "output_type": "error",
     "traceback": [
      "\u001b[1;31m---------------------------------------------------------------------------\u001b[0m",
      "\u001b[1;31mTypeError\u001b[0m                                 Traceback (most recent call last)",
      "Cell \u001b[1;32mIn[90], line 1\u001b[0m\n\u001b[1;32m----> 1\u001b[0m mixed_data_type_list\u001b[38;5;241m.\u001b[39msort()\n",
      "\u001b[1;31mTypeError\u001b[0m: '<' not supported between instances of 'NoneType' and 'int'"
     ]
    }
   ],
   "source": [
    "mixed_data_type_list.sort()"
   ]
  },
  {
   "cell_type": "markdown",
   "metadata": {},
   "source": [
    "### Slicing"
   ]
  },
  {
   "cell_type": "markdown",
   "metadata": {},
   "source": [
    "```python\n",
    "list_a = [1, 2, 3, 4, 5, 6]\n",
    "          0  1  2  3  4  5   <-  index numbers\n",
    "```"
   ]
  },
  {
   "cell_type": "markdown",
   "metadata": {},
   "source": [
    "```python\n",
    " list_a[2:5]\n",
    "```\n",
    "Returns the 3rd (indexed by 2), 4th (indexed by 3), and 5th (indexed by 4) elements of the list. \n",
    "\n",
    "The slicing `2:5` includes all elements starting from the 2nd index value to the 4th. \n",
    "When you see `2:5`  think of left inclusive, right exclusive [2,5)"
   ]
  },
  {
   "cell_type": "code",
   "execution_count": 91,
   "metadata": {},
   "outputs": [
    {
     "data": {
      "text/plain": [
       "[3, 4, 5]"
      ]
     },
     "execution_count": 91,
     "metadata": {},
     "output_type": "execute_result"
    }
   ],
   "source": [
    "list_a = [1, 2, 3, 4, 5, 6]\n",
    "list_a[2:5]"
   ]
  },
  {
   "cell_type": "markdown",
   "metadata": {},
   "source": [
    "```python\n",
    "list_a = [1 , 2, 3, 4, 5, 6]\n",
    "         -6  -5 -4 -3 -2 -1   <- negative index numbers\n",
    "```"
   ]
  },
  {
   "cell_type": "code",
   "execution_count": 92,
   "metadata": {},
   "outputs": [
    {
     "data": {
      "text/plain": [
       "[2, 3, 4]"
      ]
     },
     "execution_count": 92,
     "metadata": {},
     "output_type": "execute_result"
    }
   ],
   "source": [
    "list_a = [1, 2, 3, 4, 5, 6]\n",
    "list_a[-5:-2] #including -5, excluding -2 index values. "
   ]
  },
  {
   "cell_type": "code",
   "execution_count": 93,
   "metadata": {},
   "outputs": [
    {
     "data": {
      "text/plain": [
       "[1, 2, 3, 4, 5, 6]"
      ]
     },
     "execution_count": 93,
     "metadata": {},
     "output_type": "execute_result"
    }
   ],
   "source": [
    "list_a = [1, 2, 3, 4, 5, 6]\n",
    "list_a[:]"
   ]
  },
  {
   "cell_type": "code",
   "execution_count": 94,
   "metadata": {},
   "outputs": [
    {
     "data": {
      "text/plain": [
       "[4, 5, 6]"
      ]
     },
     "execution_count": 94,
     "metadata": {},
     "output_type": "execute_result"
    }
   ],
   "source": [
    "list_a = [1, 2, 3, 4, 5, 6]\n",
    "list_a[3:]"
   ]
  },
  {
   "cell_type": "code",
   "execution_count": 95,
   "metadata": {},
   "outputs": [
    {
     "data": {
      "text/plain": [
       "[4, 5, 6]"
      ]
     },
     "execution_count": 95,
     "metadata": {},
     "output_type": "execute_result"
    }
   ],
   "source": [
    "list_a = [1, 2, 3, 4, 5, 6]\n",
    "list_a[-3:]"
   ]
  },
  {
   "cell_type": "markdown",
   "metadata": {},
   "source": [
    "Python lists are mutable (i.e., modifiable after creation). e.g., `.pop` and `del` applications illustrate the mutability of lists. So does the following code which alters 4th (indexed by 3) value of a list"
   ]
  },
  {
   "cell_type": "code",
   "execution_count": 96,
   "metadata": {},
   "outputs": [
    {
     "name": "stdout",
     "output_type": "stream",
     "text": [
      "[1, 2, 3, 99, 5, 6]\n"
     ]
    }
   ],
   "source": [
    "list_a = [1, 2, 3, 4, 5, 6]\n",
    "list_a[3] = 99\n",
    "print(list_a)"
   ]
  },
  {
   "cell_type": "markdown",
   "metadata": {},
   "source": [
    "# Tuples"
   ]
  },
  {
   "cell_type": "markdown",
   "metadata": {},
   "source": [
    "Tuples are a data type in Python that are similar to **lists**, but they are immutable, meaning that they cannot be changed once they are created. This makes them useful for storing data that needs to be protected from accidental modification, to pass data to functions as arguments  (so function cannot modify the data) or to return multiple values from a function. "
   ]
  },
  {
   "cell_type": "markdown",
   "metadata": {},
   "source": [
    "Creating tuples"
   ]
  },
  {
   "cell_type": "code",
   "execution_count": 97,
   "metadata": {},
   "outputs": [],
   "source": [
    "#comma separated objects inside brackets\n",
    "quarter_1_months = ('January', 'February', 'March')\n",
    "\n",
    "#brackets are optional: typically used as return values from functions\n",
    "quarter_2_months = 'April', 'May', 'June'\n",
    "\n",
    "#apply tuple function to a list input\n",
    "quarter_3_months = tuple(['July', 'August', 'September'])\n",
    "\n",
    "#like lists, tuples can contain mixed data types\n",
    "mixed_data_type_tuple = (99, 85, None, True,[1, 2, 3])"
   ]
  },
  {
   "cell_type": "code",
   "execution_count": 98,
   "metadata": {},
   "outputs": [
    {
     "data": {
      "text/plain": [
       "(tuple, tuple, tuple, tuple)"
      ]
     },
     "execution_count": 98,
     "metadata": {},
     "output_type": "execute_result"
    }
   ],
   "source": [
    "type(quarter_3_months), type(quarter_2_months), type(quarter_1_months), type(mixed_data_type_tuple)"
   ]
  },
  {
   "cell_type": "code",
   "execution_count": 99,
   "metadata": {},
   "outputs": [
    {
     "ename": "TypeError",
     "evalue": "'tuple' object does not support item assignment",
     "output_type": "error",
     "traceback": [
      "\u001b[1;31m---------------------------------------------------------------------------\u001b[0m",
      "\u001b[1;31mTypeError\u001b[0m                                 Traceback (most recent call last)",
      "Cell \u001b[1;32mIn[99], line 1\u001b[0m\n\u001b[1;32m----> 1\u001b[0m mixed_data_type_tuple[\u001b[38;5;241m2\u001b[39m] \u001b[38;5;241m=\u001b[39m \u001b[38;5;241m76\u001b[39m\n",
      "\u001b[1;31mTypeError\u001b[0m: 'tuple' object does not support item assignment"
     ]
    }
   ],
   "source": [
    "mixed_data_type_tuple[2] = 76 #tuple is immutable"
   ]
  },
  {
   "cell_type": "markdown",
   "metadata": {},
   "source": [
    "We can change tuples to lists using `list()` function"
   ]
  },
  {
   "cell_type": "code",
   "execution_count": 100,
   "metadata": {},
   "outputs": [
    {
     "data": {
      "text/plain": [
       "tuple"
      ]
     },
     "execution_count": 100,
     "metadata": {},
     "output_type": "execute_result"
    }
   ],
   "source": [
    "quarter_4_months = ('October', 'November', 'December')\n",
    "type(quarter_4_months)"
   ]
  },
  {
   "cell_type": "code",
   "execution_count": 101,
   "metadata": {},
   "outputs": [
    {
     "data": {
      "text/plain": [
       "list"
      ]
     },
     "execution_count": 101,
     "metadata": {},
     "output_type": "execute_result"
    }
   ],
   "source": [
    "quarter_4_mths_list = list(quarter_4_months)\n",
    "type(quarter_4_mths_list)"
   ]
  },
  {
   "cell_type": "markdown",
   "metadata": {},
   "source": [
    "Much of the operations we covered earlier (expect those that modify lists) apply for tuples"
   ]
  },
  {
   "cell_type": "code",
   "execution_count": 102,
   "metadata": {},
   "outputs": [
    {
     "name": "stdout",
     "output_type": "stream",
     "text": [
      "('January', 'February', 'March', 'April', 'May', 'June', 'July', 'August', 'September', 'October', 'November', 'December')\n"
     ]
    }
   ],
   "source": [
    "months_of_year = quarter_1_months + quarter_2_months + quarter_3_months + quarter_4_months\n",
    "print(months_of_year)"
   ]
  },
  {
   "cell_type": "markdown",
   "metadata": {},
   "source": [
    "Slice every other month starting with January"
   ]
  },
  {
   "cell_type": "code",
   "execution_count": 103,
   "metadata": {},
   "outputs": [
    {
     "data": {
      "text/plain": [
       "('January', 'March', 'May', 'July', 'September', 'November')"
      ]
     },
     "execution_count": 103,
     "metadata": {},
     "output_type": "execute_result"
    }
   ],
   "source": [
    "months_of_year[0::2]"
   ]
  },
  {
   "cell_type": "markdown",
   "metadata": {},
   "source": [
    "The slicing logic in the expression `months_of_year[0::2]`:\n",
    " - Start index: 0\n",
    " - Stop index: Omitted, meaning that the slicing will go to the end of the tuple.\n",
    " - Step size: 2. This means that the slicing will start at the first element (index 0) and go to the end of the tuple, taking every other element (step size of 2)."
   ]
  },
  {
   "cell_type": "markdown",
   "metadata": {},
   "source": [
    "# Sets"
   ]
  },
  {
   "cell_type": "markdown",
   "metadata": {},
   "source": [
    "Sets\n",
    "\n",
    "Python sets are **unordered**, **mutable** collections of **unique** elements. "
   ]
  },
  {
   "cell_type": "code",
   "execution_count": 104,
   "metadata": {},
   "outputs": [
    {
     "data": {
      "text/plain": [
       "12"
      ]
     },
     "execution_count": 104,
     "metadata": {},
     "output_type": "execute_result"
    }
   ],
   "source": [
    "students_end_of_year_grades = ('A', 'B', 'C', 'D', 'A', 'D', 'B', 'F', 'C', 'D', 'A', 'B')\n",
    "len(students_end_of_year_grades)"
   ]
  },
  {
   "cell_type": "code",
   "execution_count": 105,
   "metadata": {},
   "outputs": [
    {
     "data": {
      "text/plain": [
       "{'A', 'B', 'C', 'D', 'F'}"
      ]
     },
     "execution_count": 105,
     "metadata": {},
     "output_type": "execute_result"
    }
   ],
   "source": [
    "set(students_end_of_year_grades)"
   ]
  },
  {
   "cell_type": "code",
   "execution_count": 106,
   "metadata": {},
   "outputs": [],
   "source": [
    "set_b = {'a', 'd', 1, True, None}"
   ]
  },
  {
   "cell_type": "code",
   "execution_count": 107,
   "metadata": {},
   "outputs": [
    {
     "data": {
      "text/plain": [
       "(4, set)"
      ]
     },
     "execution_count": 107,
     "metadata": {},
     "output_type": "execute_result"
    }
   ],
   "source": [
    "len(set_b), type(set_b)"
   ]
  },
  {
   "cell_type": "code",
   "execution_count": 108,
   "metadata": {},
   "outputs": [
    {
     "data": {
      "text/plain": [
       "{'A', 'B', 'C', 'F'}"
      ]
     },
     "execution_count": 108,
     "metadata": {},
     "output_type": "execute_result"
    }
   ],
   "source": [
    "students_end_of_year_grades = ('A', 'B', 'C', 'A', 'A', 'C', 'B', 'F', 'C', 'C', 'A', 'B')\n",
    "set(students_end_of_year_grades)"
   ]
  },
  {
   "cell_type": "markdown",
   "metadata": {},
   "source": [
    "Find unique grades and number of times they occur"
   ]
  },
  {
   "cell_type": "code",
   "execution_count": 109,
   "metadata": {},
   "outputs": [
    {
     "name": "stdout",
     "output_type": "stream",
     "text": [
      "{'C', 'B', 'A', 'F'}\n"
     ]
    }
   ],
   "source": [
    "unique_grades = set(students_end_of_year_grades)\n",
    "print(unique_grades)"
   ]
  },
  {
   "cell_type": "code",
   "execution_count": 110,
   "metadata": {},
   "outputs": [],
   "source": [
    "unique_grades.add('D')"
   ]
  },
  {
   "cell_type": "code",
   "execution_count": 111,
   "metadata": {},
   "outputs": [
    {
     "name": "stdout",
     "output_type": "stream",
     "text": [
      "{'C', 'A', 'D', 'B', 'F'}\n"
     ]
    }
   ],
   "source": [
    "print(unique_grades) # They are mutable"
   ]
  },
  {
   "cell_type": "code",
   "execution_count": 112,
   "metadata": {},
   "outputs": [
    {
     "data": {
      "text/plain": [
       "({3, 4, 5}, {3, 4, 5})"
      ]
     },
     "execution_count": 112,
     "metadata": {},
     "output_type": "execute_result"
    }
   ],
   "source": [
    "A = {1, 2, 3, 4, 5}\n",
    "B = {3, 4, 5, 6, 7}\n",
    "A & B, A.intersection(B)"
   ]
  },
  {
   "cell_type": "code",
   "execution_count": 113,
   "metadata": {},
   "outputs": [
    {
     "data": {
      "text/plain": [
       "({1, 2, 3, 4, 5, 6, 7}, {1, 2, 3, 4, 5, 6, 7})"
      ]
     },
     "execution_count": 113,
     "metadata": {},
     "output_type": "execute_result"
    }
   ],
   "source": [
    "A | B, A.union(B)"
   ]
  },
  {
   "cell_type": "code",
   "execution_count": 114,
   "metadata": {},
   "outputs": [
    {
     "data": {
      "text/plain": [
       "({1, 2}, {1, 2})"
      ]
     },
     "execution_count": 114,
     "metadata": {},
     "output_type": "execute_result"
    }
   ],
   "source": [
    "A - B, A.difference(B)"
   ]
  },
  {
   "cell_type": "code",
   "execution_count": 115,
   "metadata": {},
   "outputs": [
    {
     "data": {
      "text/plain": [
       "({6, 7}, {6, 7})"
      ]
     },
     "execution_count": 115,
     "metadata": {},
     "output_type": "execute_result"
    }
   ],
   "source": [
    "B - A, B.difference(A)"
   ]
  },
  {
   "cell_type": "code",
   "execution_count": 116,
   "metadata": {},
   "outputs": [
    {
     "data": {
      "text/plain": [
       "({1, 2, 6, 7}, {1, 2, 6, 7})"
      ]
     },
     "execution_count": 116,
     "metadata": {},
     "output_type": "execute_result"
    }
   ],
   "source": [
    "A ^ B, A.symmetric_difference(B)"
   ]
  },
  {
   "cell_type": "code",
   "execution_count": 117,
   "metadata": {},
   "outputs": [
    {
     "data": {
      "text/plain": [
       "False"
      ]
     },
     "execution_count": 117,
     "metadata": {},
     "output_type": "execute_result"
    }
   ],
   "source": [
    "A < B # A is a proper subset of B?"
   ]
  },
  {
   "cell_type": "code",
   "execution_count": 118,
   "metadata": {},
   "outputs": [
    {
     "data": {
      "text/plain": [
       "False"
      ]
     },
     "execution_count": 118,
     "metadata": {},
     "output_type": "execute_result"
    }
   ],
   "source": [
    "A <= B # A is a subset of B?"
   ]
  },
  {
   "cell_type": "markdown",
   "metadata": {},
   "source": [
    "|  | Python list | Tuple | Set |\n",
    "|---|---|---|---|\n",
    "| Mutability | Mutable | Immutable | Mutable |\n",
    "| Order | Ordered | Ordered | Unordered |\n",
    "| Uniqueness | Allows duplicate elements | Allows duplicate elements | Does not allow duplicate elements |\n"
   ]
  },
  {
   "cell_type": "markdown",
   "metadata": {},
   "source": [
    "# Ranges - `range`"
   ]
  },
  {
   "cell_type": "markdown",
   "metadata": {},
   "source": [
    "The range() function in Python is used to generate a sequence of numbers. The sequence starts at 0 by default, and increments by 1 by default. The range() function takes up to three arguments:\n",
    "\n",
    "    start: The start index of the sequence.\n",
    "    stop: The stop index of the sequence. The stop index is not included in the sequence.\n",
    "    step: The step size of the sequence."
   ]
  },
  {
   "cell_type": "code",
   "execution_count": 119,
   "metadata": {},
   "outputs": [
    {
     "data": {
      "text/plain": [
       "range(0, 10)"
      ]
     },
     "execution_count": 119,
     "metadata": {},
     "output_type": "execute_result"
    }
   ],
   "source": [
    "range(10)"
   ]
  },
  {
   "cell_type": "code",
   "execution_count": 120,
   "metadata": {},
   "outputs": [
    {
     "data": {
      "text/plain": [
       "range"
      ]
     },
     "execution_count": 120,
     "metadata": {},
     "output_type": "execute_result"
    }
   ],
   "source": [
    "type(range(10))"
   ]
  },
  {
   "cell_type": "code",
   "execution_count": 121,
   "metadata": {},
   "outputs": [
    {
     "name": "stdout",
     "output_type": "stream",
     "text": [
      "0\n",
      "1\n",
      "2\n",
      "3\n",
      "4\n",
      "5\n",
      "6\n",
      "7\n",
      "8\n",
      "9\n"
     ]
    }
   ],
   "source": [
    "# typically used while creating \"for loops\":\n",
    "for i in range(10):\n",
    "    print(i)"
   ]
  },
  {
   "cell_type": "markdown",
   "metadata": {},
   "source": [
    "The range() function is a powerful tool for generating sequences of numbers in Python. It can be used for a variety of tasks, such as iterating over a list, creating a range of numbers for a plot, etc."
   ]
  },
  {
   "cell_type": "markdown",
   "metadata": {},
   "source": [
    "R analogue is seq()\n",
    "\n",
    "```R\n",
    "> seq(10)\n",
    " [1]  1  2  3  4  5  6  7  8  9 10\n",
    "\n",
    "#for loop in R\n",
    "> for (i in seq(10) ){\n",
    "+   print(i)\n",
    "+ }\n",
    "[1] 1\n",
    "[1] 2\n",
    "[1] 3\n",
    "[1] 4\n",
    "[1] 5\n",
    "[1] 6\n",
    "[1] 7\n",
    "[1] 8\n",
    "[1] 9\n",
    "[1] 10\n",
    "> \n",
    "```"
   ]
  },
  {
   "cell_type": "code",
   "execution_count": 122,
   "metadata": {},
   "outputs": [
    {
     "name": "stdout",
     "output_type": "stream",
     "text": [
      "Help on class range in module builtins:\n",
      "\n",
      "class range(object)\n",
      " |  range(stop) -> range object\n",
      " |  range(start, stop[, step]) -> range object\n",
      " |  \n",
      " |  Return an object that produces a sequence of integers from start (inclusive)\n",
      " |  to stop (exclusive) by step.  range(i, j) produces i, i+1, i+2, ..., j-1.\n",
      " |  start defaults to 0, and stop is omitted!  range(4) produces 0, 1, 2, 3.\n",
      " |  These are exactly the valid indices for a list of 4 elements.\n",
      " |  When step is given, it specifies the increment (or decrement).\n",
      " |  \n",
      " |  Methods defined here:\n",
      " |  \n",
      " |  __bool__(self, /)\n",
      " |      True if self else False\n",
      " |  \n",
      " |  __contains__(self, key, /)\n",
      " |      Return key in self.\n",
      " |  \n",
      " |  __eq__(self, value, /)\n",
      " |      Return self==value.\n",
      " |  \n",
      " |  __ge__(self, value, /)\n",
      " |      Return self>=value.\n",
      " |  \n",
      " |  __getattribute__(self, name, /)\n",
      " |      Return getattr(self, name).\n",
      " |  \n",
      " |  __getitem__(self, key, /)\n",
      " |      Return self[key].\n",
      " |  \n",
      " |  __gt__(self, value, /)\n",
      " |      Return self>value.\n",
      " |  \n",
      " |  __hash__(self, /)\n",
      " |      Return hash(self).\n",
      " |  \n",
      " |  __iter__(self, /)\n",
      " |      Implement iter(self).\n",
      " |  \n",
      " |  __le__(self, value, /)\n",
      " |      Return self<=value.\n",
      " |  \n",
      " |  __len__(self, /)\n",
      " |      Return len(self).\n",
      " |  \n",
      " |  __lt__(self, value, /)\n",
      " |      Return self<value.\n",
      " |  \n",
      " |  __ne__(self, value, /)\n",
      " |      Return self!=value.\n",
      " |  \n",
      " |  __reduce__(...)\n",
      " |      Helper for pickle.\n",
      " |  \n",
      " |  __repr__(self, /)\n",
      " |      Return repr(self).\n",
      " |  \n",
      " |  __reversed__(...)\n",
      " |      Return a reverse iterator.\n",
      " |  \n",
      " |  count(...)\n",
      " |      rangeobject.count(value) -> integer -- return number of occurrences of value\n",
      " |  \n",
      " |  index(...)\n",
      " |      rangeobject.index(value) -> integer -- return index of value.\n",
      " |      Raise ValueError if the value is not present.\n",
      " |  \n",
      " |  ----------------------------------------------------------------------\n",
      " |  Static methods defined here:\n",
      " |  \n",
      " |  __new__(*args, **kwargs) from builtins.type\n",
      " |      Create and return a new object.  See help(type) for accurate signature.\n",
      " |  \n",
      " |  ----------------------------------------------------------------------\n",
      " |  Data descriptors defined here:\n",
      " |  \n",
      " |  start\n",
      " |  \n",
      " |  step\n",
      " |  \n",
      " |  stop\n",
      "\n"
     ]
    }
   ],
   "source": [
    "help(range)"
   ]
  },
  {
   "cell_type": "markdown",
   "metadata": {},
   "source": [
    "a sequence of integers from start (inclusive) to stop (exclusive) by step"
   ]
  },
  {
   "cell_type": "code",
   "execution_count": 123,
   "metadata": {},
   "outputs": [
    {
     "name": "stdout",
     "output_type": "stream",
     "text": [
      "0\n",
      "2\n",
      "4\n",
      "6\n",
      "8\n"
     ]
    }
   ],
   "source": [
    "for r in range(0, 10, 2): #\n",
    "    print(r)"
   ]
  },
  {
   "cell_type": "markdown",
   "metadata": {},
   "source": [
    "## NoneType - `None`"
   ]
  },
  {
   "cell_type": "markdown",
   "metadata": {},
   "source": [
    "The None type in Python is a special data type that represents the absence of a value. The None type is often used to represent missing values or empty data structures. For example, the value of a variable that has not been assigned a value yet, or to represent the value of an element in a list that is not present. The None type is also often used as the default return value for functions"
   ]
  },
  {
   "cell_type": "code",
   "execution_count": null,
   "metadata": {},
   "outputs": [],
   "source": []
  },
  {
   "cell_type": "code",
   "execution_count": 124,
   "metadata": {},
   "outputs": [
    {
     "data": {
      "text/plain": [
       "NoneType"
      ]
     },
     "execution_count": 124,
     "metadata": {},
     "output_type": "execute_result"
    }
   ],
   "source": [
    "here_goes_nothing = None\n",
    "type(here_goes_nothing)"
   ]
  },
  {
   "cell_type": "code",
   "execution_count": 125,
   "metadata": {},
   "outputs": [
    {
     "data": {
      "text/plain": [
       "list"
      ]
     },
     "execution_count": 125,
     "metadata": {},
     "output_type": "execute_result"
    }
   ],
   "source": [
    "list_with_none_element = [1, 2, 3, None]\n",
    "type(list_with_none_element)"
   ]
  },
  {
   "cell_type": "code",
   "execution_count": 126,
   "metadata": {},
   "outputs": [
    {
     "name": "stdout",
     "output_type": "stream",
     "text": [
      "None\n"
     ]
    }
   ],
   "source": [
    "print(list_with_none_element[3])"
   ]
  },
  {
   "cell_type": "code",
   "execution_count": 127,
   "metadata": {},
   "outputs": [
    {
     "data": {
      "text/plain": [
       "True"
      ]
     },
     "execution_count": 127,
     "metadata": {},
     "output_type": "execute_result"
    }
   ],
   "source": [
    "list_with_none_element[3] == None"
   ]
  },
  {
   "cell_type": "code",
   "execution_count": 128,
   "metadata": {},
   "outputs": [
    {
     "data": {
      "text/plain": [
       "True"
      ]
     },
     "execution_count": 128,
     "metadata": {},
     "output_type": "execute_result"
    }
   ],
   "source": [
    "list_with_none_element[3] is None"
   ]
  },
  {
   "cell_type": "markdown",
   "metadata": {},
   "source": [
    "# Comparing values (comparison operators)"
   ]
  },
  {
   "cell_type": "markdown",
   "metadata": {},
   "source": [
    "Comparison operators: \n",
    "\n",
    "    - Less than ( < )\n",
    "    - Less than or equal to (<=)\n",
    "    - Greater than (>)\n",
    "    - Greater than or equal to (>=)\n",
    "    - Equal to ( == )\n",
    "    - Not equal to ( != )"
   ]
  },
  {
   "cell_type": "code",
   "execution_count": 129,
   "metadata": {},
   "outputs": [
    {
     "data": {
      "text/plain": [
       "False"
      ]
     },
     "execution_count": 129,
     "metadata": {},
     "output_type": "execute_result"
    }
   ],
   "source": [
    "x = 10\n",
    "y = 23\n",
    "x == y"
   ]
  },
  {
   "cell_type": "code",
   "execution_count": 130,
   "metadata": {},
   "outputs": [
    {
     "data": {
      "text/plain": [
       "True"
      ]
     },
     "execution_count": 130,
     "metadata": {},
     "output_type": "execute_result"
    }
   ],
   "source": [
    "x < y"
   ]
  },
  {
   "cell_type": "code",
   "execution_count": 131,
   "metadata": {},
   "outputs": [
    {
     "data": {
      "text/plain": [
       "False"
      ]
     },
     "execution_count": 131,
     "metadata": {},
     "output_type": "execute_result"
    }
   ],
   "source": [
    "x >= y"
   ]
  },
  {
   "cell_type": "code",
   "execution_count": 132,
   "metadata": {},
   "outputs": [
    {
     "data": {
      "text/plain": [
       "True"
      ]
     },
     "execution_count": 132,
     "metadata": {},
     "output_type": "execute_result"
    }
   ],
   "source": [
    "x <= y"
   ]
  },
  {
   "cell_type": "code",
   "execution_count": 133,
   "metadata": {},
   "outputs": [
    {
     "data": {
      "text/plain": [
       "True"
      ]
     },
     "execution_count": 133,
     "metadata": {},
     "output_type": "execute_result"
    }
   ],
   "source": [
    "x = 10\n",
    "y = 10\n",
    "x == y"
   ]
  },
  {
   "cell_type": "markdown",
   "metadata": {},
   "source": [
    "Comparison operators on strings"
   ]
  },
  {
   "cell_type": "code",
   "execution_count": 134,
   "metadata": {},
   "outputs": [],
   "source": [
    "x = 'bear'; y = 'pear'; z = 'apple'\n"
   ]
  },
  {
   "cell_type": "code",
   "execution_count": 135,
   "metadata": {},
   "outputs": [
    {
     "data": {
      "text/plain": [
       "False"
      ]
     },
     "execution_count": 135,
     "metadata": {},
     "output_type": "execute_result"
    }
   ],
   "source": [
    "x == y"
   ]
  },
  {
   "cell_type": "code",
   "execution_count": 136,
   "metadata": {},
   "outputs": [
    {
     "data": {
      "text/plain": [
       "True"
      ]
     },
     "execution_count": 136,
     "metadata": {},
     "output_type": "execute_result"
    }
   ],
   "source": [
    "y >= x #true since p comes after b in the alphabet"
   ]
  },
  {
   "cell_type": "code",
   "execution_count": 137,
   "metadata": {},
   "outputs": [
    {
     "data": {
      "text/plain": [
       "(True, False, False)"
      ]
     },
     "execution_count": 137,
     "metadata": {},
     "output_type": "execute_result"
    }
   ],
   "source": [
    "pear = 'pear'\n",
    "Pear = 'Pear'\n",
    "pear > Pear, pear < Pear, pear == Pear"
   ]
  },
  {
   "cell_type": "markdown",
   "metadata": {},
   "source": [
    "Python uses ASCIIbetical order -  uppercase letters come before lowercase letters. This is because uppercase letters have lower ASCII codes than lowercase letters. For example, the ASCII code for the uppercase letter \"A\" is 65, while the ASCII code for the lowercase letter \"a\" is 97."
   ]
  },
  {
   "cell_type": "code",
   "execution_count": 138,
   "metadata": {},
   "outputs": [
    {
     "name": "stdout",
     "output_type": "stream",
     "text": [
      "pear\n"
     ]
    }
   ],
   "source": [
    "pear = 'pear'\n",
    "Pear = 'Pear'\n",
    "print(Pear.lower()) #converts Pear to lower case\n",
    "\n"
   ]
  },
  {
   "cell_type": "code",
   "execution_count": 139,
   "metadata": {},
   "outputs": [
    {
     "data": {
      "text/plain": [
       "True"
      ]
     },
     "execution_count": 139,
     "metadata": {},
     "output_type": "execute_result"
    }
   ],
   "source": [
    "pear.lower() == Pear.lower()"
   ]
  },
  {
   "cell_type": "markdown",
   "metadata": {},
   "source": [
    "Care when comparing floats"
   ]
  },
  {
   "cell_type": "code",
   "execution_count": 140,
   "metadata": {},
   "outputs": [
    {
     "data": {
      "text/plain": [
       "False"
      ]
     },
     "execution_count": 140,
     "metadata": {},
     "output_type": "execute_result"
    }
   ],
   "source": [
    "x = 1.2\n",
    "y = 2.2 - 1\n",
    "x == y"
   ]
  },
  {
   "cell_type": "code",
   "execution_count": 141,
   "metadata": {},
   "outputs": [
    {
     "name": "stdout",
     "output_type": "stream",
     "text": [
      "1.2\n"
     ]
    }
   ],
   "source": [
    "print(x)"
   ]
  },
  {
   "cell_type": "code",
   "execution_count": 142,
   "metadata": {},
   "outputs": [
    {
     "name": "stdout",
     "output_type": "stream",
     "text": [
      "1.2000000000000002\n"
     ]
    }
   ],
   "source": [
    "print(y)"
   ]
  },
  {
   "cell_type": "markdown",
   "metadata": {},
   "source": [
    " It is important to use either the round() function or libraries such as NumPy when comparing floats. This is because floating-point numbers are not represented exactly in computers. Instead, they are represented using a finite number of bits, which can lead to rounding errors.\n",
    "\n",
    " We will cover NumPy in the next notebook"
   ]
  },
  {
   "cell_type": "code",
   "execution_count": 143,
   "metadata": {},
   "outputs": [
    {
     "data": {
      "text/plain": [
       "False"
      ]
     },
     "execution_count": 143,
     "metadata": {},
     "output_type": "execute_result"
    }
   ],
   "source": [
    "x = 1.2\n",
    "y = 2.2 - 1\n",
    "x == y"
   ]
  },
  {
   "cell_type": "code",
   "execution_count": 144,
   "metadata": {},
   "outputs": [
    {
     "data": {
      "text/plain": [
       "True"
      ]
     },
     "execution_count": 144,
     "metadata": {},
     "output_type": "execute_result"
    }
   ],
   "source": [
    "round(x, 4) == round(y, 4)"
   ]
  },
  {
   "cell_type": "markdown",
   "metadata": {},
   "source": [
    "$x < y < z$: multiple comparisons in one line"
   ]
  },
  {
   "cell_type": "code",
   "execution_count": 145,
   "metadata": {},
   "outputs": [
    {
     "data": {
      "text/plain": [
       "True"
      ]
     },
     "execution_count": 145,
     "metadata": {},
     "output_type": "execute_result"
    }
   ],
   "source": [
    "12 < 13 <= 14"
   ]
  },
  {
   "cell_type": "markdown",
   "metadata": {},
   "source": [
    "Care when comparing values having multiple data types with `==` and `!=`... python does not produce an error"
   ]
  },
  {
   "cell_type": "code",
   "execution_count": 146,
   "metadata": {},
   "outputs": [
    {
     "data": {
      "text/plain": [
       "False"
      ]
     },
     "execution_count": 146,
     "metadata": {},
     "output_type": "execute_result"
    }
   ],
   "source": [
    "x = 'apple'\n",
    "y = 123\n",
    "\n",
    "x == y"
   ]
  },
  {
   "cell_type": "code",
   "execution_count": 147,
   "metadata": {},
   "outputs": [
    {
     "ename": "TypeError",
     "evalue": "'<' not supported between instances of 'str' and 'int'",
     "output_type": "error",
     "traceback": [
      "\u001b[1;31m---------------------------------------------------------------------------\u001b[0m",
      "\u001b[1;31mTypeError\u001b[0m                                 Traceback (most recent call last)",
      "Cell \u001b[1;32mIn[147], line 1\u001b[0m\n\u001b[1;32m----> 1\u001b[0m x \u001b[38;5;241m<\u001b[39m y\n",
      "\u001b[1;31mTypeError\u001b[0m: '<' not supported between instances of 'str' and 'int'"
     ]
    }
   ],
   "source": [
    "x < y"
   ]
  },
  {
   "cell_type": "code",
   "execution_count": 148,
   "metadata": {},
   "outputs": [
    {
     "data": {
      "text/plain": [
       "True"
      ]
     },
     "execution_count": 148,
     "metadata": {},
     "output_type": "execute_result"
    }
   ],
   "source": [
    "x != y"
   ]
  },
  {
   "cell_type": "markdown",
   "metadata": {},
   "source": [
    "The `is` and `is not` comparison operators in Python are used to compare the identity of two objects. This means that they check whether the two objects refer to the same object in memory."
   ]
  },
  {
   "cell_type": "code",
   "execution_count": 149,
   "metadata": {},
   "outputs": [
    {
     "name": "stdout",
     "output_type": "stream",
     "text": [
      "Comparisons\n",
      "***********\n",
      "\n",
      "Unlike C, all comparison operations in Python have the same priority,\n",
      "which is lower than that of any arithmetic, shifting or bitwise\n",
      "operation.  Also unlike C, expressions like \"a < b < c\" have the\n",
      "interpretation that is conventional in mathematics:\n",
      "\n",
      "   comparison    ::= or_expr (comp_operator or_expr)*\n",
      "   comp_operator ::= \"<\" | \">\" | \"==\" | \">=\" | \"<=\" | \"!=\"\n",
      "                     | \"is\" [\"not\"] | [\"not\"] \"in\"\n",
      "\n",
      "Comparisons yield boolean values: \"True\" or \"False\". Custom *rich\n",
      "comparison methods* may return non-boolean values. In this case Python\n",
      "will call \"bool()\" on such value in boolean contexts.\n",
      "\n",
      "Comparisons can be chained arbitrarily, e.g., \"x < y <= z\" is\n",
      "equivalent to \"x < y and y <= z\", except that \"y\" is evaluated only\n",
      "once (but in both cases \"z\" is not evaluated at all when \"x < y\" is\n",
      "found to be false).\n",
      "\n",
      "Formally, if *a*, *b*, *c*, …, *y*, *z* are expressions and *op1*,\n",
      "*op2*, …, *opN* are comparison operators, then \"a op1 b op2 c ... y\n",
      "opN z\" is equivalent to \"a op1 b and b op2 c and ... y opN z\", except\n",
      "that each expression is evaluated at most once.\n",
      "\n",
      "Note that \"a op1 b op2 c\" doesn’t imply any kind of comparison between\n",
      "*a* and *c*, so that, e.g., \"x < y > z\" is perfectly legal (though\n",
      "perhaps not pretty).\n",
      "\n",
      "\n",
      "Value comparisons\n",
      "=================\n",
      "\n",
      "The operators \"<\", \">\", \"==\", \">=\", \"<=\", and \"!=\" compare the values\n",
      "of two objects.  The objects do not need to have the same type.\n",
      "\n",
      "Chapter Objects, values and types states that objects have a value (in\n",
      "addition to type and identity).  The value of an object is a rather\n",
      "abstract notion in Python: For example, there is no canonical access\n",
      "method for an object’s value.  Also, there is no requirement that the\n",
      "value of an object should be constructed in a particular way, e.g.\n",
      "comprised of all its data attributes. Comparison operators implement a\n",
      "particular notion of what the value of an object is.  One can think of\n",
      "them as defining the value of an object indirectly, by means of their\n",
      "comparison implementation.\n",
      "\n",
      "Because all types are (direct or indirect) subtypes of \"object\", they\n",
      "inherit the default comparison behavior from \"object\".  Types can\n",
      "customize their comparison behavior by implementing *rich comparison\n",
      "methods* like \"__lt__()\", described in Basic customization.\n",
      "\n",
      "The default behavior for equality comparison (\"==\" and \"!=\") is based\n",
      "on the identity of the objects.  Hence, equality comparison of\n",
      "instances with the same identity results in equality, and equality\n",
      "comparison of instances with different identities results in\n",
      "inequality.  A motivation for this default behavior is the desire that\n",
      "all objects should be reflexive (i.e. \"x is y\" implies \"x == y\").\n",
      "\n",
      "A default order comparison (\"<\", \">\", \"<=\", and \">=\") is not provided;\n",
      "an attempt raises \"TypeError\".  A motivation for this default behavior\n",
      "is the lack of a similar invariant as for equality.\n",
      "\n",
      "The behavior of the default equality comparison, that instances with\n",
      "different identities are always unequal, may be in contrast to what\n",
      "types will need that have a sensible definition of object value and\n",
      "value-based equality.  Such types will need to customize their\n",
      "comparison behavior, and in fact, a number of built-in types have done\n",
      "that.\n",
      "\n",
      "The following list describes the comparison behavior of the most\n",
      "important built-in types.\n",
      "\n",
      "* Numbers of built-in numeric types (Numeric Types — int, float,\n",
      "  complex) and of the standard library types \"fractions.Fraction\" and\n",
      "  \"decimal.Decimal\" can be compared within and across their types,\n",
      "  with the restriction that complex numbers do not support order\n",
      "  comparison.  Within the limits of the types involved, they compare\n",
      "  mathematically (algorithmically) correct without loss of precision.\n",
      "\n",
      "  The not-a-number values \"float('NaN')\" and \"decimal.Decimal('NaN')\"\n",
      "  are special.  Any ordered comparison of a number to a not-a-number\n",
      "  value is false. A counter-intuitive implication is that not-a-number\n",
      "  values are not equal to themselves.  For example, if \"x =\n",
      "  float('NaN')\", \"3 < x\", \"x < 3\" and \"x == x\" are all false, while \"x\n",
      "  != x\" is true.  This behavior is compliant with IEEE 754.\n",
      "\n",
      "* \"None\" and \"NotImplemented\" are singletons.  **PEP 8** advises that\n",
      "  comparisons for singletons should always be done with \"is\" or \"is\n",
      "  not\", never the equality operators.\n",
      "\n",
      "* Binary sequences (instances of \"bytes\" or \"bytearray\") can be\n",
      "  compared within and across their types.  They compare\n",
      "  lexicographically using the numeric values of their elements.\n",
      "\n",
      "* Strings (instances of \"str\") compare lexicographically using the\n",
      "  numerical Unicode code points (the result of the built-in function\n",
      "  \"ord()\") of their characters. [3]\n",
      "\n",
      "  Strings and binary sequences cannot be directly compared.\n",
      "\n",
      "* Sequences (instances of \"tuple\", \"list\", or \"range\") can be compared\n",
      "  only within each of their types, with the restriction that ranges do\n",
      "  not support order comparison.  Equality comparison across these\n",
      "  types results in inequality, and ordering comparison across these\n",
      "  types raises \"TypeError\".\n",
      "\n",
      "  Sequences compare lexicographically using comparison of\n",
      "  corresponding elements.  The built-in containers typically assume\n",
      "  identical objects are equal to themselves.  That lets them bypass\n",
      "  equality tests for identical objects to improve performance and to\n",
      "  maintain their internal invariants.\n",
      "\n",
      "  Lexicographical comparison between built-in collections works as\n",
      "  follows:\n",
      "\n",
      "  * For two collections to compare equal, they must be of the same\n",
      "    type, have the same length, and each pair of corresponding\n",
      "    elements must compare equal (for example, \"[1,2] == (1,2)\" is\n",
      "    false because the type is not the same).\n",
      "\n",
      "  * Collections that support order comparison are ordered the same as\n",
      "    their first unequal elements (for example, \"[1,2,x] <= [1,2,y]\"\n",
      "    has the same value as \"x <= y\").  If a corresponding element does\n",
      "    not exist, the shorter collection is ordered first (for example,\n",
      "    \"[1,2] < [1,2,3]\" is true).\n",
      "\n",
      "* Mappings (instances of \"dict\") compare equal if and only if they\n",
      "  have equal \"(key, value)\" pairs. Equality comparison of the keys and\n",
      "  values enforces reflexivity.\n",
      "\n",
      "  Order comparisons (\"<\", \">\", \"<=\", and \">=\") raise \"TypeError\".\n",
      "\n",
      "* Sets (instances of \"set\" or \"frozenset\") can be compared within and\n",
      "  across their types.\n",
      "\n",
      "  They define order comparison operators to mean subset and superset\n",
      "  tests.  Those relations do not define total orderings (for example,\n",
      "  the two sets \"{1,2}\" and \"{2,3}\" are not equal, nor subsets of one\n",
      "  another, nor supersets of one another).  Accordingly, sets are not\n",
      "  appropriate arguments for functions which depend on total ordering\n",
      "  (for example, \"min()\", \"max()\", and \"sorted()\" produce undefined\n",
      "  results given a list of sets as inputs).\n",
      "\n",
      "  Comparison of sets enforces reflexivity of its elements.\n",
      "\n",
      "* Most other built-in types have no comparison methods implemented, so\n",
      "  they inherit the default comparison behavior.\n",
      "\n",
      "User-defined classes that customize their comparison behavior should\n",
      "follow some consistency rules, if possible:\n",
      "\n",
      "* Equality comparison should be reflexive. In other words, identical\n",
      "  objects should compare equal:\n",
      "\n",
      "     \"x is y\" implies \"x == y\"\n",
      "\n",
      "* Comparison should be symmetric. In other words, the following\n",
      "  expressions should have the same result:\n",
      "\n",
      "     \"x == y\" and \"y == x\"\n",
      "\n",
      "     \"x != y\" and \"y != x\"\n",
      "\n",
      "     \"x < y\" and \"y > x\"\n",
      "\n",
      "     \"x <= y\" and \"y >= x\"\n",
      "\n",
      "* Comparison should be transitive. The following (non-exhaustive)\n",
      "  examples illustrate that:\n",
      "\n",
      "     \"x > y and y > z\" implies \"x > z\"\n",
      "\n",
      "     \"x < y and y <= z\" implies \"x < z\"\n",
      "\n",
      "* Inverse comparison should result in the boolean negation. In other\n",
      "  words, the following expressions should have the same result:\n",
      "\n",
      "     \"x == y\" and \"not x != y\"\n",
      "\n",
      "     \"x < y\" and \"not x >= y\" (for total ordering)\n",
      "\n",
      "     \"x > y\" and \"not x <= y\" (for total ordering)\n",
      "\n",
      "  The last two expressions apply to totally ordered collections (e.g.\n",
      "  to sequences, but not to sets or mappings). See also the\n",
      "  \"total_ordering()\" decorator.\n",
      "\n",
      "* The \"hash()\" result should be consistent with equality. Objects that\n",
      "  are equal should either have the same hash value, or be marked as\n",
      "  unhashable.\n",
      "\n",
      "Python does not enforce these consistency rules. In fact, the\n",
      "not-a-number values are an example for not following these rules.\n",
      "\n",
      "\n",
      "Membership test operations\n",
      "==========================\n",
      "\n",
      "The operators \"in\" and \"not in\" test for membership.  \"x in s\"\n",
      "evaluates to \"True\" if *x* is a member of *s*, and \"False\" otherwise.\n",
      "\"x not in s\" returns the negation of \"x in s\".  All built-in sequences\n",
      "and set types support this as well as dictionary, for which \"in\" tests\n",
      "whether the dictionary has a given key. For container types such as\n",
      "list, tuple, set, frozenset, dict, or collections.deque, the\n",
      "expression \"x in y\" is equivalent to \"any(x is e or x == e for e in\n",
      "y)\".\n",
      "\n",
      "For the string and bytes types, \"x in y\" is \"True\" if and only if *x*\n",
      "is a substring of *y*.  An equivalent test is \"y.find(x) != -1\".\n",
      "Empty strings are always considered to be a substring of any other\n",
      "string, so \"\"\" in \"abc\"\" will return \"True\".\n",
      "\n",
      "For user-defined classes which define the \"__contains__()\" method, \"x\n",
      "in y\" returns \"True\" if \"y.__contains__(x)\" returns a true value, and\n",
      "\"False\" otherwise.\n",
      "\n",
      "For user-defined classes which do not define \"__contains__()\" but do\n",
      "define \"__iter__()\", \"x in y\" is \"True\" if some value \"z\", for which\n",
      "the expression \"x is z or x == z\" is true, is produced while iterating\n",
      "over \"y\". If an exception is raised during the iteration, it is as if\n",
      "\"in\" raised that exception.\n",
      "\n",
      "Lastly, the old-style iteration protocol is tried: if a class defines\n",
      "\"__getitem__()\", \"x in y\" is \"True\" if and only if there is a non-\n",
      "negative integer index *i* such that \"x is y[i] or x == y[i]\", and no\n",
      "lower integer index raises the \"IndexError\" exception.  (If any other\n",
      "exception is raised, it is as if \"in\" raised that exception).\n",
      "\n",
      "The operator \"not in\" is defined to have the inverse truth value of\n",
      "\"in\".\n",
      "\n",
      "\n",
      "Identity comparisons\n",
      "====================\n",
      "\n",
      "The operators \"is\" and \"is not\" test for an object’s identity: \"x is\n",
      "y\" is true if and only if *x* and *y* are the same object.  An\n",
      "Object’s identity is determined using the \"id()\" function.  \"x is not\n",
      "y\" yields the inverse truth value. [4]\n",
      "\n",
      "Related help topics: EXPRESSIONS, BASICMETHODS\n",
      "\n"
     ]
    }
   ],
   "source": [
    "help(\"is\")"
   ]
  },
  {
   "cell_type": "code",
   "execution_count": 150,
   "metadata": {},
   "outputs": [
    {
     "data": {
      "text/plain": [
       "False"
      ]
     },
     "execution_count": 150,
     "metadata": {},
     "output_type": "execute_result"
    }
   ],
   "source": [
    "x = [1, 2, 3]\n",
    "y = [1, 2, 3]\n",
    "x is y"
   ]
  },
  {
   "cell_type": "code",
   "execution_count": 151,
   "metadata": {},
   "outputs": [
    {
     "data": {
      "text/plain": [
       "True"
      ]
     },
     "execution_count": 151,
     "metadata": {},
     "output_type": "execute_result"
    }
   ],
   "source": [
    "x == y"
   ]
  },
  {
   "cell_type": "code",
   "execution_count": 152,
   "metadata": {},
   "outputs": [
    {
     "data": {
      "text/plain": [
       "True"
      ]
     },
     "execution_count": 152,
     "metadata": {},
     "output_type": "execute_result"
    }
   ],
   "source": [
    "x = [1, 2, 3]\n",
    "y = x\n",
    "\n",
    "x is y"
   ]
  },
  {
   "cell_type": "markdown",
   "metadata": {},
   "source": [
    "# Loops - repeated evaluation"
   ]
  },
  {
   "cell_type": "markdown",
   "metadata": {},
   "source": [
    "The following code iterates through a sequence of values between 0 (inclusive) and 10 (not inclusive) and prints the square or the iterator i:\n"
   ]
  },
  {
   "cell_type": "code",
   "execution_count": 153,
   "metadata": {},
   "outputs": [
    {
     "name": "stdout",
     "output_type": "stream",
     "text": [
      "the square of 0 is 0\n",
      "the square of 1 is 1\n",
      "the square of 2 is 4\n",
      "the square of 3 is 9\n",
      "the square of 4 is 16\n",
      "the square of 5 is 25\n",
      "the square of 6 is 36\n",
      "the square of 7 is 49\n",
      "the square of 8 is 64\n",
      "the square of 9 is 81\n"
     ]
    }
   ],
   "source": [
    "for i in range(10):\n",
    "    #print the square of i\n",
    "    print(\"the square of\", i, \"is\", i**2)"
   ]
  },
  {
   "cell_type": "markdown",
   "metadata": {},
   "source": [
    "Note the indentation, and the use of colon in python for loops.\n",
    "\n",
    "The colon is used to separate the loop header from the loop body. The loop header contains the loop condition and the loop variable. The loop body contains the code that will be executed for each iteration of the loop.\n",
    "\n",
    "\n",
    "The loop condition in this example is i < 10. This means that the loop will continue to execute until the value of i is equal to 10.\n",
    "\n",
    "The loop variable in this example is i. This means that the loop will iterate over the values in the range 0 to 9.\n",
    "\n",
    "The indentation of the print statement indicates that the print function will be evaluated for each value in the range. \n",
    "\n",
    "Indentation is used to define the scope of the loop body, while the colon is used to separate the loop header from the loop body.\n",
    "\n",
    "Unlike R, indentation is required.... makes a readable code."
   ]
  },
  {
   "cell_type": "code",
   "execution_count": 154,
   "metadata": {},
   "outputs": [
    {
     "name": "stdout",
     "output_type": "stream",
     "text": [
      "A\n",
      "B\n",
      "C\n",
      "D\n",
      "A\n",
      "D\n",
      "B\n",
      "F\n",
      "C\n",
      "D\n",
      "A\n",
      "B\n"
     ]
    }
   ],
   "source": [
    "#Lists are also iterable\n",
    "\n",
    "students_end_of_year_grades = ['A', 'B', 'C', 'D', 'A', 'D', 'B', 'F', 'C', 'D', 'A', 'B']\n",
    "\n",
    "for grade in students_end_of_year_grades:\n",
    "    print(grade)"
   ]
  },
  {
   "cell_type": "markdown",
   "metadata": {},
   "source": [
    "Use a for loop to print only when a grade of A is encountered"
   ]
  },
  {
   "cell_type": "code",
   "execution_count": 155,
   "metadata": {},
   "outputs": [
    {
     "name": "stdout",
     "output_type": "stream",
     "text": [
      "Student received a grade of A\n",
      "Student received a grade of A\n",
      "Student received a grade of A\n"
     ]
    }
   ],
   "source": [
    "for grade in students_end_of_year_grades:\n",
    "    if grade == 'A':\n",
    "        print(\"Student received a grade of A\")\n",
    "        "
   ]
  },
  {
   "cell_type": "code",
   "execution_count": 156,
   "metadata": {},
   "outputs": [
    {
     "name": "stdout",
     "output_type": "stream",
     "text": [
      "Student received a grade of A and is indexed at 0\n",
      "Student received a grade of A and is indexed at 4\n",
      "Student received a grade of A and is indexed at 10\n"
     ]
    }
   ],
   "source": [
    "#also print the index value of the grade only for students who received an A\n",
    "for index, grade in enumerate(students_end_of_year_grades):\n",
    "    if grade == 'A':\n",
    "        print(\"Student received a grade of A and is indexed at\", index)\n",
    "        "
   ]
  },
  {
   "cell_type": "code",
   "execution_count": 157,
   "metadata": {},
   "outputs": [
    {
     "name": "stdout",
     "output_type": "stream",
     "text": [
      "Help on class enumerate in module builtins:\n",
      "\n",
      "class enumerate(object)\n",
      " |  enumerate(iterable, start=0)\n",
      " |  \n",
      " |  Return an enumerate object.\n",
      " |  \n",
      " |    iterable\n",
      " |      an object supporting iteration\n",
      " |  \n",
      " |  The enumerate object yields pairs containing a count (from start, which\n",
      " |  defaults to zero) and a value yielded by the iterable argument.\n",
      " |  \n",
      " |  enumerate is useful for obtaining an indexed list:\n",
      " |      (0, seq[0]), (1, seq[1]), (2, seq[2]), ...\n",
      " |  \n",
      " |  Methods defined here:\n",
      " |  \n",
      " |  __getattribute__(self, name, /)\n",
      " |      Return getattr(self, name).\n",
      " |  \n",
      " |  __iter__(self, /)\n",
      " |      Implement iter(self).\n",
      " |  \n",
      " |  __next__(self, /)\n",
      " |      Implement next(self).\n",
      " |  \n",
      " |  __reduce__(...)\n",
      " |      Return state information for pickling.\n",
      " |  \n",
      " |  ----------------------------------------------------------------------\n",
      " |  Class methods defined here:\n",
      " |  \n",
      " |  __class_getitem__(...) from builtins.type\n",
      " |      See PEP 585\n",
      " |  \n",
      " |  ----------------------------------------------------------------------\n",
      " |  Static methods defined here:\n",
      " |  \n",
      " |  __new__(*args, **kwargs) from builtins.type\n",
      " |      Create and return a new object.  See help(type) for accurate signature.\n",
      "\n"
     ]
    }
   ],
   "source": [
    "help(enumerate)"
   ]
  },
  {
   "cell_type": "markdown",
   "metadata": {},
   "source": [
    "**continue** and **break**\n",
    "\n",
    "    - `continue` skips the rest of the current iteration of the loop and goes to the next iteration. \n",
    "    - `break` terminates the loop and starts executing the code after the loop."
   ]
  },
  {
   "cell_type": "code",
   "execution_count": 158,
   "metadata": {},
   "outputs": [
    {
     "name": "stdout",
     "output_type": "stream",
     "text": [
      "[1, 2, 3, 4, 5, 6, 7, 8, 9, 10, 11, 12, 13, 14, 15, 16, 17, 18, 19, 20]\n"
     ]
    }
   ],
   "source": [
    "list20 = list(range(1,21))\n",
    "print(list20)"
   ]
  },
  {
   "cell_type": "markdown",
   "metadata": {},
   "source": [
    "Continue to the next iteration of list20 if number is less than 7"
   ]
  },
  {
   "cell_type": "code",
   "execution_count": 159,
   "metadata": {},
   "outputs": [
    {
     "name": "stdout",
     "output_type": "stream",
     "text": [
      "7\n",
      "8\n",
      "9\n",
      "10\n",
      "11\n",
      "12\n",
      "13\n",
      "14\n",
      "15\n",
      "16\n",
      "17\n",
      "18\n",
      "19\n",
      "20\n"
     ]
    }
   ],
   "source": [
    "# Continue to the next iteration of the loop if the element is less than 7.\n",
    "for element in list20:\n",
    "  if element < 7:\n",
    "    continue\n",
    "  print(element)"
   ]
  },
  {
   "cell_type": "code",
   "execution_count": 160,
   "metadata": {},
   "outputs": [
    {
     "name": "stdout",
     "output_type": "stream",
     "text": [
      "1\n",
      "2\n",
      "3\n",
      "4\n",
      "5\n",
      "6\n",
      "7\n",
      "8\n",
      "9\n",
      "10\n"
     ]
    }
   ],
   "source": [
    "# Break out of the loop if the element is greater than 10\n",
    "for element in list20:\n",
    "  if element > 10:\n",
    "    break\n",
    "  print(element)"
   ]
  },
  {
   "cell_type": "markdown",
   "metadata": {},
   "source": [
    "Skip all of the elements in the list that are even"
   ]
  },
  {
   "cell_type": "code",
   "execution_count": 161,
   "metadata": {},
   "outputs": [
    {
     "name": "stdout",
     "output_type": "stream",
     "text": [
      "1\n",
      "3\n",
      "5\n",
      "7\n",
      "9\n",
      "11\n",
      "13\n",
      "15\n",
      "17\n",
      "19\n"
     ]
    }
   ],
   "source": [
    "for element in list20:\n",
    "  if element % 2 == 0:\n",
    "    continue\n",
    "  print(element)"
   ]
  },
  {
   "cell_type": "markdown",
   "metadata": {},
   "source": [
    "`while loop`"
   ]
  },
  {
   "cell_type": "code",
   "execution_count": 162,
   "metadata": {},
   "outputs": [
    {
     "name": "stdout",
     "output_type": "stream",
     "text": [
      "[1, 3, 5, 7, 9, 11, 13, 15, 17, 19]\n"
     ]
    }
   ],
   "source": [
    "list_odds = list(range(1,20,2))\n",
    "print(list_odds)"
   ]
  },
  {
   "cell_type": "code",
   "execution_count": 163,
   "metadata": {},
   "outputs": [
    {
     "name": "stdout",
     "output_type": "stream",
     "text": [
      "1\n",
      "3\n",
      "5\n",
      "7\n",
      "9\n",
      "11\n",
      "13\n",
      "15\n",
      "17\n",
      "19\n"
     ]
    }
   ],
   "source": [
    "i = 0\n",
    "while i < len(list_odds):\n",
    "    print(list_odds[i])\n",
    "    i = i + 1"
   ]
  },
  {
   "cell_type": "markdown",
   "metadata": {},
   "source": [
    "Using `i = +1` instead of `i = i + 1`"
   ]
  },
  {
   "cell_type": "code",
   "execution_count": 164,
   "metadata": {},
   "outputs": [
    {
     "name": "stdout",
     "output_type": "stream",
     "text": [
      "1\n",
      "3\n",
      "5\n",
      "7\n",
      "9\n",
      "11\n",
      "13\n",
      "15\n",
      "17\n",
      "19\n"
     ]
    }
   ],
   "source": [
    "i = 0\n",
    "while i < len(list_odds):\n",
    "    print(list_odds[i])\n",
    "    i += 1"
   ]
  },
  {
   "cell_type": "markdown",
   "metadata": {},
   "source": [
    "Stop when the cumulative sum of elements in `list_odds` is above 20"
   ]
  },
  {
   "cell_type": "code",
   "execution_count": 165,
   "metadata": {},
   "outputs": [
    {
     "name": "stdout",
     "output_type": "stream",
     "text": [
      "Adding 1. Cumulative sum is: 1\n",
      "Adding 3. Cumulative sum is: 4\n",
      "Adding 5. Cumulative sum is: 9\n",
      "Adding 7. Cumulative sum is: 16\n",
      "Adding 9. Cumulative sum is: 25\n"
     ]
    }
   ],
   "source": [
    "#Stop when the cumulative sum of elements in list_odds is above 20\n",
    "i = 0\n",
    "sum_odds = 0\n",
    "while sum_odds <= 20:\n",
    "    sum_odds += list_odds[i]\n",
    "    print(f\"Adding {list_odds[i]}. Cumulative sum is: {sum_odds}\")\n",
    "    i += 1"
   ]
  },
  {
   "cell_type": "markdown",
   "metadata": {},
   "source": [
    "Using while loop to get the root of $x^2 - 1$ using Newton-Raphson algorithm"
   ]
  },
  {
   "cell_type": "code",
   "execution_count": 166,
   "metadata": {},
   "outputs": [
    {
     "name": "stdout",
     "output_type": "stream",
     "text": [
      "5.05\n",
      "2.624009900990099\n",
      "1.5025530119986812\n",
      "1.0840434673026924\n",
      "1.0032578510960606\n",
      "1.0000052895642693\n",
      "1.0000000000139897\n"
     ]
    }
   ],
   "source": [
    "err = 999\n",
    "x0 = 10 #initializing\n",
    "while abs(err) > 1e-5:\n",
    "    x1 = x0 - (x0**2 - 1) / (2*x0)\n",
    "    err = x1 - x0\n",
    "    x0 = x1\n",
    "    print(x0)"
   ]
  },
  {
   "cell_type": "markdown",
   "metadata": {},
   "source": [
    "# Dictionaries"
   ]
  },
  {
   "cell_type": "markdown",
   "metadata": {},
   "source": [
    "Suppose we want to capture patients' id, serum total cholesterol in mg/dl (chol), and body-mass index in kg/m2 (bmi). \n",
    "We can store this information in a key value pair data structure called dictionary."
   ]
  },
  {
   "cell_type": "code",
   "execution_count": 167,
   "metadata": {},
   "outputs": [],
   "source": [
    "patient_details = {'patient_id': 1, 'bmi': 26.2, 'chol': 215.0}"
   ]
  },
  {
   "cell_type": "code",
   "execution_count": 168,
   "metadata": {},
   "outputs": [
    {
     "data": {
      "text/plain": [
       "dict"
      ]
     },
     "execution_count": 168,
     "metadata": {},
     "output_type": "execute_result"
    }
   ],
   "source": [
    "type(patient_details)"
   ]
  },
  {
   "cell_type": "code",
   "execution_count": 169,
   "metadata": {},
   "outputs": [
    {
     "data": {
      "text/plain": [
       "True"
      ]
     },
     "execution_count": 169,
     "metadata": {},
     "output_type": "execute_result"
    }
   ],
   "source": [
    "isinstance(patient_details, dict)"
   ]
  },
  {
   "cell_type": "markdown",
   "metadata": {},
   "source": [
    "Access elements of a dictionary"
   ]
  },
  {
   "cell_type": "code",
   "execution_count": 170,
   "metadata": {},
   "outputs": [
    {
     "data": {
      "text/plain": [
       "26.2"
      ]
     },
     "execution_count": 170,
     "metadata": {},
     "output_type": "execute_result"
    }
   ],
   "source": [
    "patient_details['bmi'] # Access the value of the key 'bmi'"
   ]
  },
  {
   "cell_type": "markdown",
   "metadata": {},
   "source": [
    "What happens if you provide a key that does not exist?"
   ]
  },
  {
   "cell_type": "code",
   "execution_count": 171,
   "metadata": {},
   "outputs": [
    {
     "ename": "KeyError",
     "evalue": "'age'",
     "output_type": "error",
     "traceback": [
      "\u001b[1;31m---------------------------------------------------------------------------\u001b[0m",
      "\u001b[1;31mKeyError\u001b[0m                                  Traceback (most recent call last)",
      "Cell \u001b[1;32mIn[171], line 1\u001b[0m\n\u001b[1;32m----> 1\u001b[0m patient_details[\u001b[38;5;124m'\u001b[39m\u001b[38;5;124mage\u001b[39m\u001b[38;5;124m'\u001b[39m]\n",
      "\u001b[1;31mKeyError\u001b[0m: 'age'"
     ]
    }
   ],
   "source": [
    "\n",
    "patient_details['age']"
   ]
  },
  {
   "cell_type": "markdown",
   "metadata": {},
   "source": [
    "Another way to access the value for a given key"
   ]
  },
  {
   "cell_type": "code",
   "execution_count": 172,
   "metadata": {},
   "outputs": [
    {
     "data": {
      "text/plain": [
       "215.0"
      ]
     },
     "execution_count": 172,
     "metadata": {},
     "output_type": "execute_result"
    }
   ],
   "source": [
    "patient_details.get('chol')"
   ]
  },
  {
   "cell_type": "markdown",
   "metadata": {},
   "source": [
    "Using the get method returns a None value for keys that aren't present in the dictionary"
   ]
  },
  {
   "cell_type": "code",
   "execution_count": 173,
   "metadata": {},
   "outputs": [
    {
     "name": "stdout",
     "output_type": "stream",
     "text": [
      "None\n"
     ]
    }
   ],
   "source": [
    "print(patient_details.get('age') )"
   ]
  },
  {
   "cell_type": "code",
   "execution_count": 174,
   "metadata": {},
   "outputs": [
    {
     "data": {
      "text/plain": [
       "True"
      ]
     },
     "execution_count": 174,
     "metadata": {},
     "output_type": "execute_result"
    }
   ],
   "source": [
    "patient_details.get('age') is None"
   ]
  },
  {
   "cell_type": "code",
   "execution_count": 175,
   "metadata": {},
   "outputs": [
    {
     "data": {
      "text/plain": [
       "'NA'"
      ]
     },
     "execution_count": 175,
     "metadata": {},
     "output_type": "execute_result"
    }
   ],
   "source": [
    "patient_details.get('age', 'NA')"
   ]
  },
  {
   "cell_type": "markdown",
   "metadata": {},
   "source": [
    "Dictionaries are mutable"
   ]
  },
  {
   "cell_type": "code",
   "execution_count": 176,
   "metadata": {},
   "outputs": [
    {
     "name": "stdout",
     "output_type": "stream",
     "text": [
      "{'patient_id': 1, 'bmi': 26.2, 'chol': 215.0, 'age': 45}\n"
     ]
    }
   ],
   "source": [
    "patient_details['age'] = 45\n",
    "print(patient_details)"
   ]
  },
  {
   "cell_type": "code",
   "execution_count": 177,
   "metadata": {},
   "outputs": [
    {
     "data": {
      "text/plain": [
       "{'patient_id': 1, 'bmi': 26.2, 'chol': 215.0, 'age': 45}"
      ]
     },
     "execution_count": 177,
     "metadata": {},
     "output_type": "execute_result"
    }
   ],
   "source": [
    "#print patient_details without the key 'age'\n",
    "patient_details"
   ]
  },
  {
   "cell_type": "markdown",
   "metadata": {},
   "source": [
    "Dictionaries are iterable"
   ]
  },
  {
   "cell_type": "code",
   "execution_count": 178,
   "metadata": {},
   "outputs": [
    {
     "name": "stdout",
     "output_type": "stream",
     "text": [
      "1\n",
      "26.2\n",
      "215.0\n",
      "45\n"
     ]
    }
   ],
   "source": [
    "#iterate over keys and print the values: \n",
    "for key in patient_details:\n",
    "    print(patient_details[key])"
   ]
  },
  {
   "cell_type": "code",
   "execution_count": 179,
   "metadata": {},
   "outputs": [
    {
     "name": "stdout",
     "output_type": "stream",
     "text": [
      "patient_id , 1\n",
      "bmi , 26.2\n",
      "chol , 215.0\n",
      "age , 45\n"
     ]
    }
   ],
   "source": [
    "for key, val in patient_details.items():\n",
    "    print(key, ',',  val)"
   ]
  },
  {
   "cell_type": "code",
   "execution_count": 180,
   "metadata": {},
   "outputs": [
    {
     "name": "stdout",
     "output_type": "stream",
     "text": [
      "Patient id:  1  has a bmi of  26.2\n",
      "Patient id:  5  has a bmi of  34.1\n",
      "Patient id:  12  has a bmi of  26.1\n"
     ]
    }
   ],
   "source": [
    "patients_details2 = [{'patient_id': 1, 'bmi': 26.2, 'chol': 215.0},\n",
    " {'patient_id': 2, 'bmi': 24.7, 'chol': 204.0},\n",
    " {'patient_id': 3, 'bmi': 24.2, 'chol': 205.0},\n",
    " {'patient_id': 4, 'bmi': 23.8, 'chol': 182.0},\n",
    " {'patient_id': 5, 'bmi': 34.1, 'chol': 175.0},\n",
    " {'patient_id': 6, 'bmi': 22.7, 'chol': 176.0},\n",
    " {'patient_id': 7, 'bmi': 22.9, 'chol': 159.0},\n",
    " {'patient_id': 8, 'bmi': 24.9, 'chol': 169.0},\n",
    " {'patient_id': 9, 'bmi': 20.4, 'chol': 175.0},\n",
    " {'patient_id': 10, 'bmi': 22.0, 'chol': 189.0},\n",
    " {'patient_id': 11, 'bmi': 21.0, 'chol': 207.0},\n",
    " {'patient_id': 12, 'bmi': 26.1, 'chol': 166.0},\n",
    " {'patient_id': 13, 'bmi': 23.0, 'chol': 193.0}]\n",
    "\n",
    " #iterate over the list of dicts and print patient_id only when bmi is greater than 25\n",
    "for patient in patients_details2:\n",
    "    if patient['bmi'] > 25:\n",
    "        print(\"Patient id: \", patient['patient_id'], ' has a bmi of ', patient['bmi'])"
   ]
  },
  {
   "cell_type": "markdown",
   "metadata": {},
   "source": [
    "Below is a dictionary of dictionaries (vs. list of dicts as above). Let's print the key value pair for each patient when bmi is greater than 25."
   ]
  },
  {
   "cell_type": "code",
   "execution_count": 181,
   "metadata": {},
   "outputs": [],
   "source": [
    "\n",
    "patients_details3 = {\n",
    "1: {'bmi': 26.2, 'chol': 215.0}, \n",
    "2: {'bmi': 24.7, 'chol': 204.0},\n",
    "3: {'bmi': 24.2, 'chol': 205.0}, \n",
    "4: {'bmi': 23.8, 'chol': 182.0}, \n",
    "5: {'bmi': 34.1, 'chol': 175.0}, \n",
    "6: {'bmi': 22.7, 'chol': 176.0}, \n",
    "7: {'bmi': 22.9, 'chol': 159.0}, \n",
    "8: {'bmi': 24.9, 'chol': 169.0}, \n",
    "9: {'bmi': 20.4, 'chol': 175.0}, \n",
    "10: {'bmi': 22.0, 'chol': 189.0}, \n",
    "11: {'bmi': 21.0, 'chol': 207.0}, \n",
    "12: {'bmi': 26.1, 'chol': 166.0}, \n",
    "13: {'bmi': 23.0, 'chol': 193.0}\n",
    "}"
   ]
  },
  {
   "cell_type": "code",
   "execution_count": 182,
   "metadata": {},
   "outputs": [
    {
     "name": "stdout",
     "output_type": "stream",
     "text": [
      "{'bmi': 26.2, 'chol': 215.0}\n",
      "{'bmi': 34.1, 'chol': 175.0}\n",
      "{'bmi': 26.1, 'chol': 166.0}\n"
     ]
    }
   ],
   "source": [
    "for pt in patients_details3:\n",
    "    if patients_details3[pt]['bmi'] > 25:\n",
    "        print(patients_details3[pt])"
   ]
  },
  {
   "cell_type": "markdown",
   "metadata": {},
   "source": [
    "# Functions"
   ]
  },
  {
   "cell_type": "markdown",
   "metadata": {},
   "source": [
    "We have used several built-in python functions above e.g., range(), abs(). We have also used functions from imported packages e.g, np.floor()"
   ]
  },
  {
   "cell_type": "markdown",
   "metadata": {},
   "source": [
    "Let's now create a custom function. "
   ]
  },
  {
   "cell_type": "code",
   "execution_count": 183,
   "metadata": {},
   "outputs": [],
   "source": [
    "def say_hi():\n",
    "    print('Hello there!')"
   ]
  },
  {
   "cell_type": "code",
   "execution_count": 184,
   "metadata": {},
   "outputs": [
    {
     "name": "stdout",
     "output_type": "stream",
     "text": [
      "Hello there!\n"
     ]
    }
   ],
   "source": [
    "say_hi()"
   ]
  },
  {
   "cell_type": "code",
   "execution_count": 185,
   "metadata": {},
   "outputs": [],
   "source": [
    "def i_do_nothing():\n",
    "    pass"
   ]
  },
  {
   "cell_type": "code",
   "execution_count": 186,
   "metadata": {},
   "outputs": [
    {
     "name": "stdout",
     "output_type": "stream",
     "text": [
      "None\n"
     ]
    }
   ],
   "source": [
    "x = i_do_nothing()\n",
    "print(x)"
   ]
  },
  {
   "cell_type": "markdown",
   "metadata": {},
   "source": [
    "A function that calculates the mean of numbers in a list"
   ]
  },
  {
   "cell_type": "code",
   "execution_count": 187,
   "metadata": {},
   "outputs": [],
   "source": [
    "def calc_sum(li):\n",
    "    total = 0\n",
    "    for i in li:\n",
    "        total += i\n",
    "    return total"
   ]
  },
  {
   "cell_type": "code",
   "execution_count": 188,
   "metadata": {},
   "outputs": [
    {
     "data": {
      "text/plain": [
       "15"
      ]
     },
     "execution_count": 188,
     "metadata": {},
     "output_type": "execute_result"
    }
   ],
   "source": [
    "calc_sum([1, 2, 3, 4, 5])"
   ]
  },
  {
   "cell_type": "markdown",
   "metadata": {},
   "source": [
    "The `def` keyword is used to define a function in Python. The function name is `calc_sum` and it takes one parameter, `li`, which is a list.\n",
    "\n",
    "The **function body** contains a for loop that iterates over the list and adds each element to the variable total. \n",
    "\n",
    "The `return` statement returns the value of `total` at the end of the function."
   ]
  },
  {
   "cell_type": "markdown",
   "metadata": {},
   "source": [
    "All of the statements in the function body, including the for loop and the return statement, are indented. This means that they are all part of the function body and will be executed when the function is called.\n",
    "\n",
    "If the statements in the function body were not indented correctly, Python would not be able to determine which statements belong to the function body and which statements do not. This would lead to errors when the function is called."
   ]
  },
  {
   "cell_type": "markdown",
   "metadata": {},
   "source": [
    "A function whose input is a bmi value and whose output is bma category. Note the if/elif/else "
   ]
  },
  {
   "cell_type": "code",
   "execution_count": 189,
   "metadata": {},
   "outputs": [],
   "source": [
    "def bmi_category(bmi):\n",
    "    if bmi < 18.5:\n",
    "        return 'Underweight'\n",
    "    elif bmi < 25:\n",
    "        return 'Normal weight'\n",
    "    elif bmi < 30:\n",
    "        return 'Overweight'\n",
    "    else:\n",
    "        return 'Obese'"
   ]
  },
  {
   "cell_type": "code",
   "execution_count": 190,
   "metadata": {},
   "outputs": [
    {
     "data": {
      "text/plain": [
       "'Normal weight'"
      ]
     },
     "execution_count": 190,
     "metadata": {},
     "output_type": "execute_result"
    }
   ],
   "source": [
    "bmi_category(22)"
   ]
  },
  {
   "cell_type": "markdown",
   "metadata": {},
   "source": [
    "Two or more argument finctions.... e.g.,  multiply each element of a list by a factor"
   ]
  },
  {
   "cell_type": "code",
   "execution_count": 191,
   "metadata": {},
   "outputs": [
    {
     "name": "stdout",
     "output_type": "stream",
     "text": [
      "[10, 20, 30, 40, 50]\n"
     ]
    }
   ],
   "source": [
    "def multiply_list_by_factor(li, factor):\n",
    "    new_li = []\n",
    "    for i in li:\n",
    "        new_li.append(i*factor)\n",
    "    return new_li\n",
    "\n",
    "print(multiply_list_by_factor([1, 2, 3, 4, 5], 10))"
   ]
  },
  {
   "cell_type": "markdown",
   "metadata": {},
   "source": [
    "Setting default values for some parameters"
   ]
  },
  {
   "cell_type": "code",
   "execution_count": 192,
   "metadata": {},
   "outputs": [
    {
     "data": {
      "text/plain": [
       "[10, 20, 30, 40, 50]"
      ]
     },
     "execution_count": 192,
     "metadata": {},
     "output_type": "execute_result"
    }
   ],
   "source": [
    "def multiply_list_by_factor(li, factor = 10):\n",
    "    new_li = []\n",
    "    for i in li:\n",
    "        new_li.append(i*factor)\n",
    "    return new_li\n",
    "\n",
    "multiply_list_by_factor([1, 2, 3, 4, 5])"
   ]
  },
  {
   "cell_type": "markdown",
   "metadata": {},
   "source": [
    "Anonymous functions - also called lambda functions\n",
    "\n",
    "They are defined without a name and can be used anywhere where a function object is required."
   ]
  },
  {
   "cell_type": "code",
   "execution_count": 193,
   "metadata": {},
   "outputs": [
    {
     "data": {
      "text/plain": [
       "9"
      ]
     },
     "execution_count": 193,
     "metadata": {},
     "output_type": "execute_result"
    }
   ],
   "source": [
    "square_me = lambda x: x**2\n",
    "square_me(3)"
   ]
  },
  {
   "cell_type": "code",
   "execution_count": 194,
   "metadata": {},
   "outputs": [
    {
     "name": "stdout",
     "output_type": "stream",
     "text": [
      "3\n"
     ]
    }
   ],
   "source": [
    "add = lambda x, y: x + y\n",
    "\n",
    "print(add(1, 2))"
   ]
  },
  {
   "cell_type": "markdown",
   "metadata": {},
   "source": [
    "lambda functions are typically used with the mapping functions"
   ]
  },
  {
   "cell_type": "code",
   "execution_count": 195,
   "metadata": {},
   "outputs": [
    {
     "data": {
      "text/plain": [
       "[1, 4, 9, 16, 25]"
      ]
     },
     "execution_count": 195,
     "metadata": {},
     "output_type": "execute_result"
    }
   ],
   "source": [
    "#map applies a function to each element of a list\n",
    "list(map(lambda x: x**2, [1, 2, 3, 4, 5]))"
   ]
  },
  {
   "cell_type": "code",
   "execution_count": 196,
   "metadata": {},
   "outputs": [
    {
     "name": "stdout",
     "output_type": "stream",
     "text": [
      "[2, 4, 6]\n"
     ]
    }
   ],
   "source": [
    "nums = [1, 2, 3, 4, 5, 6]\n",
    "even_nums = list(filter(lambda x: x % 2 == 0, nums))\n",
    "\n",
    "print(even_nums)"
   ]
  },
  {
   "cell_type": "markdown",
   "metadata": {},
   "source": [
    "# List comprehension"
   ]
  },
  {
   "cell_type": "markdown",
   "metadata": {},
   "source": [
    " List comprehensions are a concise way to create new lists from existing lists. "
   ]
  },
  {
   "cell_type": "code",
   "execution_count": 197,
   "metadata": {},
   "outputs": [
    {
     "data": {
      "text/plain": [
       "[1, 4, 9, 16, 25]"
      ]
     },
     "execution_count": 197,
     "metadata": {},
     "output_type": "execute_result"
    }
   ],
   "source": [
    "#list comprehension\n",
    "[x**2 for x in [1, 2, 3, 4, 5]]"
   ]
  },
  {
   "cell_type": "code",
   "execution_count": 198,
   "metadata": {},
   "outputs": [
    {
     "data": {
      "text/plain": [
       "[1, 9, 25]"
      ]
     },
     "execution_count": 198,
     "metadata": {},
     "output_type": "execute_result"
    }
   ],
   "source": [
    "[x**2 for x in [1, 2, 3, 4, 5] if x % 2 != 0]"
   ]
  },
  {
   "cell_type": "code",
   "execution_count": 199,
   "metadata": {},
   "outputs": [
    {
     "name": "stdout",
     "output_type": "stream",
     "text": [
      "[1, 9, 25]\n"
     ]
    }
   ],
   "source": [
    "squares = []\n",
    "for x in [1, 2, 3, 4, 5]:\n",
    "    if x % 2 != 0:\n",
    "        squares.append(x**2)\n",
    "print(squares)"
   ]
  },
  {
   "cell_type": "markdown",
   "metadata": {},
   "source": [
    " The list comprehension above is a one-liner that performs the same task as the for loop"
   ]
  }
 ],
 "metadata": {
  "kernelspec": {
   "display_name": "Python 3 (ipykernel)",
   "language": "python",
   "name": "python3"
  },
  "language_info": {
   "codemirror_mode": {
    "name": "ipython",
    "version": 3
   },
   "file_extension": ".py",
   "mimetype": "text/x-python",
   "name": "python",
   "nbconvert_exporter": "python",
   "pygments_lexer": "ipython3",
   "version": "3.11.3"
  }
 },
 "nbformat": 4,
 "nbformat_minor": 4
}
