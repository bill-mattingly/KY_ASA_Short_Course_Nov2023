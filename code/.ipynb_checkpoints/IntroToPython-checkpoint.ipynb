{
 "cells": [
  {
   "cell_type": "markdown",
   "metadata": {},
   "source": [
    "# Housekeeping Items: \n",
    "\n",
    "Take note of the building code (to be shared in the room). You will need it to reenter the building if you leave during breaks."
   ]
  },
  {
   "cell_type": "markdown",
   "metadata": {},
   "source": [
    "# As a user of R, why should I learn python?\n",
    "**Collaboration:** Python has become a popular language for data sience, so it is more likely that your coworkers and collaborators will be using Python. If you can code in Python, you will be able to collaborate more effectively with them.\n",
    "\n",
    "\n",
    "Other reasons:\n",
    " - Easy(easier) to learn and use, with a simple and readable syntax.\n",
    " - General-purpose language, can be used for a wide variety of tasks, including web development, data science, machine learning, and artificial intelligence.\n",
    " - In high demand, with many job opportunities available for Python developers.\n",
    " - Free and open source, anyone can use and distribute Python without paying any fees.\n",
    " - Has a large and active community of developers, with many libraries and tools available."
   ]
  },
  {
   "cell_type": "markdown",
   "metadata": {},
   "source": [
    "# Mathematical Operators in Python"
   ]
  },
  {
   "cell_type": "markdown",
   "metadata": {},
   "source": [
    "### Addition Operator in Python:"
   ]
  },
  {
   "cell_type": "code",
   "execution_count": 1,
   "metadata": {},
   "outputs": [
    {
     "data": {
      "text/plain": [
       "8"
      ]
     },
     "execution_count": 1,
     "metadata": {},
     "output_type": "execute_result"
    }
   ],
   "source": [
    "1 + 7 "
   ]
  },
  {
   "cell_type": "markdown",
   "metadata": {},
   "source": [
    "### Subtraction Operator in Python:"
   ]
  },
  {
   "cell_type": "code",
   "execution_count": 2,
   "metadata": {},
   "outputs": [
    {
     "data": {
      "text/plain": [
       "-7"
      ]
     },
     "execution_count": 2,
     "metadata": {},
     "output_type": "execute_result"
    }
   ],
   "source": [
    "1 - 8"
   ]
  },
  {
   "cell_type": "markdown",
   "metadata": {},
   "source": [
    "### Multiplication Operator in Python:"
   ]
  },
  {
   "cell_type": "code",
   "execution_count": 3,
   "metadata": {},
   "outputs": [
    {
     "data": {
      "text/plain": [
       "600"
      ]
     },
     "execution_count": 3,
     "metadata": {},
     "output_type": "execute_result"
    }
   ],
   "source": [
    "200 * 3"
   ]
  },
  {
   "cell_type": "markdown",
   "metadata": {},
   "source": [
    "### Division Operator in Python:"
   ]
  },
  {
   "cell_type": "code",
   "execution_count": 4,
   "metadata": {
    "scrolled": true
   },
   "outputs": [
    {
     "data": {
      "text/plain": [
       "5.625"
      ]
     },
     "execution_count": 4,
     "metadata": {},
     "output_type": "execute_result"
    }
   ],
   "source": [
    "45 / 8"
   ]
  },
  {
   "cell_type": "markdown",
   "metadata": {},
   "source": [
    "### Exponentiation (raising to a power) Operator in Python:\n",
    "\n",
    "Note: the operator `^` is used in R for this purpose"
   ]
  },
  {
   "cell_type": "code",
   "execution_count": 5,
   "metadata": {
    "scrolled": true
   },
   "outputs": [
    {
     "data": {
      "text/plain": [
       "9"
      ]
     },
     "execution_count": 5,
     "metadata": {},
     "output_type": "execute_result"
    }
   ],
   "source": [
    "3**2"
   ]
  },
  {
   "cell_type": "code",
   "execution_count": 6,
   "metadata": {},
   "outputs": [
    {
     "data": {
      "text/plain": [
       "9"
      ]
     },
     "execution_count": 6,
     "metadata": {},
     "output_type": "execute_result"
    }
   ],
   "source": [
    "3 ** 2 # space does not matter here"
   ]
  },
  {
   "cell_type": "markdown",
   "metadata": {},
   "source": [
    "### Floor Division Operator in Python:"
   ]
  },
  {
   "cell_type": "markdown",
   "metadata": {},
   "source": [
    "Note: The floor division operator in R is `%/%`."
   ]
  },
  {
   "cell_type": "code",
   "execution_count": 7,
   "metadata": {},
   "outputs": [
    {
     "data": {
      "text/plain": [
       "3.5"
      ]
     },
     "execution_count": 7,
     "metadata": {},
     "output_type": "execute_result"
    }
   ],
   "source": [
    "7 / 2"
   ]
  },
  {
   "cell_type": "code",
   "execution_count": null,
   "metadata": {},
   "outputs": [],
   "source": [
    "7 // 2"
   ]
  },
  {
   "cell_type": "markdown",
   "metadata": {},
   "source": [
    "Using floor function in the numpy library/package. Note in R, the function `floor()` is available to use out of the box (i.e., it is part of base R). "
   ]
  },
  {
   "cell_type": "code",
   "execution_count": 9,
   "metadata": {},
   "outputs": [],
   "source": [
    "import numpy as np"
   ]
  },
  {
   "cell_type": "code",
   "execution_count": 10,
   "metadata": {},
   "outputs": [
    {
     "data": {
      "text/plain": [
       "3.0"
      ]
     },
     "execution_count": 10,
     "metadata": {},
     "output_type": "execute_result"
    }
   ],
   "source": [
    "np.floor(7/2)"
   ]
  },
  {
   "cell_type": "code",
   "execution_count": 11,
   "metadata": {},
   "outputs": [
    {
     "name": "stdout",
     "output_type": "stream",
     "text": [
      "Help on built-in function divmod in module builtins:\n",
      "\n",
      "divmod(x, y, /)\n",
      "    Return the tuple (x//y, x%y).  Invariant: div*y + mod == x.\n",
      "\n"
     ]
    }
   ],
   "source": [
    "help(divmod)"
   ]
  },
  {
   "cell_type": "code",
   "execution_count": 12,
   "metadata": {},
   "outputs": [
    {
     "data": {
      "text/plain": [
       "(3, 1)"
      ]
     },
     "execution_count": 12,
     "metadata": {},
     "output_type": "execute_result"
    }
   ],
   "source": [
    "divmod(7, 2) #output is a tupule"
   ]
  },
  {
   "cell_type": "code",
   "execution_count": null,
   "metadata": {},
   "outputs": [],
   "source": []
  },
  {
   "cell_type": "markdown",
   "metadata": {},
   "source": [
    "### Modulo Operator in Python:"
   ]
  },
  {
   "cell_type": "markdown",
   "metadata": {},
   "source": [
    "Note: this is achieved via the operator `%%` in R."
   ]
  },
  {
   "cell_type": "code",
   "execution_count": 13,
   "metadata": {},
   "outputs": [
    {
     "data": {
      "text/plain": [
       "3.5"
      ]
     },
     "execution_count": 13,
     "metadata": {},
     "output_type": "execute_result"
    }
   ],
   "source": [
    "7 / 2"
   ]
  },
  {
   "cell_type": "code",
   "execution_count": 14,
   "metadata": {},
   "outputs": [],
   "source": [
    "#7/2 is 3 remainder 1"
   ]
  },
  {
   "cell_type": "code",
   "execution_count": 15,
   "metadata": {},
   "outputs": [
    {
     "data": {
      "text/plain": [
       "1"
      ]
     },
     "execution_count": 15,
     "metadata": {},
     "output_type": "execute_result"
    }
   ],
   "source": [
    "7 % 2"
   ]
  },
  {
   "cell_type": "markdown",
   "metadata": {},
   "source": [
    "# Importing/loading packages "
   ]
  },
  {
   "cell_type": "code",
   "execution_count": 16,
   "metadata": {},
   "outputs": [],
   "source": [
    "import numpy as np\n"
   ]
  },
  {
   "cell_type": "markdown",
   "metadata": {},
   "source": [
    "The `import numpy as np` statement imports the entire NumPy module. This means that you can access any of the functions and variables in the NumPy module by simply using their names. For example, to access the NumPy sin() function, you would use the following code:"
   ]
  },
  {
   "cell_type": "code",
   "execution_count": null,
   "metadata": {},
   "outputs": [],
   "source": [
    "np.sin(np.pi / 2)"
   ]
  },
  {
   "cell_type": "code",
   "execution_count": null,
   "metadata": {},
   "outputs": [],
   "source": [
    "import math\n",
    "from matplotlib import pyplot as plt\n",
    "import matplotlib.pyplot as plt\n",
    "import scipy.stats as stats"
   ]
  },
  {
   "cell_type": "markdown",
   "metadata": {},
   "source": [
    "The `import math` statement imports the entire math module. This means that you can access any of the functions and variables in the math module by simply using their names. For example, to access the math e constant, you would use the following code:"
   ]
  },
  {
   "cell_type": "code",
   "execution_count": null,
   "metadata": {},
   "outputs": [],
   "source": [
    "math.e"
   ]
  },
  {
   "cell_type": "code",
   "execution_count": null,
   "metadata": {},
   "outputs": [],
   "source": [
    "math.ceil(math.e)"
   ]
  },
  {
   "cell_type": "markdown",
   "metadata": {},
   "source": [
    "The `from matplotlib import pyplot as plt` statement imports only the pyplot submodule of the Matplotlib module. This means that you can access any of the functions and variables in the pyplot submodule by simply using their names. For example, to plot a line graph, you would use the following code:"
   ]
  },
  {
   "cell_type": "code",
   "execution_count": null,
   "metadata": {},
   "outputs": [],
   "source": [
    "plt.plot([1, 2, 3], [4, 5, 6])\n",
    "plt"
   ]
  },
  {
   "cell_type": "markdown",
   "metadata": {},
   "source": [
    "The `import matplotlib.pyplot as plt` is the same as the previous import statement, but it is less common."
   ]
  },
  {
   "cell_type": "markdown",
   "metadata": {},
   "source": [
    "# Installing packages"
   ]
  },
  {
   "cell_type": "markdown",
   "metadata": {},
   "source": [
    "**pip user guide:** https://pip.pypa.io/en/stable/user_guide/"
   ]
  },
  {
   "cell_type": "markdown",
   "metadata": {},
   "source": [
    "**What is pip?**\n",
    "\n",
    "`Pip` is the default package manager for Python. It allows you to install, uninstall, and manage Python packages from the Python Package Index (PyPI).\n",
    "\n",
    "_How to install pip_\n",
    "\n",
    "Pip comes pre installed with the anaconda distribution of python. If `pip` is not already installed on your system, you can install it using the following command. This is meant to be run on a command prompt (e.g., Anaconda prompt) or shell/console.\n",
    "\n",
    "    `python -m pip install --upgrade pip`\n",
    "\n",
    "_How to use pip_\n",
    "\n",
    "Once pip is installed, you can use it to install, uninstall, and manage Python packages.\n",
    "\n",
    "To install a package, use the following command:\n",
    "\n",
    "    `pip install --user package_name`\n",
    "\n",
    "This will install the package. The --user flag ensuers that package is only installed for your user.\n",
    "\n",
    "To uninstall a package, use the following command:\n",
    "\n",
    "    `pip uninstall package_name`\n",
    "\n",
    "\n",
    "To list all of the packages that are installed on your system, use the following command:\n",
    "\n",
    "    `pip list`\n",
    "To search for a package on PyPI, use the following command:\n",
    "\n",
    "    `pip search package_name`"
   ]
  },
  {
   "cell_type": "markdown",
   "metadata": {},
   "source": [
    "More reading on installing packages: \n",
    "- Installing packages: \n",
    "    - https://packaging.python.org/en/latest/tutorials/installing-packages/#installing-packages\n",
    "- Installing global packages using `pipx`\n",
    "    - https://packaging.python.org/en/latest/guides/installing-stand-alone-command-line-tools/\n",
    "- Managing dependencies: \n",
    "    - https://packaging.python.org/en/latest/tutorials/managing-dependencies/"
   ]
  },
  {
   "cell_type": "markdown",
   "metadata": {},
   "source": [
    "# Python variable assignments"
   ]
  },
  {
   "cell_type": "markdown",
   "metadata": {},
   "source": [
    "Variable assignment  is the process of giving a name to a value so that you can refer to it later."
   ]
  },
  {
   "cell_type": "markdown",
   "metadata": {},
   "source": [
    "*Assignment operator*:\n",
    "- Python: `=`\n",
    "    - e.g, `x = 10`\n",
    "- R: `<-` or `=`: \n",
    "    - e.g., `x <- 10`\n",
    "\n",
    "In R, the assignment operator  `<-` is typically used over `=` operator, with `=` used to assign values to function arguments… e.g., `y <- log(x = 1)`."
   ]
  },
  {
   "cell_type": "code",
   "execution_count": null,
   "metadata": {},
   "outputs": [],
   "source": [
    "student_age = 25"
   ]
  },
  {
   "cell_type": "code",
   "execution_count": null,
   "metadata": {},
   "outputs": [],
   "source": [
    "print(student_age)"
   ]
  },
  {
   "cell_type": "code",
   "execution_count": null,
   "metadata": {},
   "outputs": [],
   "source": [
    "lecture_day = 'Friday'\n",
    "print(lecture_day)"
   ]
  },
  {
   "cell_type": "code",
   "execution_count": null,
   "metadata": {},
   "outputs": [],
   "source": [
    "sales_amt_2023 = 34_231.25\n",
    "profit_margin = 0.15\n",
    "\n",
    "print(f\" The profit for 2023 is {sales_amt_2023 * 0.15}\")"
   ]
  },
  {
   "cell_type": "markdown",
   "metadata": {},
   "source": [
    "Note the use of the **f-string** in the print statement. Enclose a string literal in f-quotes. Inside the string literal, you can write a Python expression between curly braces `{}`. The Python expression will be evaluated and the result will be inserted into the string literal."
   ]
  },
  {
   "cell_type": "code",
   "execution_count": null,
   "metadata": {},
   "outputs": [],
   "source": [
    "profit_amt_2023 = sales_amt_2023 * 0.15\n",
    "\n",
    "#f-string currency format profit_amt_2023\n",
    "print(f\"The profit margin is {profit_margin: .2%}.\")\n",
    "\n",
    "print(f\"\"\" Sales amount and profit for 2023 are {sales_amt_2023: ,.2f} \n",
    "      and {profit_amt_2023: .2f} respectively\"\"\")"
   ]
  },
  {
   "cell_type": "markdown",
   "metadata": {},
   "source": [
    "## Python Variable Naming Convention\n",
    "\n",
    "Valid Python Variable Names: \n",
    "- Can contain lowercase and uppercase letters\n",
    "- Can contain numbers 0-9, but cannot start with a number\n",
    "- Can contain underscores\n"
   ]
  },
  {
   "cell_type": "markdown",
   "metadata": {},
   "source": [
    "Invalid variable names"
   ]
  },
  {
   "cell_type": "code",
   "execution_count": null,
   "metadata": {},
   "outputs": [],
   "source": [
    "lecture.day = 'Friday' #R allows such syntax - in fact very commonly used."
   ]
  },
  {
   "cell_type": "code",
   "execution_count": null,
   "metadata": {},
   "outputs": [],
   "source": [
    "student age = 25 # R does not allow this"
   ]
  },
  {
   "cell_type": "code",
   "execution_count": null,
   "metadata": {},
   "outputs": [],
   "source": [
    "2023_sales_amt= 34231 # Not allowed in R as well"
   ]
  },
  {
   "cell_type": "markdown",
   "metadata": {},
   "source": [
    "From Google’s Python style guide: https://google.github.io/styleguide/pyguide.html\n",
    "\n",
    "\"Function names, variable names, and filenames should be descriptive; avoid abbreviation. In particular,  do not use abbreviations that are ambiguous or unfamiliar to readers outside your project, and do not abbreviate by deleting letters within a word\"\n",
    "\n",
    "`module_name, package_name, ClassName, method_name, ExceptionName, function_name, GLOBAL_CONSTANT_NAME, global_var_name, instance_var_name, function_parameter_name, local_var_name, query_proper_noun_for_thing, send_acronym_via_https`\n",
    "\n",
    "\n",
    "Names to avoid: \n",
    "- Single character names, except for specifically allowed cases:\n",
    "    - counters or iterators (e.g., i, j, k, v, et al.)\n",
    "    - e as an exception identifier in try/except statements.\n",
    "    - f as a file handle in with statements\n",
    "\n",
    "- Dashes (-) in any package/module name\n",
    "\n",
    "- Double_leading_and_trailing_underscore names (reserved by Python: e.g., `__self__`)\n",
    "\n",
    "- Offensive terms\n",
    "\n",
    "\n",
    "\n"
   ]
  },
  {
   "cell_type": "markdown",
   "metadata": {},
   "source": [
    "# Python Built-in Data Types"
   ]
  },
  {
   "cell_type": "markdown",
   "metadata": {},
   "source": [
    "## String - `str`\n",
    "\n",
    "Analogous to `character` data types in R."
   ]
  },
  {
   "cell_type": "code",
   "execution_count": null,
   "metadata": {},
   "outputs": [],
   "source": [
    "state_name = 'Indiana'\n",
    "type(state_name)\n"
   ]
  },
  {
   "cell_type": "code",
   "execution_count": null,
   "metadata": {},
   "outputs": [],
   "source": [
    "help(type)"
   ]
  },
  {
   "cell_type": "markdown",
   "metadata": {},
   "source": [
    "Note: In R, we use `class()` and `typeof()`."
   ]
  },
  {
   "cell_type": "markdown",
   "metadata": {},
   "source": [
    "Strings in double quotes. R has a similar behavior"
   ]
  },
  {
   "cell_type": "code",
   "execution_count": null,
   "metadata": {},
   "outputs": [],
   "source": [
    "city_name = 'Louisville'\n",
    "print(city_name)"
   ]
  },
  {
   "cell_type": "markdown",
   "metadata": {},
   "source": [
    "A single quote within double quotes: (works in R as well)"
   ]
  },
  {
   "cell_type": "code",
   "execution_count": null,
   "metadata": {},
   "outputs": [],
   "source": [
    "nurse_note = \"Patient's temperature is 101 degrees.\"\n",
    "print(nurse_note)"
   ]
  },
  {
   "cell_type": "markdown",
   "metadata": {},
   "source": [
    "Double quotes within single quotes (works in R as well)"
   ]
  },
  {
   "cell_type": "code",
   "execution_count": null,
   "metadata": {},
   "outputs": [],
   "source": [
    "nurse_note1 = 'Patient mentions \"excessive pain\".'\n",
    "print(nurse_note1)"
   ]
  },
  {
   "cell_type": "markdown",
   "metadata": {},
   "source": [
    "Single quote within single quotes errors out. Same behavior in R"
   ]
  },
  {
   "cell_type": "code",
   "execution_count": null,
   "metadata": {},
   "outputs": [],
   "source": [
    "nurse_note2 = 'Patient's temperature is 101 degrees.'"
   ]
  },
  {
   "cell_type": "markdown",
   "metadata": {},
   "source": [
    "An alternative is to use double quotes to enclose the single quote (as above) or to use `\\` to escape. (works in R as well)"
   ]
  },
  {
   "cell_type": "code",
   "execution_count": null,
   "metadata": {},
   "outputs": [],
   "source": [
    "nurse_note2 = 'Patient\\'s temperature is 101 degrees.'"
   ]
  },
  {
   "cell_type": "markdown",
   "metadata": {},
   "source": [
    "Multiline string\n",
    "\n",
    "I am not aware of such a functionality in R"
   ]
  },
  {
   "cell_type": "code",
   "execution_count": null,
   "metadata": {},
   "outputs": [],
   "source": [
    "blog_excerpt = \"\"\"A: \"Generative AI will change everything.\"\n",
    "B: \"I don't agree -- it will change nothing.\"   \n",
    "\n",
    "\"\"\"\n",
    "type(blog_excerpt)"
   ]
  },
  {
   "cell_type": "code",
   "execution_count": null,
   "metadata": {},
   "outputs": [],
   "source": [
    "another_blog_excerpt = \"\"\"\n",
    "A: 'Generative AI will change everything.'\n",
    "B: \"I don't agree -- it will change nothing.\"  \n",
    "\"\"\"\n",
    "\n",
    "#note the mix of single and double quotes in the above example\n",
    "print(another_blog_excerpt)\n"
   ]
  },
  {
   "cell_type": "markdown",
   "metadata": {},
   "source": [
    "## Numeric data types"
   ]
  },
  {
   "cell_type": "markdown",
   "metadata": {},
   "source": [
    "### Integers - `int`"
   ]
  },
  {
   "cell_type": "code",
   "execution_count": null,
   "metadata": {},
   "outputs": [],
   "source": [
    "student_age = 25\n",
    "type(student_age)"
   ]
  },
  {
   "cell_type": "markdown",
   "metadata": {},
   "source": [
    "Note when you execute the above code in on the REPL, this is the output that you see: \n",
    "\n",
    "```\n",
    ">>> student_age = 25\n",
    ">>> type(student_age)\n",
    "<class 'int'>\n",
    "```"
   ]
  },
  {
   "cell_type": "markdown",
   "metadata": {},
   "source": [
    "Note: R defaults to double even when you type an integer. The notation to force R to use integer data type is: \n",
    "\n",
    "```R:\n",
    "> student_age <- 25\n",
    "> class(student_age)\n",
    "[1] \"numeric\"\n",
    "> typeof(student_age)\n",
    "[1] \"double\"\n",
    "> student_age <- 25L\n",
    "> typeof(student_age)\n",
    "[1] \"integer\"\n",
    "> class(student_age)\n",
    "[1] \"integer\"\n",
    "```"
   ]
  },
  {
   "cell_type": "markdown",
   "metadata": {},
   "source": [
    "### Floats - `float`"
   ]
  },
  {
   "cell_type": "code",
   "execution_count": null,
   "metadata": {},
   "outputs": [],
   "source": [
    "student_weight = 167.64\n",
    "type(student_weight)"
   ]
  },
  {
   "cell_type": "markdown",
   "metadata": {},
   "source": [
    "R counter part to `float` is `double` \n",
    "\n",
    "```R\n",
    "> patient_weight = 123.89\n",
    "> class(patient_weight)\n",
    "[1] \"numeric\"\n",
    "> typeof(patient_weight)\n",
    "[1] \"double\"\n",
    "> \n",
    "```"
   ]
  },
  {
   "cell_type": "markdown",
   "metadata": {},
   "source": [
    "### Complex numbers - `complex`"
   ]
  },
  {
   "cell_type": "code",
   "execution_count": null,
   "metadata": {},
   "outputs": [],
   "source": [
    "example_complex_number = 2 + 3j\n",
    "type(example_complex_number)"
   ]
  },
  {
   "cell_type": "markdown",
   "metadata": {},
   "source": [
    "Note: R uses `i` in place of the python `j` in the above code block.\n",
    "```R\n",
    "> complex_nbr_example <- 4 - 2i\n",
    "> typeof(complex_nbr_example)\n",
    "[1] \"complex\"\n",
    "> class(complex_nbr_example)\n",
    "[1] \"complex\"\n",
    "```"
   ]
  },
  {
   "cell_type": "markdown",
   "metadata": {},
   "source": [
    "## Boolean - `bool`"
   ]
  },
  {
   "cell_type": "markdown",
   "metadata": {},
   "source": [
    "Python boolean values are `True` and `False` (c.f., `TRUE` and `FALSE` in R)"
   ]
  },
  {
   "cell_type": "code",
   "execution_count": null,
   "metadata": {},
   "outputs": [],
   "source": [
    "today_is_friday = True\n",
    "today_is_saturday = False\n",
    "type(today_is_friday)"
   ]
  },
  {
   "cell_type": "markdown",
   "metadata": {},
   "source": [
    "Logical operations on boolean values"
   ]
  },
  {
   "cell_type": "code",
   "execution_count": null,
   "metadata": {},
   "outputs": [],
   "source": [
    "True & False"
   ]
  },
  {
   "cell_type": "code",
   "execution_count": null,
   "metadata": {},
   "outputs": [],
   "source": [
    "True and False"
   ]
  },
  {
   "cell_type": "code",
   "execution_count": null,
   "metadata": {},
   "outputs": [],
   "source": [
    "True or False"
   ]
  },
  {
   "cell_type": "code",
   "execution_count": null,
   "metadata": {},
   "outputs": [],
   "source": [
    "True | False"
   ]
  },
  {
   "cell_type": "code",
   "execution_count": null,
   "metadata": {},
   "outputs": [],
   "source": [
    "True + False"
   ]
  },
  {
   "cell_type": "code",
   "execution_count": null,
   "metadata": {},
   "outputs": [],
   "source": [
    "False + False"
   ]
  },
  {
   "cell_type": "markdown",
   "metadata": {},
   "source": [
    "Similar functionalities exist in R:\n",
    "\n",
    "```R\n",
    "> TRUE & FALSE\n",
    "[1] FALSE\n",
    "> TRUE | FALSE\n",
    "[1] TRUE\n",
    "> TRUE + FALSE\n",
    "[1] 1\n",
    "```"
   ]
  },
  {
   "cell_type": "markdown",
   "metadata": {},
   "source": [
    "# Lists"
   ]
  },
  {
   "cell_type": "markdown",
   "metadata": {},
   "source": [
    " - A Python list is an ordered, mutable collection of objects.\n",
    " - Lists can be created using square brackets (`[]`).\n",
    " - Lists can contain objects of any type, including strings, numbers, and other lists.\n",
    " - Among the most widely used python data structures.\n"
   ]
  },
  {
   "cell_type": "markdown",
   "metadata": {},
   "source": [
    "### Creating lists"
   ]
  },
  {
   "cell_type": "code",
   "execution_count": null,
   "metadata": {},
   "outputs": [],
   "source": [
    "list1 = [0, 2, 4, 6, 8]\n",
    "list_of_lists = [list1, ['a', 'b', 'c']]\n",
    "list_of_states = ['Indiana', 'Kentucky', 'Ohio', 'Tennessee']\n",
    "list_of_scores = [99, 85, None, 70, 91]\n",
    "mixed_data_type_list = [99, 85, None, 70, 91, 'Indiana', 'Kentucky',\\\n",
    "                        'Ohio', 'Tennessee', True,[1, 2, 3]]\n",
    "empty_list = []\n",
    "bool_list = [True, False, True, True, False]\n",
    "another_list_of_ints = list((1,2,3))\n"
   ]
  },
  {
   "cell_type": "code",
   "execution_count": null,
   "metadata": {},
   "outputs": [],
   "source": [
    "print(f\"Type of list1 is: {type(list1)}; \\n Type of list_of_lists is: {type(list_of_lists)} \\n\")"
   ]
  },
  {
   "cell_type": "code",
   "execution_count": null,
   "metadata": {},
   "outputs": [],
   "source": [
    "type(bool_list)"
   ]
  },
  {
   "cell_type": "markdown",
   "metadata": {},
   "source": [
    "Lists in R are created using the `list()` function:\n",
    "\n",
    "```\n",
    "R\n",
    "> mixed_data_type_list <- list(99, 85, NA, 70, 91, 'Indiana', 'Kentucky', 'Ohio', 'Tennessee', TRUE, list(1, 2, 3))\n",
    "> class(mixed_data_type_list)\n",
    "[1] \"list\"\n",
    "```"
   ]
  },
  {
   "cell_type": "markdown",
   "metadata": {},
   "source": [
    "We cannot broadcast mathematical operations to all the elements of a list in the following manner (even when all the elements of the list are of some numerical data type) -- similar to R's lists. "
   ]
  },
  {
   "cell_type": "code",
   "execution_count": null,
   "metadata": {},
   "outputs": [],
   "source": [
    "numeric_list = [1, 2, 3, 4, 5]"
   ]
  },
  {
   "cell_type": "code",
   "execution_count": null,
   "metadata": {},
   "outputs": [],
   "source": [
    "numeric_list + 10"
   ]
  },
  {
   "cell_type": "markdown",
   "metadata": {},
   "source": [
    "```R\n",
    "> list(1, 2, 3, 4, 5)\n",
    "[[1]]\n",
    "[1] 1\n",
    "\n",
    "[[2]]\n",
    "[1] 2\n",
    "\n",
    "[[3]]\n",
    "[1] 3\n",
    "\n",
    "[[4]]\n",
    "[1] 4\n",
    "\n",
    "[[5]]\n",
    "[1] 5\n",
    "\n",
    "> list(1, 2, 3, 4, 5)*2\n",
    "Error in list(1, 2, 3, 4, 5) * 2 : \n",
    "  non-numeric argument to binary operator\n",
    "```"
   ]
  },
  {
   "cell_type": "markdown",
   "metadata": {},
   "source": [
    "Caution for R users: the multiplication operator on python lists...\n",
    "\n",
    "When you multiply a list by an integer constant in Python, the list is concatenated with itself by the multiplicative factor. This means that if you multiply a list by 2, you will get a new list that contains the original list twice."
   ]
  },
  {
   "cell_type": "code",
   "execution_count": null,
   "metadata": {},
   "outputs": [],
   "source": [
    "list_of_ints = [1, 2, 3, 4, 5]\n",
    "list_of_ints * 3"
   ]
  },
  {
   "cell_type": "code",
   "execution_count": null,
   "metadata": {},
   "outputs": [],
   "source": [
    "list_of_ints = [1, 2, 3, 4, 5]\n",
    "list_of_ints * 3.2"
   ]
  },
  {
   "cell_type": "markdown",
   "metadata": {},
   "source": [
    "Multiplying list by a non-positive integer returns an empty list"
   ]
  },
  {
   "cell_type": "code",
   "execution_count": null,
   "metadata": {},
   "outputs": [],
   "source": [
    "list_of_ints = [1, 2, 3, 4, 5]\n",
    "list_of_ints * -1"
   ]
  },
  {
   "cell_type": "markdown",
   "metadata": {},
   "source": [
    "This is not just limited to lists by the way"
   ]
  },
  {
   "cell_type": "code",
   "execution_count": null,
   "metadata": {},
   "outputs": [],
   "source": [
    "state_of_residence = 'Kentucky'\n",
    "state_of_residence * 3"
   ]
  },
  {
   "cell_type": "code",
   "execution_count": null,
   "metadata": {},
   "outputs": [],
   "source": [
    "state_of_residence*0"
   ]
  },
  {
   "cell_type": "markdown",
   "metadata": {},
   "source": [
    "### Accessing elements in list"
   ]
  },
  {
   "cell_type": "code",
   "execution_count": null,
   "metadata": {},
   "outputs": [],
   "source": [
    "list_of_states = ['Indiana', 'Kentucky', 'Ohio', 'Tennessee']\n",
    "list_of_states[0] #Access the first element"
   ]
  },
  {
   "cell_type": "markdown",
   "metadata": {},
   "source": [
    "Note to R users: \n",
    "    Python is 0 indexed language vs. R's indexing starting from 1."
   ]
  },
  {
   "cell_type": "code",
   "execution_count": null,
   "metadata": {},
   "outputs": [],
   "source": [
    "list_of_states = ['Indiana', 'Kentucky', 'Ohio', 'Tennessee']\n",
    "print(list_of_states[1]) #Second element is indexed by 1\n",
    "\n"
   ]
  },
  {
   "cell_type": "markdown",
   "metadata": {},
   "source": [
    "Length of the list - i.e, the number of elements in the list"
   ]
  },
  {
   "cell_type": "code",
   "execution_count": null,
   "metadata": {},
   "outputs": [],
   "source": [
    "list_of_states = ['Indiana', 'Kentucky', 'Ohio', 'Tennessee']\n",
    "\n",
    "len(list_of_states)"
   ]
  },
  {
   "cell_type": "code",
   "execution_count": null,
   "metadata": {},
   "outputs": [],
   "source": [
    "list_of_states[len(list_of_states) - 1] \n",
    "#Last element is indexed by len(list_of_states) - 1. In this example it is indexed by 3"
   ]
  },
  {
   "cell_type": "markdown",
   "metadata": {},
   "source": [
    "Last element is indexed by len(list_of_states) - 1. In this example it is indexed by 3"
   ]
  },
  {
   "cell_type": "code",
   "execution_count": null,
   "metadata": {},
   "outputs": [],
   "source": [
    "list_of_states = ['Indiana', 'Kentucky', 'Ohio', 'Tennessee']\n",
    "list_of_states[3] #Last element is indexed by 3\n",
    "print(f\"The last element of list_of_states is: {list_of_states[len(list_of_states) - 1]}. It is indexed by {len(list_of_states) - 1}.\")"
   ]
  },
  {
   "cell_type": "markdown",
   "metadata": {},
   "source": [
    "What happens if we use an index value of 4? We will get index out of range error since this vector does not have a 5th element."
   ]
  },
  {
   "cell_type": "code",
   "execution_count": null,
   "metadata": {},
   "outputs": [],
   "source": [
    "list_of_states = ['Indiana', 'Kentucky', 'Ohio', 'Tennessee']\n",
    "list_of_states[4] "
   ]
  },
  {
   "cell_type": "markdown",
   "metadata": {},
   "source": [
    "Accessing elements of R list:\n",
    "\n",
    "```R\n",
    "> list_of_states <- list('Indiana', 'Kentucky', 'Ohio', 'Tennessee')\n",
    "> list_of_states[1] # First element\n",
    "[[1]]\n",
    "[1] \"Indiana\"\n",
    "\n",
    "> list_of_states[2] # Second element\n",
    "[[1]]\n",
    "[1] \"Kentucky\"\n",
    "\n",
    "> length(list_of_states) # Length of list - number of elements\n",
    "[1] 4\n",
    "> list_of_states[length(list_of_states)] # Last element\n",
    "[[1]]\n",
    "[1] \"Tennessee\"\n",
    "\n",
    "> list_of_states[4] # Last element for this example\n",
    "[[1]]\n",
    "[1] \"Tennessee\"\n",
    "```"
   ]
  },
  {
   "cell_type": "markdown",
   "metadata": {},
   "source": [
    "Negative indexing has different behavior between R and Python"
   ]
  },
  {
   "cell_type": "markdown",
   "metadata": {},
   "source": [
    "\n",
    "Negative indexing in Python is a way to access elements of a sequence (such as a list, a string, or a tuple) from the end, using negative numbers as indexes.\n",
    "\n",
    "The index of the last element in a sequence is -1, the index of the second last element is -2, and so on."
   ]
  },
  {
   "cell_type": "code",
   "execution_count": null,
   "metadata": {},
   "outputs": [],
   "source": [
    "list_of_states = ['Indiana', 'Kentucky', 'Ohio', 'Tennessee']\n",
    "list_of_states[-1] #Last element is indexed by -1"
   ]
  },
  {
   "cell_type": "code",
   "execution_count": null,
   "metadata": {},
   "outputs": [],
   "source": [
    "list_of_states[-2] #Second to last element is indexed by -2"
   ]
  },
  {
   "cell_type": "markdown",
   "metadata": {},
   "source": [
    "Negative indexing in R has the effect of removing elements\n",
    "\n",
    "```R\n",
    "> list_of_states <- list('Indiana', 'Kentucky', 'Ohio', 'Tennessee')\n",
    "> list_of_states[-1] # removes the first element\n",
    "[[1]]\n",
    "[1] \"Kentucky\"\n",
    "\n",
    "[[2]]\n",
    "[1] \"Ohio\"\n",
    "\n",
    "[[3]]\n",
    "[1] \"Tennessee\"\n",
    "```"
   ]
  },
  {
   "cell_type": "markdown",
   "metadata": {},
   "source": [
    "Combining the elements of two lists to create another list"
   ]
  },
  {
   "cell_type": "code",
   "execution_count": null,
   "metadata": {},
   "outputs": [],
   "source": [
    "weekdays = ['Monday', 'Tuesday', 'Wednesday', 'Thursday', 'Friday']\n",
    "weekenddays = ['Saturday', 'Sunday']\n"
   ]
  },
  {
   "cell_type": "markdown",
   "metadata": {},
   "source": [
    "`+` operator concatenates elements of multiple lists into one"
   ]
  },
  {
   "cell_type": "code",
   "execution_count": null,
   "metadata": {},
   "outputs": [],
   "source": [
    "daysofweek = weekdays + weekenddays\n",
    "print(daysofweek)"
   ]
  },
  {
   "cell_type": "markdown",
   "metadata": {},
   "source": [
    "You can also unpack elements of a list using starred expression. "
   ]
  },
  {
   "cell_type": "code",
   "execution_count": null,
   "metadata": {},
   "outputs": [],
   "source": [
    "days_of_week = [*weekdays, *weekenddays]\n",
    "print(days_of_week)"
   ]
  },
  {
   "cell_type": "markdown",
   "metadata": {},
   "source": [
    "Combine two or more lists using the `extend` **method**"
   ]
  },
  {
   "cell_type": "code",
   "execution_count": null,
   "metadata": {},
   "outputs": [],
   "source": [
    "weekdays.extend(weekenddays)"
   ]
  },
  {
   "cell_type": "code",
   "execution_count": null,
   "metadata": {},
   "outputs": [],
   "source": [
    "weekdays"
   ]
  },
  {
   "cell_type": "markdown",
   "metadata": {},
   "source": [
    "Note that `extend` modified the first list (`weekdays` in this example) by appending all the elements of the second list to it."
   ]
  },
  {
   "cell_type": "markdown",
   "metadata": {},
   "source": [
    "Let's now remove the last item using `pop` method"
   ]
  },
  {
   "cell_type": "code",
   "execution_count": null,
   "metadata": {},
   "outputs": [],
   "source": [
    "weekdays.pop()"
   ]
  },
  {
   "cell_type": "code",
   "execution_count": null,
   "metadata": {},
   "outputs": [],
   "source": [
    "print(weekdays)"
   ]
  },
  {
   "cell_type": "code",
   "execution_count": null,
   "metadata": {},
   "outputs": [],
   "source": [
    "help(weekdays.pop)"
   ]
  },
  {
   "cell_type": "code",
   "execution_count": null,
   "metadata": {},
   "outputs": [],
   "source": [
    "weekdays"
   ]
  },
  {
   "cell_type": "markdown",
   "metadata": {},
   "source": [
    "Let's also remove the element 'Saturday' so that `weekdays` list only includes days from Monday to Friday.  "
   ]
  },
  {
   "cell_type": "code",
   "execution_count": null,
   "metadata": {},
   "outputs": [],
   "source": [
    "del(weekdays[-1])"
   ]
  },
  {
   "cell_type": "code",
   "execution_count": null,
   "metadata": {},
   "outputs": [],
   "source": [
    "print(weekdays)"
   ]
  },
  {
   "cell_type": "code",
   "execution_count": null,
   "metadata": {},
   "outputs": [],
   "source": [
    "help(\"del\")"
   ]
  },
  {
   "cell_type": "markdown",
   "metadata": {},
   "source": [
    "We used the `del` function this time. \n",
    "\n",
    "Note the way the _function_ `del` was called vs. the _method_ `.pop` was applied on the list `weekdays`."
   ]
  },
  {
   "cell_type": "markdown",
   "metadata": {},
   "source": [
    "**Methods vs. Functions**\n",
    "  - Methods are associated with class of objects. The method `pop` is associated with the class of objects (list in this example). We cannot call the method pop as a standalone function. `pop(weekdays)` will result in an error - see below. \n",
    "  - Functions need not be associated with a class of objects. \n",
    "  - Calling a method requires use of the `.` notation: `[object_name][.][method_name()]`\n",
    "\n",
    "There is more to the differences between methods and functions, but we will stop here since this is an introductory course and we will not delve into object oriented programming."
   ]
  },
  {
   "cell_type": "code",
   "execution_count": null,
   "metadata": {},
   "outputs": [],
   "source": [
    "pop(weekdays)"
   ]
  },
  {
   "cell_type": "markdown",
   "metadata": {},
   "source": [
    "Sorting python lists"
   ]
  },
  {
   "cell_type": "code",
   "execution_count": null,
   "metadata": {},
   "outputs": [],
   "source": [
    "list_of_student_grades = [99, 85, 79, 91, 88, 93, 98, 95, 79, 93]\n",
    "print(list_of_student_grades)"
   ]
  },
  {
   "cell_type": "markdown",
   "metadata": {},
   "source": [
    "Apply sort() method"
   ]
  },
  {
   "cell_type": "code",
   "execution_count": null,
   "metadata": {},
   "outputs": [],
   "source": [
    "list_of_student_grades.sort()"
   ]
  },
  {
   "cell_type": "code",
   "execution_count": null,
   "metadata": {},
   "outputs": [],
   "source": [
    "print(list_of_student_grades)"
   ]
  },
  {
   "cell_type": "markdown",
   "metadata": {},
   "source": [
    "When the original unsorted list has to be preserved, a copy of the list can be made to which the `sort()` method is applied"
   ]
  },
  {
   "cell_type": "code",
   "execution_count": null,
   "metadata": {},
   "outputs": [],
   "source": [
    "list_of_student_grades = [99, 85, 79, 91, 88, 93, 98, 95, 79, 93]\n",
    "list_of_student_grades_copy = list_of_student_grades.copy()\n",
    "list_of_student_grades_copy.sort(reverse = True)"
   ]
  },
  {
   "cell_type": "code",
   "execution_count": null,
   "metadata": {},
   "outputs": [],
   "source": [
    "print(list_of_student_grades_copy)"
   ]
  },
  {
   "cell_type": "code",
   "execution_count": null,
   "metadata": {},
   "outputs": [],
   "source": [
    "print(list_of_student_grades)"
   ]
  },
  {
   "cell_type": "markdown",
   "metadata": {},
   "source": [
    "An alternative approach is to use the _function_ `sorted`"
   ]
  },
  {
   "cell_type": "code",
   "execution_count": null,
   "metadata": {},
   "outputs": [],
   "source": [
    "help(sorted)"
   ]
  },
  {
   "cell_type": "code",
   "execution_count": null,
   "metadata": {},
   "outputs": [],
   "source": [
    "list_of_student_grades = [99, 85, 79, 91, 88, 93, 98, 95, 79, 93]\n",
    "sorted_list_of_student_grades = sorted(list_of_student_grades)\n",
    "print(sorted_list_of_student_grades)"
   ]
  },
  {
   "cell_type": "markdown",
   "metadata": {},
   "source": [
    "Note application of the method `.sort()` modified the original list. This is different from how R behaves: \n",
    "\n",
    "```R\n",
    "> list_of_student_grades <- list(99, 85, 79, 91, 88, 93, 98, 95, 79, 93)\n",
    "> sort(list_of_student_grades)\n",
    "Error in sort.int(x, na.last = na.last, decreasing = decreasing, ...) : \n",
    "  'x' must be atomic\n",
    "> list_of_student_grades <- c(99, 85, 79, 91, 88, 93, 98, 95, 79, 93)\n",
    "> sort(list_of_student_grades)\n",
    " [1] 79 79 85 88 91 93 93 95 98 99\n",
    "> print(list_of_student_grades)\n",
    " [1] 99 85 79 91 88 93 98 95 79 93\n",
    "> \n",
    "```"
   ]
  },
  {
   "cell_type": "markdown",
   "metadata": {},
   "source": [
    "Not all python lists are sortable:"
   ]
  },
  {
   "cell_type": "code",
   "execution_count": null,
   "metadata": {},
   "outputs": [],
   "source": [
    "mixed_data_type_list = [99, 85, None, 70, 91, 'Indiana', 'Kentucky', 'Ohio', 'Tennessee', True,[1, 2, 3]]\n",
    "sorted(mixed_data_type_list)"
   ]
  },
  {
   "cell_type": "code",
   "execution_count": null,
   "metadata": {},
   "outputs": [],
   "source": [
    "mixed_data_type_list.sort()"
   ]
  },
  {
   "cell_type": "markdown",
   "metadata": {},
   "source": [
    "### Slicing"
   ]
  },
  {
   "cell_type": "markdown",
   "metadata": {},
   "source": [
    "```python\n",
    "list_a = [1, 2, 3, 4, 5, 6]\n",
    "          0  1  2  3  4  5   <-  index numbers\n",
    "```"
   ]
  },
  {
   "cell_type": "markdown",
   "metadata": {},
   "source": [
    "```python\n",
    " list_a[2:5]\n",
    "```\n",
    "Returns the 3rd (indexed by 2), 4th (indexed by 3), and 5th (indexed by 4) elements of the list. \n",
    "\n",
    "The slicing `2:5` includes all elements starting from the 2nd index value to the 4th. \n",
    "When you see `2:5`  think of left inclusive, right exclusive [2,5)"
   ]
  },
  {
   "cell_type": "code",
   "execution_count": null,
   "metadata": {},
   "outputs": [],
   "source": [
    "list_a = [1, 2, 3, 4, 5, 6]\n",
    "list_a[2:5]"
   ]
  },
  {
   "cell_type": "markdown",
   "metadata": {},
   "source": [
    "```python\n",
    "list_a = [1 , 2, 3, 4, 5, 6]\n",
    "         -6  -5 -4 -3 -2 -1   <- negative index numbers\n",
    "```"
   ]
  },
  {
   "cell_type": "code",
   "execution_count": null,
   "metadata": {},
   "outputs": [],
   "source": [
    "list_a = [1, 2, 3, 4, 5, 6]\n",
    "list_a[-5:-2] #including -5, excluding -2 index values. "
   ]
  },
  {
   "cell_type": "code",
   "execution_count": null,
   "metadata": {},
   "outputs": [],
   "source": [
    "list_a = [1, 2, 3, 4, 5, 6]\n",
    "list_a[:]"
   ]
  },
  {
   "cell_type": "code",
   "execution_count": null,
   "metadata": {},
   "outputs": [],
   "source": [
    "list_a = [1, 2, 3, 4, 5, 6]\n",
    "list_a[3:]"
   ]
  },
  {
   "cell_type": "code",
   "execution_count": null,
   "metadata": {},
   "outputs": [],
   "source": [
    "list_a = [1, 2, 3, 4, 5, 6]\n",
    "list_a[-3:]"
   ]
  },
  {
   "cell_type": "markdown",
   "metadata": {},
   "source": [
    "Python lists are mutable (i.e., modifiable after creation). e.g., `.pop` and `del` applications illustrate the mutability of lists. So does the following code which alters 4th (indexed by 3) value of a list"
   ]
  },
  {
   "cell_type": "code",
   "execution_count": null,
   "metadata": {},
   "outputs": [],
   "source": [
    "list_a = [1, 2, 3, 4, 5, 6]\n",
    "list_a[3] = 99\n",
    "print(list_a)"
   ]
  },
  {
   "cell_type": "markdown",
   "metadata": {},
   "source": [
    "# Tuples"
   ]
  },
  {
   "cell_type": "markdown",
   "metadata": {},
   "source": [
    "Tuples are a data type in Python that are similar to **lists**, but they are immutable, meaning that they cannot be changed once they are created. This makes them useful for storing data that needs to be protected from accidental modification, to pass data to functions as arguments  (so function cannot modify the data) or to return multiple values from a function. "
   ]
  },
  {
   "cell_type": "markdown",
   "metadata": {},
   "source": [
    "Creating tuples"
   ]
  },
  {
   "cell_type": "code",
   "execution_count": null,
   "metadata": {},
   "outputs": [],
   "source": [
    "#comma separated objects inside brackets\n",
    "quarter_1_months = ('January', 'February', 'March')\n",
    "\n",
    "#brackets are optional: typically used as return values from functions\n",
    "quarter_2_months = 'April', 'May', 'June'\n",
    "\n",
    "#apply tuple function to a list input\n",
    "quarter_3_months = tuple(['July', 'August', 'September'])\n",
    "\n",
    "#like lists, tuples can contain mixed data types\n",
    "mixed_data_type_tuple = (99, 85, None, True,[1, 2, 3])"
   ]
  },
  {
   "cell_type": "code",
   "execution_count": null,
   "metadata": {},
   "outputs": [],
   "source": [
    "type(quarter_3_months), type(quarter_2_months), type(quarter_1_months), type(mixed_data_type_tuple)"
   ]
  },
  {
   "cell_type": "code",
   "execution_count": null,
   "metadata": {},
   "outputs": [],
   "source": [
    "mixed_data_type_tuple[2] = 76 #tuple is immutable"
   ]
  },
  {
   "cell_type": "markdown",
   "metadata": {},
   "source": [
    "We can change tuples to lists using `list()` function"
   ]
  },
  {
   "cell_type": "code",
   "execution_count": null,
   "metadata": {},
   "outputs": [],
   "source": [
    "quarter_4_months = ('October', 'November', 'December')\n",
    "type(quarter_4_months)"
   ]
  },
  {
   "cell_type": "code",
   "execution_count": null,
   "metadata": {},
   "outputs": [],
   "source": [
    "quarter_4_mths_list = list(quarter_4_months)\n",
    "type(quarter_4_mths_list)"
   ]
  },
  {
   "cell_type": "markdown",
   "metadata": {},
   "source": [
    "Much of the operations we covered earlier (expect those that modify lists) apply for tuples"
   ]
  },
  {
   "cell_type": "code",
   "execution_count": null,
   "metadata": {},
   "outputs": [],
   "source": [
    "months_of_year = quarter_1_months + quarter_2_months + quarter_3_months + quarter_4_months\n",
    "print(months_of_year)"
   ]
  },
  {
   "cell_type": "markdown",
   "metadata": {},
   "source": [
    "Slice every other month starting with January"
   ]
  },
  {
   "cell_type": "code",
   "execution_count": null,
   "metadata": {},
   "outputs": [],
   "source": [
    "months_of_year[0::2]"
   ]
  },
  {
   "cell_type": "markdown",
   "metadata": {},
   "source": [
    "The slicing logic in the expression `months_of_year[0::2]`:\n",
    " - Start index: 0\n",
    " - Stop index: Omitted, meaning that the slicing will go to the end of the tuple.\n",
    " - Step size: 2. This means that the slicing will start at the first element (index 0) and go to the end of the tuple, taking every other element (step size of 2)."
   ]
  },
  {
   "cell_type": "markdown",
   "metadata": {},
   "source": [
    "# Sets"
   ]
  },
  {
   "cell_type": "markdown",
   "metadata": {},
   "source": [
    "Sets\n",
    "\n",
    "Python sets are **unordered**, **mutable** collections of **unique** elements. "
   ]
  },
  {
   "cell_type": "code",
   "execution_count": null,
   "metadata": {},
   "outputs": [],
   "source": [
    "students_end_of_year_grades = ('A', 'B', 'C', 'D', 'A', 'D', 'B', 'F', 'C', 'D', 'A', 'B')\n",
    "len(students_end_of_year_grades)"
   ]
  },
  {
   "cell_type": "code",
   "execution_count": null,
   "metadata": {},
   "outputs": [],
   "source": [
    "set(students_end_of_year_grades)"
   ]
  },
  {
   "cell_type": "code",
   "execution_count": null,
   "metadata": {},
   "outputs": [],
   "source": [
    "set_b = {'a', 'd', 1, True, None}"
   ]
  },
  {
   "cell_type": "code",
   "execution_count": null,
   "metadata": {},
   "outputs": [],
   "source": [
    "len(set_b), type(set_b)"
   ]
  },
  {
   "cell_type": "code",
   "execution_count": null,
   "metadata": {},
   "outputs": [],
   "source": [
    "students_end_of_year_grades = ('A', 'B', 'C', 'A', 'A', 'C', 'B', 'F', 'C', 'C', 'A', 'B')\n",
    "set(students_end_of_year_grades)"
   ]
  },
  {
   "cell_type": "markdown",
   "metadata": {},
   "source": [
    "Find unique grades and number of times they occur"
   ]
  },
  {
   "cell_type": "code",
   "execution_count": null,
   "metadata": {},
   "outputs": [],
   "source": [
    "unique_grades = set(students_end_of_year_grades)\n",
    "print(unique_grades)"
   ]
  },
  {
   "cell_type": "code",
   "execution_count": null,
   "metadata": {},
   "outputs": [],
   "source": [
    "unique_grades.add('D')"
   ]
  },
  {
   "cell_type": "code",
   "execution_count": null,
   "metadata": {},
   "outputs": [],
   "source": [
    "print(unique_grades) # They are mutable"
   ]
  },
  {
   "cell_type": "code",
   "execution_count": null,
   "metadata": {},
   "outputs": [],
   "source": [
    "A = {1, 2, 3, 4, 5}\n",
    "B = {3, 4, 5, 6, 7}\n",
    "A & B, A.intersection(B)"
   ]
  },
  {
   "cell_type": "code",
   "execution_count": null,
   "metadata": {},
   "outputs": [],
   "source": [
    "A | B, A.union(B)"
   ]
  },
  {
   "cell_type": "code",
   "execution_count": null,
   "metadata": {},
   "outputs": [],
   "source": [
    "A - B, A.difference(B)"
   ]
  },
  {
   "cell_type": "code",
   "execution_count": null,
   "metadata": {},
   "outputs": [],
   "source": [
    "B - A, B.difference(A)"
   ]
  },
  {
   "cell_type": "code",
   "execution_count": null,
   "metadata": {},
   "outputs": [],
   "source": [
    "A ^ B, A.symmetric_difference(B)"
   ]
  },
  {
   "cell_type": "code",
   "execution_count": null,
   "metadata": {},
   "outputs": [],
   "source": [
    "A < B # A is a proper subset of B?"
   ]
  },
  {
   "cell_type": "code",
   "execution_count": null,
   "metadata": {},
   "outputs": [],
   "source": [
    "A <= B # A is a subset of B?"
   ]
  },
  {
   "cell_type": "markdown",
   "metadata": {},
   "source": [
    "|  | Python list | Tuple | Set |\n",
    "|---|---|---|---|\n",
    "| Mutability | Mutable | Immutable | Mutable |\n",
    "| Order | Ordered | Ordered | Unordered |\n",
    "| Uniqueness | Allows duplicate elements | Allows duplicate elements | Does not allow duplicate elements |\n"
   ]
  },
  {
   "cell_type": "markdown",
   "metadata": {},
   "source": [
    "# Ranges - `range`"
   ]
  },
  {
   "cell_type": "markdown",
   "metadata": {},
   "source": [
    "The range() function in Python is used to generate a sequence of numbers. The sequence starts at 0 by default, and increments by 1 by default. The range() function takes up to three arguments:\n",
    "\n",
    "    start: The start index of the sequence.\n",
    "    stop: The stop index of the sequence. The stop index is not included in the sequence.\n",
    "    step: The step size of the sequence."
   ]
  },
  {
   "cell_type": "code",
   "execution_count": null,
   "metadata": {},
   "outputs": [],
   "source": [
    "range(10)"
   ]
  },
  {
   "cell_type": "code",
   "execution_count": null,
   "metadata": {},
   "outputs": [],
   "source": [
    "type(range(10))"
   ]
  },
  {
   "cell_type": "code",
   "execution_count": null,
   "metadata": {},
   "outputs": [],
   "source": [
    "# typically used while creating \"for loops\":\n",
    "for i in range(10):\n",
    "    print(i)"
   ]
  },
  {
   "cell_type": "markdown",
   "metadata": {},
   "source": [
    "The range() function is a powerful tool for generating sequences of numbers in Python. It can be used for a variety of tasks, such as iterating over a list, creating a range of numbers for a plot, etc."
   ]
  },
  {
   "cell_type": "markdown",
   "metadata": {},
   "source": [
    "R analogue is seq()\n",
    "\n",
    "```R\n",
    "> seq(10)\n",
    " [1]  1  2  3  4  5  6  7  8  9 10\n",
    "\n",
    "#for loop in R\n",
    "> for (i in seq(10) ){\n",
    "+   print(i)\n",
    "+ }\n",
    "[1] 1\n",
    "[1] 2\n",
    "[1] 3\n",
    "[1] 4\n",
    "[1] 5\n",
    "[1] 6\n",
    "[1] 7\n",
    "[1] 8\n",
    "[1] 9\n",
    "[1] 10\n",
    "> \n",
    "```"
   ]
  },
  {
   "cell_type": "code",
   "execution_count": null,
   "metadata": {},
   "outputs": [],
   "source": [
    "help(range)"
   ]
  },
  {
   "cell_type": "markdown",
   "metadata": {},
   "source": [
    "a sequence of integers from start (inclusive) to stop (exclusive) by step"
   ]
  },
  {
   "cell_type": "code",
   "execution_count": null,
   "metadata": {},
   "outputs": [],
   "source": [
    "for r in range(0, 10, 2): #\n",
    "    print(r)"
   ]
  },
  {
   "cell_type": "markdown",
   "metadata": {},
   "source": [
    "## NoneType - `None`"
   ]
  },
  {
   "cell_type": "markdown",
   "metadata": {},
   "source": [
    "The None type in Python is a special data type that represents the absence of a value. The None type is often used to represent missing values or empty data structures. For example, the value of a variable that has not been assigned a value yet, or to represent the value of an element in a list that is not present. The None type is also often used as the default return value for functions"
   ]
  },
  {
   "cell_type": "code",
   "execution_count": null,
   "metadata": {},
   "outputs": [],
   "source": []
  },
  {
   "cell_type": "code",
   "execution_count": null,
   "metadata": {},
   "outputs": [],
   "source": [
    "here_goes_nothing = None\n",
    "type(here_goes_nothing)"
   ]
  },
  {
   "cell_type": "code",
   "execution_count": null,
   "metadata": {},
   "outputs": [],
   "source": [
    "list_with_none_element = [1, 2, 3, None]\n",
    "type(list_with_none_element)"
   ]
  },
  {
   "cell_type": "code",
   "execution_count": null,
   "metadata": {},
   "outputs": [],
   "source": [
    "print(list_with_none_element[3])"
   ]
  },
  {
   "cell_type": "code",
   "execution_count": null,
   "metadata": {},
   "outputs": [],
   "source": [
    "list_with_none_element[3] == None"
   ]
  },
  {
   "cell_type": "code",
   "execution_count": null,
   "metadata": {},
   "outputs": [],
   "source": [
    "list_with_none_element[3] is None"
   ]
  },
  {
   "cell_type": "markdown",
   "metadata": {},
   "source": [
    "# Comparing values (comparison operators)"
   ]
  },
  {
   "cell_type": "markdown",
   "metadata": {},
   "source": [
    "Comparison operators: \n",
    "\n",
    "    - Less than ( < )\n",
    "    - Less than or equal to (<=)\n",
    "    - Greater than (>)\n",
    "    - Greater than or equal to (>=)\n",
    "    - Equal to ( == )\n",
    "    - Not equal to ( != )"
   ]
  },
  {
   "cell_type": "code",
   "execution_count": null,
   "metadata": {},
   "outputs": [],
   "source": [
    "x = 10\n",
    "y = 23\n",
    "x == y"
   ]
  },
  {
   "cell_type": "code",
   "execution_count": null,
   "metadata": {},
   "outputs": [],
   "source": [
    "x < y"
   ]
  },
  {
   "cell_type": "code",
   "execution_count": null,
   "metadata": {},
   "outputs": [],
   "source": [
    "x >= y"
   ]
  },
  {
   "cell_type": "code",
   "execution_count": null,
   "metadata": {},
   "outputs": [],
   "source": [
    "x <= y"
   ]
  },
  {
   "cell_type": "code",
   "execution_count": null,
   "metadata": {},
   "outputs": [],
   "source": [
    "x = 10\n",
    "y = 10\n",
    "x == y"
   ]
  },
  {
   "cell_type": "markdown",
   "metadata": {},
   "source": [
    "Comparison operators on strings"
   ]
  },
  {
   "cell_type": "code",
   "execution_count": null,
   "metadata": {},
   "outputs": [],
   "source": [
    "x = 'bear'; y = 'pear'; z = 'apple'\n"
   ]
  },
  {
   "cell_type": "code",
   "execution_count": null,
   "metadata": {},
   "outputs": [],
   "source": [
    "x == y"
   ]
  },
  {
   "cell_type": "code",
   "execution_count": null,
   "metadata": {},
   "outputs": [],
   "source": [
    "y >= x #true since p comes after b in the alphabet"
   ]
  },
  {
   "cell_type": "code",
   "execution_count": null,
   "metadata": {},
   "outputs": [],
   "source": [
    "pear = 'pear'\n",
    "Pear = 'Pear'\n",
    "pear > Pear, pear < Pear, pear == Pear"
   ]
  },
  {
   "cell_type": "markdown",
   "metadata": {},
   "source": [
    "Python uses ASCIIbetical order -  uppercase letters come before lowercase letters. This is because uppercase letters have lower ASCII codes than lowercase letters. For example, the ASCII code for the uppercase letter \"A\" is 65, while the ASCII code for the lowercase letter \"a\" is 97."
   ]
  },
  {
   "cell_type": "code",
   "execution_count": null,
   "metadata": {},
   "outputs": [],
   "source": [
    "pear = 'pear'\n",
    "Pear = 'Pear'\n",
    "print(Pear.lower()) #converts Pear to lower case\n",
    "\n"
   ]
  },
  {
   "cell_type": "code",
   "execution_count": null,
   "metadata": {},
   "outputs": [],
   "source": [
    "pear.lower() == Pear.lower()"
   ]
  },
  {
   "cell_type": "markdown",
   "metadata": {},
   "source": [
    "Care when comparing floats"
   ]
  },
  {
   "cell_type": "code",
   "execution_count": null,
   "metadata": {},
   "outputs": [],
   "source": [
    "x = 1.2\n",
    "y = 2.2 - 1\n",
    "x == y"
   ]
  },
  {
   "cell_type": "code",
   "execution_count": null,
   "metadata": {},
   "outputs": [],
   "source": [
    "print(x)"
   ]
  },
  {
   "cell_type": "code",
   "execution_count": null,
   "metadata": {},
   "outputs": [],
   "source": [
    "print(y)"
   ]
  },
  {
   "cell_type": "markdown",
   "metadata": {},
   "source": [
    " It is important to use either the round() function or libraries such as NumPy when comparing floats. This is because floating-point numbers are not represented exactly in computers. Instead, they are represented using a finite number of bits, which can lead to rounding errors."
   ]
  },
  {
   "cell_type": "code",
   "execution_count": null,
   "metadata": {},
   "outputs": [],
   "source": [
    "x = 1.2\n",
    "y = 2.2 - 1\n",
    "x == y"
   ]
  },
  {
   "cell_type": "code",
   "execution_count": null,
   "metadata": {},
   "outputs": [],
   "source": [
    "round(x, 4) == round(y, 4)"
   ]
  },
  {
   "cell_type": "markdown",
   "metadata": {},
   "source": [
    "Next notebook..... NumPy"
   ]
  }
 ],
 "metadata": {
  "kernelspec": {
   "display_name": "Python 3 (ipykernel)",
   "language": "python",
   "name": "python3"
  },
  "language_info": {
   "codemirror_mode": {
    "name": "ipython",
    "version": 3
   },
   "file_extension": ".py",
   "mimetype": "text/x-python",
   "name": "python",
   "nbconvert_exporter": "python",
   "pygments_lexer": "ipython3",
   "version": "3.11.3"
  }
 },
 "nbformat": 4,
 "nbformat_minor": 4
}
